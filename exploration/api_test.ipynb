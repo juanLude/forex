{
 "cells": [
  {
   "cell_type": "code",
   "execution_count": 42,
   "id": "8cdfcc77-9439-4374-8556-e94a15e2131b",
   "metadata": {},
   "outputs": [],
   "source": [
    "import requests\n",
    "import pandas as pd\n",
    "import json \n",
    "from dateutil import parser"
   ]
  },
  {
   "cell_type": "code",
   "execution_count": 43,
   "id": "d8dfb45e-f5b5-4518-a32b-80ea23d0f384",
   "metadata": {},
   "outputs": [],
   "source": [
    "API_KEY= \"7203735f4489a07b1fdaa82e0825b643-037a13c8ecd863561ee2fb38166bda77\"\n",
    "ACCOUNT_ID = \"101-011-28651499-001\"\n",
    "OANDA_URL = \"https://api-fxpractice.oanda.com/v3\""
   ]
  },
  {
   "cell_type": "code",
   "execution_count": 44,
   "id": "58fb0b48-0975-4b1a-bead-7f267a5318e5",
   "metadata": {},
   "outputs": [],
   "source": [
    "session = requests.Session()"
   ]
  },
  {
   "cell_type": "code",
   "execution_count": 45,
   "id": "8619b8d4-5df8-4cf5-9506-915212b5491e",
   "metadata": {},
   "outputs": [],
   "source": [
    "session.headers.update({\n",
    "    \"Authorization\": f\"Bearer {API_KEY}\",\n",
    "    \"Content-Type\": \"application/json\"\n",
    "})"
   ]
  },
  {
   "cell_type": "code",
   "execution_count": 46,
   "id": "97d601e2-d589-46cb-87dd-5acd784395f3",
   "metadata": {},
   "outputs": [],
   "source": [
    "params = dict(\n",
    "    count = 10,\n",
    "    granularity=\"H1\",\n",
    "    price=\"MBA\"\n",
    ")"
   ]
  },
  {
   "cell_type": "code",
   "execution_count": 47,
   "id": "fc5c2f99-33ea-46db-9b28-cfb57ce678f2",
   "metadata": {},
   "outputs": [],
   "source": [
    "url = f\"{OANDA_URL}/accounts/{ACCOUNT_ID}/instruments\""
   ]
  },
  {
   "cell_type": "code",
   "execution_count": 48,
   "id": "65e45fa0-a6dd-4534-9843-bdd62e5c1d6e",
   "metadata": {},
   "outputs": [],
   "source": [
    "response =session.get(url,params=None, data=None,headers=None)"
   ]
  },
  {
   "cell_type": "code",
   "execution_count": 49,
   "id": "2069e7d5-cc27-47b2-aa11-e23f63c77bb1",
   "metadata": {
    "scrolled": true
   },
   "outputs": [
    {
     "data": {
      "text/plain": [
       "200"
      ]
     },
     "execution_count": 49,
     "metadata": {},
     "output_type": "execute_result"
    }
   ],
   "source": [
    "response.status_code\n"
   ]
  },
  {
   "cell_type": "code",
   "execution_count": 50,
   "id": "cb8e66e3-a193-42d6-9492-9b2e8f8f0d66",
   "metadata": {},
   "outputs": [],
   "source": [
    "data = response.json()"
   ]
  },
  {
   "cell_type": "code",
   "execution_count": 51,
   "id": "5d2d129f-be59-4462-869c-78cd14f7469d",
   "metadata": {},
   "outputs": [],
   "source": [
    "instruments_list = data['instruments']"
   ]
  },
  {
   "cell_type": "code",
   "execution_count": 52,
   "id": "3eec8b29-c06d-4dd7-bc71-bd542fed2762",
   "metadata": {},
   "outputs": [
    {
     "data": {
      "text/plain": [
       "127"
      ]
     },
     "execution_count": 52,
     "metadata": {},
     "output_type": "execute_result"
    }
   ],
   "source": [
    "len(instruments_list)"
   ]
  },
  {
   "cell_type": "code",
   "execution_count": 53,
   "id": "c22917a7-3600-4d9d-8458-c0205159bfc2",
   "metadata": {},
   "outputs": [
    {
     "data": {
      "text/plain": [
       "dict_keys(['name', 'type', 'displayName', 'pipLocation', 'displayPrecision', 'tradeUnitsPrecision', 'minimumTradeSize', 'maximumTrailingStopDistance', 'minimumTrailingStopDistance', 'maximumPositionSize', 'maximumOrderUnits', 'marginRate', 'guaranteedStopLossOrderMode', 'tags', 'financing'])"
      ]
     },
     "execution_count": 53,
     "metadata": {},
     "output_type": "execute_result"
    }
   ],
   "source": [
    "instruments_list[0].keys()"
   ]
  },
  {
   "cell_type": "code",
   "execution_count": 54,
   "id": "5fd5414f-5a22-45f4-95f5-7e298fc65114",
   "metadata": {},
   "outputs": [],
   "source": [
    "key_i = ['name', 'type', 'displayName', 'pipLocation', 'displayPrecision', 'tradeUnitsPrecision','marginRate']"
   ]
  },
  {
   "cell_type": "code",
   "execution_count": 55,
   "id": "ce4f222e-b93a-45a5-a5c9-7e3c7945c23a",
   "metadata": {},
   "outputs": [],
   "source": [
    "instruments_dict = {}"
   ]
  },
  {
   "cell_type": "code",
   "execution_count": 56,
   "id": "b747942b-557e-498e-ab3d-eb0e39113f86",
   "metadata": {},
   "outputs": [],
   "source": [
    "for i in instruments_list: \n",
    "    key = i['name']\n",
    "    instruments_dict[key] = { k: i[k] for k in key_i}"
   ]
  },
  {
   "cell_type": "code",
   "execution_count": 57,
   "id": "ea7a4087-3c23-4b38-b49e-935ef8be1943",
   "metadata": {},
   "outputs": [
    {
     "data": {
      "text/plain": [
       "{'name': 'USD_CAD',\n",
       " 'type': 'CURRENCY',\n",
       " 'displayName': 'USD/CAD',\n",
       " 'pipLocation': -4,\n",
       " 'displayPrecision': 5,\n",
       " 'tradeUnitsPrecision': 0,\n",
       " 'marginRate': '0.0333'}"
      ]
     },
     "execution_count": 57,
     "metadata": {},
     "output_type": "execute_result"
    }
   ],
   "source": [
    "instruments_dict['USD_CAD']"
   ]
  },
  {
   "cell_type": "code",
   "execution_count": 58,
   "id": "d6d63dd4-b8b4-4cfc-87b6-94199c952201",
   "metadata": {},
   "outputs": [],
   "source": [
    "with open (\"../data/instruments.json\",\"w\") as f:\n",
    "    f.write(json.dumps(instruments_dict, indent=2))"
   ]
  },
  {
   "cell_type": "code",
   "execution_count": 78,
   "id": "69b31939-f6cf-48ab-afa6-bbed9b943354",
   "metadata": {
    "scrolled": true
   },
   "outputs": [],
   "source": [
    "def fetch_candles(pair_name, count=10, granularity=\"H1\"):\n",
    "    url = f\"{OANDA_URL}/instruments/{pair_name}/candles\"\n",
    "    params = dict(\n",
    "        count = count,\n",
    "        granularity=granularity,\n",
    "        price=\"MBA\"\n",
    "        )\n",
    "    response =session.get(url,params=params, data=None,headers=None)\n",
    "    data = response.json()\n",
    "\n",
    "    if response.status_code == 200:\n",
    "        if 'candles' not in data:\n",
    "            data = []\n",
    "        else:\n",
    "            data = data['candles']\n",
    "    return response.status_code, data\n",
    "\n",
    "def get_candles_df(data):\n",
    "    if len(data) == 0:\n",
    "        return pd.DataFrame()\n",
    "        \n",
    "    prices = ['mid','bid','ask']\n",
    "    ohlc = ['o','h','l','c']   \n",
    "    \n",
    "    final_data = []\n",
    "    for candle in data:\n",
    "        if candle['complete']== False:\n",
    "            continue\n",
    "        new_dict = {}\n",
    "        new_dict['time'] = parser.parse(candle['time'])\n",
    "        new_dict['volume'] = candle['volume']\n",
    "        for p in prices:\n",
    "            for o in ohlc:\n",
    "                new_dict[f\"{p}_{o}\"]= float(candle[p][o])\n",
    "        final_data.append(new_dict)\n",
    "    df = pd.DataFrame.from_dict(final_data)\n",
    "    return df"
   ]
  },
  {
   "cell_type": "code",
   "execution_count": 60,
   "id": "ce05e086-dfff-4333-a9b2-19e0b61404c6",
   "metadata": {},
   "outputs": [],
   "source": [
    "code, data = fetch_candles(\"EUR_USD\", count=10,granularity=\"H4\")"
   ]
  },
  {
   "cell_type": "code",
   "execution_count": null,
   "id": "062ca6c9-0c16-4658-9fe6-3f7f7ab25e0c",
   "metadata": {},
   "outputs": [],
   "source": [
    "code"
   ]
  },
  {
   "cell_type": "code",
   "execution_count": null,
   "id": "1d969a66-8efc-4e27-a129-11cdff733d2d",
   "metadata": {},
   "outputs": [],
   "source": [
    "data[0]"
   ]
  },
  {
   "cell_type": "code",
   "execution_count": 68,
   "id": "e345d8b3-ef17-4741-b4fb-480e653fe676",
   "metadata": {},
   "outputs": [],
   "source": []
  },
  {
   "cell_type": "code",
   "execution_count": 71,
   "id": "1047d0e7-c26a-4270-b16f-aa60f0655154",
   "metadata": {},
   "outputs": [
    {
     "data": {
      "text/plain": [
       "{'complete': False,\n",
       " 'volume': 1369,\n",
       " 'time': '2024-06-25T05:00:00.000000000Z',\n",
       " 'bid': {'o': '1.07390', 'h': '1.07436', 'l': '1.07387', 'c': '1.07412'},\n",
       " 'mid': {'o': '1.07397', 'h': '1.07444', 'l': '1.07394', 'c': '1.07420'},\n",
       " 'ask': {'o': '1.07404', 'h': '1.07451', 'l': '1.07402', 'c': '1.07427'}}"
      ]
     },
     "execution_count": 71,
     "metadata": {},
     "output_type": "execute_result"
    }
   ],
   "source": [
    "candle"
   ]
  },
  {
   "cell_type": "code",
   "execution_count": 70,
   "id": "12030e66-f426-46a4-85f1-14733edaa214",
   "metadata": {},
   "outputs": [
    {
     "data": {
      "text/plain": [
       "{'o': '1.07404', 'h': '1.07451', 'l': '1.07402', 'c': '1.07427'}"
      ]
     },
     "execution_count": 70,
     "metadata": {},
     "output_type": "execute_result"
    }
   ],
   "source": [
    "candle[p]"
   ]
  },
  {
   "cell_type": "code",
   "execution_count": 76,
   "id": "288bcf7b-52d9-45f8-a36e-5804e281d95c",
   "metadata": {},
   "outputs": [],
   "source": []
  },
  {
   "cell_type": "code",
   "execution_count": 77,
   "id": "a0afc56f-d537-414f-992b-0d05f17b06bf",
   "metadata": {},
   "outputs": [
    {
     "data": {
      "text/html": [
       "<div>\n",
       "<style scoped>\n",
       "    .dataframe tbody tr th:only-of-type {\n",
       "        vertical-align: middle;\n",
       "    }\n",
       "\n",
       "    .dataframe tbody tr th {\n",
       "        vertical-align: top;\n",
       "    }\n",
       "\n",
       "    .dataframe thead th {\n",
       "        text-align: right;\n",
       "    }\n",
       "</style>\n",
       "<table border=\"1\" class=\"dataframe\">\n",
       "  <thead>\n",
       "    <tr style=\"text-align: right;\">\n",
       "      <th></th>\n",
       "      <th>time</th>\n",
       "      <th>volume</th>\n",
       "      <th>mid_o</th>\n",
       "      <th>mid_h</th>\n",
       "      <th>mid_l</th>\n",
       "      <th>mid_c</th>\n",
       "      <th>bid_o</th>\n",
       "      <th>bid_h</th>\n",
       "      <th>bid_l</th>\n",
       "      <th>bid_c</th>\n",
       "      <th>ask_o</th>\n",
       "      <th>ask_h</th>\n",
       "      <th>ask_l</th>\n",
       "      <th>ask_c</th>\n",
       "    </tr>\n",
       "  </thead>\n",
       "  <tbody>\n",
       "    <tr>\n",
       "      <th>0</th>\n",
       "      <td>2024-06-24 10:00:00+00:00</td>\n",
       "      <td>3575</td>\n",
       "      <td>1.07226</td>\n",
       "      <td>1.07309</td>\n",
       "      <td>1.07196</td>\n",
       "      <td>1.07304</td>\n",
       "      <td>1.07219</td>\n",
       "      <td>1.07302</td>\n",
       "      <td>1.07189</td>\n",
       "      <td>1.07296</td>\n",
       "      <td>1.07233</td>\n",
       "      <td>1.07316</td>\n",
       "      <td>1.07204</td>\n",
       "      <td>1.07311</td>\n",
       "    </tr>\n",
       "    <tr>\n",
       "      <th>1</th>\n",
       "      <td>2024-06-24 11:00:00+00:00</td>\n",
       "      <td>3522</td>\n",
       "      <td>1.07302</td>\n",
       "      <td>1.07360</td>\n",
       "      <td>1.07266</td>\n",
       "      <td>1.07359</td>\n",
       "      <td>1.07295</td>\n",
       "      <td>1.07352</td>\n",
       "      <td>1.07258</td>\n",
       "      <td>1.07352</td>\n",
       "      <td>1.07309</td>\n",
       "      <td>1.07368</td>\n",
       "      <td>1.07273</td>\n",
       "      <td>1.07366</td>\n",
       "    </tr>\n",
       "    <tr>\n",
       "      <th>2</th>\n",
       "      <td>2024-06-24 12:00:00+00:00</td>\n",
       "      <td>4346</td>\n",
       "      <td>1.07358</td>\n",
       "      <td>1.07358</td>\n",
       "      <td>1.07262</td>\n",
       "      <td>1.07346</td>\n",
       "      <td>1.07351</td>\n",
       "      <td>1.07351</td>\n",
       "      <td>1.07255</td>\n",
       "      <td>1.07338</td>\n",
       "      <td>1.07365</td>\n",
       "      <td>1.07365</td>\n",
       "      <td>1.07270</td>\n",
       "      <td>1.07353</td>\n",
       "    </tr>\n",
       "    <tr>\n",
       "      <th>3</th>\n",
       "      <td>2024-06-24 13:00:00+00:00</td>\n",
       "      <td>3897</td>\n",
       "      <td>1.07347</td>\n",
       "      <td>1.07437</td>\n",
       "      <td>1.07346</td>\n",
       "      <td>1.07428</td>\n",
       "      <td>1.07340</td>\n",
       "      <td>1.07430</td>\n",
       "      <td>1.07338</td>\n",
       "      <td>1.07421</td>\n",
       "      <td>1.07354</td>\n",
       "      <td>1.07444</td>\n",
       "      <td>1.07353</td>\n",
       "      <td>1.07435</td>\n",
       "    </tr>\n",
       "    <tr>\n",
       "      <th>4</th>\n",
       "      <td>2024-06-24 14:00:00+00:00</td>\n",
       "      <td>4418</td>\n",
       "      <td>1.07426</td>\n",
       "      <td>1.07465</td>\n",
       "      <td>1.07272</td>\n",
       "      <td>1.07301</td>\n",
       "      <td>1.07419</td>\n",
       "      <td>1.07458</td>\n",
       "      <td>1.07264</td>\n",
       "      <td>1.07294</td>\n",
       "      <td>1.07433</td>\n",
       "      <td>1.07472</td>\n",
       "      <td>1.07279</td>\n",
       "      <td>1.07308</td>\n",
       "    </tr>\n",
       "    <tr>\n",
       "      <th>5</th>\n",
       "      <td>2024-06-24 15:00:00+00:00</td>\n",
       "      <td>2711</td>\n",
       "      <td>1.07300</td>\n",
       "      <td>1.07332</td>\n",
       "      <td>1.07234</td>\n",
       "      <td>1.07271</td>\n",
       "      <td>1.07292</td>\n",
       "      <td>1.07325</td>\n",
       "      <td>1.07227</td>\n",
       "      <td>1.07264</td>\n",
       "      <td>1.07307</td>\n",
       "      <td>1.07339</td>\n",
       "      <td>1.07241</td>\n",
       "      <td>1.07278</td>\n",
       "    </tr>\n",
       "    <tr>\n",
       "      <th>6</th>\n",
       "      <td>2024-06-24 16:00:00+00:00</td>\n",
       "      <td>1489</td>\n",
       "      <td>1.07268</td>\n",
       "      <td>1.07316</td>\n",
       "      <td>1.07261</td>\n",
       "      <td>1.07279</td>\n",
       "      <td>1.07261</td>\n",
       "      <td>1.07309</td>\n",
       "      <td>1.07254</td>\n",
       "      <td>1.07272</td>\n",
       "      <td>1.07275</td>\n",
       "      <td>1.07323</td>\n",
       "      <td>1.07268</td>\n",
       "      <td>1.07286</td>\n",
       "    </tr>\n",
       "    <tr>\n",
       "      <th>7</th>\n",
       "      <td>2024-06-24 17:00:00+00:00</td>\n",
       "      <td>1587</td>\n",
       "      <td>1.07278</td>\n",
       "      <td>1.07278</td>\n",
       "      <td>1.07220</td>\n",
       "      <td>1.07250</td>\n",
       "      <td>1.07270</td>\n",
       "      <td>1.07270</td>\n",
       "      <td>1.07213</td>\n",
       "      <td>1.07243</td>\n",
       "      <td>1.07285</td>\n",
       "      <td>1.07285</td>\n",
       "      <td>1.07227</td>\n",
       "      <td>1.07257</td>\n",
       "    </tr>\n",
       "    <tr>\n",
       "      <th>8</th>\n",
       "      <td>2024-06-24 18:00:00+00:00</td>\n",
       "      <td>1679</td>\n",
       "      <td>1.07250</td>\n",
       "      <td>1.07376</td>\n",
       "      <td>1.07244</td>\n",
       "      <td>1.07356</td>\n",
       "      <td>1.07243</td>\n",
       "      <td>1.07369</td>\n",
       "      <td>1.07237</td>\n",
       "      <td>1.07349</td>\n",
       "      <td>1.07258</td>\n",
       "      <td>1.07383</td>\n",
       "      <td>1.07252</td>\n",
       "      <td>1.07364</td>\n",
       "    </tr>\n",
       "    <tr>\n",
       "      <th>9</th>\n",
       "      <td>2024-06-24 19:00:00+00:00</td>\n",
       "      <td>1974</td>\n",
       "      <td>1.07354</td>\n",
       "      <td>1.07384</td>\n",
       "      <td>1.07343</td>\n",
       "      <td>1.07360</td>\n",
       "      <td>1.07346</td>\n",
       "      <td>1.07376</td>\n",
       "      <td>1.07336</td>\n",
       "      <td>1.07353</td>\n",
       "      <td>1.07361</td>\n",
       "      <td>1.07391</td>\n",
       "      <td>1.07350</td>\n",
       "      <td>1.07367</td>\n",
       "    </tr>\n",
       "    <tr>\n",
       "      <th>10</th>\n",
       "      <td>2024-06-24 20:00:00+00:00</td>\n",
       "      <td>842</td>\n",
       "      <td>1.07358</td>\n",
       "      <td>1.07374</td>\n",
       "      <td>1.07336</td>\n",
       "      <td>1.07338</td>\n",
       "      <td>1.07351</td>\n",
       "      <td>1.07366</td>\n",
       "      <td>1.07326</td>\n",
       "      <td>1.07329</td>\n",
       "      <td>1.07365</td>\n",
       "      <td>1.07381</td>\n",
       "      <td>1.07347</td>\n",
       "      <td>1.07347</td>\n",
       "    </tr>\n",
       "    <tr>\n",
       "      <th>11</th>\n",
       "      <td>2024-06-24 21:00:00+00:00</td>\n",
       "      <td>382</td>\n",
       "      <td>1.07324</td>\n",
       "      <td>1.07346</td>\n",
       "      <td>1.07324</td>\n",
       "      <td>1.07336</td>\n",
       "      <td>1.07311</td>\n",
       "      <td>1.07336</td>\n",
       "      <td>1.07308</td>\n",
       "      <td>1.07327</td>\n",
       "      <td>1.07338</td>\n",
       "      <td>1.07359</td>\n",
       "      <td>1.07338</td>\n",
       "      <td>1.07346</td>\n",
       "    </tr>\n",
       "    <tr>\n",
       "      <th>12</th>\n",
       "      <td>2024-06-24 22:00:00+00:00</td>\n",
       "      <td>435</td>\n",
       "      <td>1.07334</td>\n",
       "      <td>1.07346</td>\n",
       "      <td>1.07324</td>\n",
       "      <td>1.07330</td>\n",
       "      <td>1.07324</td>\n",
       "      <td>1.07339</td>\n",
       "      <td>1.07312</td>\n",
       "      <td>1.07322</td>\n",
       "      <td>1.07343</td>\n",
       "      <td>1.07355</td>\n",
       "      <td>1.07336</td>\n",
       "      <td>1.07337</td>\n",
       "    </tr>\n",
       "    <tr>\n",
       "      <th>13</th>\n",
       "      <td>2024-06-24 23:00:00+00:00</td>\n",
       "      <td>677</td>\n",
       "      <td>1.07329</td>\n",
       "      <td>1.07331</td>\n",
       "      <td>1.07308</td>\n",
       "      <td>1.07322</td>\n",
       "      <td>1.07321</td>\n",
       "      <td>1.07324</td>\n",
       "      <td>1.07300</td>\n",
       "      <td>1.07315</td>\n",
       "      <td>1.07337</td>\n",
       "      <td>1.07338</td>\n",
       "      <td>1.07316</td>\n",
       "      <td>1.07330</td>\n",
       "    </tr>\n",
       "    <tr>\n",
       "      <th>14</th>\n",
       "      <td>2024-06-25 00:00:00+00:00</td>\n",
       "      <td>1817</td>\n",
       "      <td>1.07321</td>\n",
       "      <td>1.07358</td>\n",
       "      <td>1.07320</td>\n",
       "      <td>1.07341</td>\n",
       "      <td>1.07313</td>\n",
       "      <td>1.07350</td>\n",
       "      <td>1.07312</td>\n",
       "      <td>1.07334</td>\n",
       "      <td>1.07329</td>\n",
       "      <td>1.07365</td>\n",
       "      <td>1.07327</td>\n",
       "      <td>1.07348</td>\n",
       "    </tr>\n",
       "    <tr>\n",
       "      <th>15</th>\n",
       "      <td>2024-06-25 01:00:00+00:00</td>\n",
       "      <td>1935</td>\n",
       "      <td>1.07340</td>\n",
       "      <td>1.07360</td>\n",
       "      <td>1.07323</td>\n",
       "      <td>1.07346</td>\n",
       "      <td>1.07332</td>\n",
       "      <td>1.07353</td>\n",
       "      <td>1.07316</td>\n",
       "      <td>1.07338</td>\n",
       "      <td>1.07347</td>\n",
       "      <td>1.07368</td>\n",
       "      <td>1.07330</td>\n",
       "      <td>1.07353</td>\n",
       "    </tr>\n",
       "    <tr>\n",
       "      <th>16</th>\n",
       "      <td>2024-06-25 02:00:00+00:00</td>\n",
       "      <td>1404</td>\n",
       "      <td>1.07347</td>\n",
       "      <td>1.07370</td>\n",
       "      <td>1.07340</td>\n",
       "      <td>1.07370</td>\n",
       "      <td>1.07340</td>\n",
       "      <td>1.07363</td>\n",
       "      <td>1.07332</td>\n",
       "      <td>1.07363</td>\n",
       "      <td>1.07354</td>\n",
       "      <td>1.07378</td>\n",
       "      <td>1.07347</td>\n",
       "      <td>1.07378</td>\n",
       "    </tr>\n",
       "    <tr>\n",
       "      <th>17</th>\n",
       "      <td>2024-06-25 03:00:00+00:00</td>\n",
       "      <td>1564</td>\n",
       "      <td>1.07370</td>\n",
       "      <td>1.07396</td>\n",
       "      <td>1.07358</td>\n",
       "      <td>1.07386</td>\n",
       "      <td>1.07363</td>\n",
       "      <td>1.07389</td>\n",
       "      <td>1.07351</td>\n",
       "      <td>1.07379</td>\n",
       "      <td>1.07377</td>\n",
       "      <td>1.07404</td>\n",
       "      <td>1.07366</td>\n",
       "      <td>1.07393</td>\n",
       "    </tr>\n",
       "    <tr>\n",
       "      <th>18</th>\n",
       "      <td>2024-06-25 04:00:00+00:00</td>\n",
       "      <td>1015</td>\n",
       "      <td>1.07383</td>\n",
       "      <td>1.07402</td>\n",
       "      <td>1.07366</td>\n",
       "      <td>1.07396</td>\n",
       "      <td>1.07376</td>\n",
       "      <td>1.07395</td>\n",
       "      <td>1.07358</td>\n",
       "      <td>1.07389</td>\n",
       "      <td>1.07390</td>\n",
       "      <td>1.07409</td>\n",
       "      <td>1.07373</td>\n",
       "      <td>1.07404</td>\n",
       "    </tr>\n",
       "  </tbody>\n",
       "</table>\n",
       "</div>"
      ],
      "text/plain": [
       "                        time  volume    mid_o    mid_h    mid_l    mid_c  \\\n",
       "0  2024-06-24 10:00:00+00:00    3575  1.07226  1.07309  1.07196  1.07304   \n",
       "1  2024-06-24 11:00:00+00:00    3522  1.07302  1.07360  1.07266  1.07359   \n",
       "2  2024-06-24 12:00:00+00:00    4346  1.07358  1.07358  1.07262  1.07346   \n",
       "3  2024-06-24 13:00:00+00:00    3897  1.07347  1.07437  1.07346  1.07428   \n",
       "4  2024-06-24 14:00:00+00:00    4418  1.07426  1.07465  1.07272  1.07301   \n",
       "5  2024-06-24 15:00:00+00:00    2711  1.07300  1.07332  1.07234  1.07271   \n",
       "6  2024-06-24 16:00:00+00:00    1489  1.07268  1.07316  1.07261  1.07279   \n",
       "7  2024-06-24 17:00:00+00:00    1587  1.07278  1.07278  1.07220  1.07250   \n",
       "8  2024-06-24 18:00:00+00:00    1679  1.07250  1.07376  1.07244  1.07356   \n",
       "9  2024-06-24 19:00:00+00:00    1974  1.07354  1.07384  1.07343  1.07360   \n",
       "10 2024-06-24 20:00:00+00:00     842  1.07358  1.07374  1.07336  1.07338   \n",
       "11 2024-06-24 21:00:00+00:00     382  1.07324  1.07346  1.07324  1.07336   \n",
       "12 2024-06-24 22:00:00+00:00     435  1.07334  1.07346  1.07324  1.07330   \n",
       "13 2024-06-24 23:00:00+00:00     677  1.07329  1.07331  1.07308  1.07322   \n",
       "14 2024-06-25 00:00:00+00:00    1817  1.07321  1.07358  1.07320  1.07341   \n",
       "15 2024-06-25 01:00:00+00:00    1935  1.07340  1.07360  1.07323  1.07346   \n",
       "16 2024-06-25 02:00:00+00:00    1404  1.07347  1.07370  1.07340  1.07370   \n",
       "17 2024-06-25 03:00:00+00:00    1564  1.07370  1.07396  1.07358  1.07386   \n",
       "18 2024-06-25 04:00:00+00:00    1015  1.07383  1.07402  1.07366  1.07396   \n",
       "\n",
       "      bid_o    bid_h    bid_l    bid_c    ask_o    ask_h    ask_l    ask_c  \n",
       "0   1.07219  1.07302  1.07189  1.07296  1.07233  1.07316  1.07204  1.07311  \n",
       "1   1.07295  1.07352  1.07258  1.07352  1.07309  1.07368  1.07273  1.07366  \n",
       "2   1.07351  1.07351  1.07255  1.07338  1.07365  1.07365  1.07270  1.07353  \n",
       "3   1.07340  1.07430  1.07338  1.07421  1.07354  1.07444  1.07353  1.07435  \n",
       "4   1.07419  1.07458  1.07264  1.07294  1.07433  1.07472  1.07279  1.07308  \n",
       "5   1.07292  1.07325  1.07227  1.07264  1.07307  1.07339  1.07241  1.07278  \n",
       "6   1.07261  1.07309  1.07254  1.07272  1.07275  1.07323  1.07268  1.07286  \n",
       "7   1.07270  1.07270  1.07213  1.07243  1.07285  1.07285  1.07227  1.07257  \n",
       "8   1.07243  1.07369  1.07237  1.07349  1.07258  1.07383  1.07252  1.07364  \n",
       "9   1.07346  1.07376  1.07336  1.07353  1.07361  1.07391  1.07350  1.07367  \n",
       "10  1.07351  1.07366  1.07326  1.07329  1.07365  1.07381  1.07347  1.07347  \n",
       "11  1.07311  1.07336  1.07308  1.07327  1.07338  1.07359  1.07338  1.07346  \n",
       "12  1.07324  1.07339  1.07312  1.07322  1.07343  1.07355  1.07336  1.07337  \n",
       "13  1.07321  1.07324  1.07300  1.07315  1.07337  1.07338  1.07316  1.07330  \n",
       "14  1.07313  1.07350  1.07312  1.07334  1.07329  1.07365  1.07327  1.07348  \n",
       "15  1.07332  1.07353  1.07316  1.07338  1.07347  1.07368  1.07330  1.07353  \n",
       "16  1.07340  1.07363  1.07332  1.07363  1.07354  1.07378  1.07347  1.07378  \n",
       "17  1.07363  1.07389  1.07351  1.07379  1.07377  1.07404  1.07366  1.07393  \n",
       "18  1.07376  1.07395  1.07358  1.07389  1.07390  1.07409  1.07373  1.07404  "
      ]
     },
     "execution_count": 77,
     "metadata": {},
     "output_type": "execute_result"
    }
   ],
   "source": [
    "df"
   ]
  },
  {
   "cell_type": "code",
   "execution_count": null,
   "id": "372e734f-6e21-495b-9d65-6bb9fbe57904",
   "metadata": {},
   "outputs": [],
   "source": []
  }
 ],
 "metadata": {
  "kernelspec": {
   "display_name": "Python 3 (ipykernel)",
   "language": "python",
   "name": "python3"
  },
  "language_info": {
   "codemirror_mode": {
    "name": "ipython",
    "version": 3
   },
   "file_extension": ".py",
   "mimetype": "text/x-python",
   "name": "python",
   "nbconvert_exporter": "python",
   "pygments_lexer": "ipython3",
   "version": "3.10.5"
  }
 },
 "nbformat": 4,
 "nbformat_minor": 5
}
