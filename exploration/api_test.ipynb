{
 "cells": [
  {
   "cell_type": "code",
   "execution_count": 25,
   "id": "8cdfcc77-9439-4374-8556-e94a15e2131b",
   "metadata": {},
   "outputs": [],
   "source": [
    "import requests\n",
    "import pandas as pd\n",
    "import json \n",
    "from dateutil import parser"
   ]
  },
  {
   "cell_type": "code",
   "execution_count": 26,
   "id": "d8dfb45e-f5b5-4518-a32b-80ea23d0f384",
   "metadata": {},
   "outputs": [],
   "source": [
    "API_KEY= \"7203735f4489a07b1fdaa82e0825b643-037a13c8ecd863561ee2fb38166bda77\"\n",
    "ACCOUNT_ID = \"101-011-28651499-001\"\n",
    "OANDA_URL = \"https://api-fxpractice.oanda.com/v3\""
   ]
  },
  {
   "cell_type": "code",
   "execution_count": 27,
   "id": "58fb0b48-0975-4b1a-bead-7f267a5318e5",
   "metadata": {},
   "outputs": [],
   "source": [
    "session = requests.Session()"
   ]
  },
  {
   "cell_type": "code",
   "execution_count": 28,
   "id": "8619b8d4-5df8-4cf5-9506-915212b5491e",
   "metadata": {},
   "outputs": [],
   "source": [
    "session.headers.update({\n",
    "    \"Authorization\": f\"Bearer {API_KEY}\",\n",
    "    \"Content-Type\": \"application/json\"\n",
    "})"
   ]
  },
  {
   "cell_type": "code",
   "execution_count": 29,
   "id": "97d601e2-d589-46cb-87dd-5acd784395f3",
   "metadata": {},
   "outputs": [],
   "source": [
    "params = dict(\n",
    "    count = 10,\n",
    "    granularity=\"H1\",\n",
    "    price=\"MBA\"\n",
    ")"
   ]
  },
  {
   "cell_type": "code",
   "execution_count": 30,
   "id": "fc5c2f99-33ea-46db-9b28-cfb57ce678f2",
   "metadata": {},
   "outputs": [],
   "source": [
    "url = f\"{OANDA_URL}/accounts/{ACCOUNT_ID}/instruments\""
   ]
  },
  {
   "cell_type": "code",
   "execution_count": 31,
   "id": "65e45fa0-a6dd-4534-9843-bdd62e5c1d6e",
   "metadata": {},
   "outputs": [],
   "source": [
    "response =session.get(url,params=None, data=None,headers=None)"
   ]
  },
  {
   "cell_type": "code",
   "execution_count": 32,
   "id": "2069e7d5-cc27-47b2-aa11-e23f63c77bb1",
   "metadata": {
    "scrolled": true
   },
   "outputs": [
    {
     "data": {
      "text/plain": [
       "200"
      ]
     },
     "execution_count": 32,
     "metadata": {},
     "output_type": "execute_result"
    }
   ],
   "source": [
    "response.status_code\n"
   ]
  },
  {
   "cell_type": "code",
   "execution_count": 33,
   "id": "cb8e66e3-a193-42d6-9492-9b2e8f8f0d66",
   "metadata": {},
   "outputs": [],
   "source": [
    "data = response.json()"
   ]
  },
  {
   "cell_type": "code",
   "execution_count": 34,
   "id": "5d2d129f-be59-4462-869c-78cd14f7469d",
   "metadata": {},
   "outputs": [],
   "source": [
    "instruments_list = data['instruments']"
   ]
  },
  {
   "cell_type": "code",
   "execution_count": 35,
   "id": "3eec8b29-c06d-4dd7-bc71-bd542fed2762",
   "metadata": {},
   "outputs": [
    {
     "data": {
      "text/plain": [
       "127"
      ]
     },
     "execution_count": 35,
     "metadata": {},
     "output_type": "execute_result"
    }
   ],
   "source": [
    "len(instruments_list)"
   ]
  },
  {
   "cell_type": "code",
   "execution_count": 36,
   "id": "c22917a7-3600-4d9d-8458-c0205159bfc2",
   "metadata": {},
   "outputs": [
    {
     "data": {
      "text/plain": [
       "dict_keys(['name', 'type', 'displayName', 'pipLocation', 'displayPrecision', 'tradeUnitsPrecision', 'minimumTradeSize', 'maximumTrailingStopDistance', 'minimumTrailingStopDistance', 'maximumPositionSize', 'maximumOrderUnits', 'marginRate', 'guaranteedStopLossOrderMode', 'tags', 'financing'])"
      ]
     },
     "execution_count": 36,
     "metadata": {},
     "output_type": "execute_result"
    }
   ],
   "source": [
    "instruments_list[0].keys()"
   ]
  },
  {
   "cell_type": "code",
   "execution_count": 37,
   "id": "5fd5414f-5a22-45f4-95f5-7e298fc65114",
   "metadata": {},
   "outputs": [],
   "source": [
    "key_i = ['name', 'type', 'displayName', 'pipLocation', 'displayPrecision', 'tradeUnitsPrecision','marginRate']"
   ]
  },
  {
   "cell_type": "code",
   "execution_count": 38,
   "id": "ce4f222e-b93a-45a5-a5c9-7e3c7945c23a",
   "metadata": {},
   "outputs": [],
   "source": [
    "instruments_dict = {}"
   ]
  },
  {
   "cell_type": "code",
   "execution_count": 39,
   "id": "b747942b-557e-498e-ab3d-eb0e39113f86",
   "metadata": {},
   "outputs": [],
   "source": [
    "for i in instruments_list: \n",
    "    key = i['name']\n",
    "    instruments_dict[key] = { k: i[k] for k in key_i}"
   ]
  },
  {
   "cell_type": "code",
   "execution_count": 40,
   "id": "ea7a4087-3c23-4b38-b49e-935ef8be1943",
   "metadata": {},
   "outputs": [
    {
     "data": {
      "text/plain": [
       "{'name': 'USD_CAD',\n",
       " 'type': 'CURRENCY',\n",
       " 'displayName': 'USD/CAD',\n",
       " 'pipLocation': -4,\n",
       " 'displayPrecision': 5,\n",
       " 'tradeUnitsPrecision': 0,\n",
       " 'marginRate': '0.0333'}"
      ]
     },
     "execution_count": 40,
     "metadata": {},
     "output_type": "execute_result"
    }
   ],
   "source": [
    "instruments_dict['USD_CAD']"
   ]
  },
  {
   "cell_type": "code",
   "execution_count": 41,
   "id": "d6d63dd4-b8b4-4cfc-87b6-94199c952201",
   "metadata": {},
   "outputs": [],
   "source": [
    "with open (\"../data/instruments.json\",\"w\") as f:\n",
    "    f.write(json.dumps(instruments_dict, indent=2))"
   ]
  },
  {
   "cell_type": "code",
   "execution_count": 45,
   "id": "69b31939-f6cf-48ab-afa6-bbed9b943354",
   "metadata": {
    "scrolled": true
   },
   "outputs": [],
   "source": [
    "def fetch_candles(pair_name, count=10, granularity=\"H1\"):\n",
    "    url = f\"{OANDA_URL}/instruments/{pair_name}/candles\"\n",
    "    params = dict(\n",
    "        count = count,\n",
    "        granularity=granularity,\n",
    "        price=\"MBA\"\n",
    "        )\n",
    "    response =session.get(url,params=params, data=None,headers=None)\n",
    "    data = response.json()\n",
    "\n",
    "    if response.status_code == 200:\n",
    "        if 'candles' not in data:\n",
    "            data = []\n",
    "        else:\n",
    "            data = data['candles']\n",
    "    return response.status_code, data\n",
    "\n",
    "def get_candles_df(data):\n",
    "    if len(data) == 0:\n",
    "        return pd.DataFrame()\n",
    "        \n",
    "    prices = ['mid','bid','ask']\n",
    "    ohlc = ['o','h','l','c']   \n",
    "    \n",
    "    final_data = []\n",
    "    for candle in data:\n",
    "        if candle['complete']== False:\n",
    "            continue\n",
    "        new_dict = {}\n",
    "        new_dict['time'] = parser.parse(candle['time'])\n",
    "        new_dict['volume'] = candle['volume']\n",
    "        for p in prices:\n",
    "            for o in ohlc:\n",
    "                new_dict[f\"{p}_{o}\"]= float(candle[p][o])\n",
    "        final_data.append(new_dict)\n",
    "    df = pd.DataFrame.from_dict(final_data)\n",
    "    return df\n",
    "def create_data_file(pair_name, count=10, granularity=\"H1\"):\n",
    "    code,data = fetch_candles(pair_name,count,granularity)\n",
    "    if code != 200:\n",
    "        print(\"Failed\", pair_name, data)\n",
    "        return\n",
    "    if len(data) ==0:\n",
    "        print(\"No candles\",pair_name)\n",
    "    candles_df = get_candles_df(data)\n",
    "    candles_df.to_pickle(f\"../data/{pair_name}_{granularity}.pkl\")\n",
    "    print(f\"{pair_name} {granularity} {candles_df.shape[0]} candles, {candles_df.time.min()} {candles_df.time.max()}\")"
   ]
  },
  {
   "cell_type": "code",
   "execution_count": 46,
   "id": "ce05e086-dfff-4333-a9b2-19e0b61404c6",
   "metadata": {},
   "outputs": [],
   "source": [
    "code, data = fetch_candles(\"EUR_USD\", count=10,granularity=\"H4\")\n",
    "candles_df = get_candles_df(data)"
   ]
  },
  {
   "cell_type": "code",
   "execution_count": 47,
   "id": "062ca6c9-0c16-4658-9fe6-3f7f7ab25e0c",
   "metadata": {},
   "outputs": [
    {
     "name": "stdout",
     "output_type": "stream",
     "text": [
      "EUR_USD H4 9 candles, 2024-06-25 13:00:00+00:00 2024-06-26 21:00:00+00:00\n"
     ]
    }
   ],
   "source": [
    "create_data_file(\"EUR_USD\", count=10,granularity=\"H4\")"
   ]
  },
  {
   "cell_type": "code",
   "execution_count": 48,
   "id": "1d969a66-8efc-4e27-a129-11cdff733d2d",
   "metadata": {},
   "outputs": [],
   "source": [
    "our_curr = ['EUR', 'USD', 'GBP', 'JPY', 'CHF', 'NZD', 'CAD', 'AUD']"
   ]
  },
  {
   "cell_type": "code",
   "execution_count": 49,
   "id": "e345d8b3-ef17-4741-b4fb-480e653fe676",
   "metadata": {},
   "outputs": [
    {
     "name": "stdout",
     "output_type": "stream",
     "text": [
      "EUR_USD H1 4000 candles, 2023-11-03 11:00:00+00:00 2024-06-27 04:00:00+00:00\n",
      "EUR_USD H2 4000 candles, 2023-03-15 19:00:00+00:00 2024-06-27 03:00:00+00:00\n",
      "EUR_GBP H1 4000 candles, 2023-11-03 11:00:00+00:00 2024-06-27 04:00:00+00:00\n",
      "EUR_GBP H2 4000 candles, 2023-03-15 19:00:00+00:00 2024-06-27 03:00:00+00:00\n",
      "EUR_JPY H1 4000 candles, 2023-11-03 11:00:00+00:00 2024-06-27 04:00:00+00:00\n",
      "EUR_JPY H2 4000 candles, 2023-03-15 19:00:00+00:00 2024-06-27 03:00:00+00:00\n",
      "EUR_CHF H1 4000 candles, 2023-11-03 11:00:00+00:00 2024-06-27 04:00:00+00:00\n",
      "EUR_CHF H2 4000 candles, 2023-03-15 19:00:00+00:00 2024-06-27 03:00:00+00:00\n",
      "EUR_NZD H1 4000 candles, 2023-11-03 13:00:00+00:00 2024-06-27 04:00:00+00:00\n",
      "EUR_NZD H2 4000 candles, 2023-03-15 23:00:00+00:00 2024-06-27 03:00:00+00:00\n",
      "EUR_CAD H1 4000 candles, 2023-11-03 11:00:00+00:00 2024-06-27 04:00:00+00:00\n",
      "EUR_CAD H2 4000 candles, 2023-03-15 19:00:00+00:00 2024-06-27 03:00:00+00:00\n",
      "EUR_AUD H1 4000 candles, 2023-11-03 11:00:00+00:00 2024-06-27 04:00:00+00:00\n",
      "EUR_AUD H2 4000 candles, 2023-03-15 19:00:00+00:00 2024-06-27 03:00:00+00:00\n",
      "USD_JPY H1 4000 candles, 2023-11-03 11:00:00+00:00 2024-06-27 04:00:00+00:00\n",
      "USD_JPY H2 4000 candles, 2023-03-15 19:00:00+00:00 2024-06-27 03:00:00+00:00\n",
      "USD_CHF H1 4000 candles, 2023-11-03 11:00:00+00:00 2024-06-27 04:00:00+00:00\n",
      "USD_CHF H2 4000 candles, 2023-03-15 19:00:00+00:00 2024-06-27 03:00:00+00:00\n",
      "USD_CAD H1 4000 candles, 2023-11-03 11:00:00+00:00 2024-06-27 04:00:00+00:00\n",
      "USD_CAD H2 4000 candles, 2023-03-15 19:00:00+00:00 2024-06-27 03:00:00+00:00\n",
      "GBP_USD H1 4000 candles, 2023-11-03 11:00:00+00:00 2024-06-27 04:00:00+00:00\n",
      "GBP_USD H2 4000 candles, 2023-03-15 19:00:00+00:00 2024-06-27 03:00:00+00:00\n",
      "GBP_JPY H1 4000 candles, 2023-11-03 11:00:00+00:00 2024-06-27 04:00:00+00:00\n",
      "GBP_JPY H2 4000 candles, 2023-03-15 19:00:00+00:00 2024-06-27 03:00:00+00:00\n",
      "GBP_CHF H1 4000 candles, 2023-11-03 11:00:00+00:00 2024-06-27 04:00:00+00:00\n",
      "GBP_CHF H2 4000 candles, 2023-03-15 19:00:00+00:00 2024-06-27 03:00:00+00:00\n",
      "GBP_NZD H1 4000 candles, 2023-11-03 13:00:00+00:00 2024-06-27 04:00:00+00:00\n",
      "GBP_NZD H2 4000 candles, 2023-03-15 23:00:00+00:00 2024-06-27 03:00:00+00:00\n",
      "GBP_CAD H1 4000 candles, 2023-11-03 11:00:00+00:00 2024-06-27 04:00:00+00:00\n",
      "GBP_CAD H2 4000 candles, 2023-03-15 19:00:00+00:00 2024-06-27 03:00:00+00:00\n",
      "GBP_AUD H1 4000 candles, 2023-11-03 11:00:00+00:00 2024-06-27 04:00:00+00:00\n",
      "GBP_AUD H2 4000 candles, 2023-03-15 19:00:00+00:00 2024-06-27 03:00:00+00:00\n",
      "CHF_JPY H1 4000 candles, 2023-11-03 11:00:00+00:00 2024-06-27 04:00:00+00:00\n",
      "CHF_JPY H2 4000 candles, 2023-03-15 19:00:00+00:00 2024-06-27 03:00:00+00:00\n",
      "NZD_USD H1 4000 candles, 2023-11-03 15:00:00+00:00 2024-06-27 04:00:00+00:00\n",
      "NZD_USD H2 4000 candles, 2023-03-16 03:00:00+00:00 2024-06-27 03:00:00+00:00\n",
      "NZD_JPY H1 4000 candles, 2023-11-03 13:00:00+00:00 2024-06-27 04:00:00+00:00\n",
      "NZD_JPY H2 4000 candles, 2023-03-15 23:00:00+00:00 2024-06-27 03:00:00+00:00\n",
      "NZD_CHF H1 4000 candles, 2023-11-03 12:00:00+00:00 2024-06-27 04:00:00+00:00\n",
      "NZD_CHF H2 4000 candles, 2023-03-15 23:00:00+00:00 2024-06-27 03:00:00+00:00\n",
      "NZD_CAD H1 4000 candles, 2023-11-03 14:00:00+00:00 2024-06-27 04:00:00+00:00\n",
      "NZD_CAD H2 4000 candles, 2023-03-16 01:00:00+00:00 2024-06-27 03:00:00+00:00\n",
      "CAD_JPY H1 4000 candles, 2023-11-03 11:00:00+00:00 2024-06-27 04:00:00+00:00\n",
      "CAD_JPY H2 4000 candles, 2023-03-15 19:00:00+00:00 2024-06-27 03:00:00+00:00\n",
      "CAD_CHF H1 4000 candles, 2023-11-03 11:00:00+00:00 2024-06-27 04:00:00+00:00\n",
      "CAD_CHF H2 4000 candles, 2023-03-15 19:00:00+00:00 2024-06-27 03:00:00+00:00\n",
      "AUD_USD H1 4000 candles, 2023-11-03 11:00:00+00:00 2024-06-27 04:00:00+00:00\n",
      "AUD_USD H2 4000 candles, 2023-03-15 19:00:00+00:00 2024-06-27 03:00:00+00:00\n",
      "AUD_JPY H1 4000 candles, 2023-11-03 11:00:00+00:00 2024-06-27 04:00:00+00:00\n",
      "AUD_JPY H2 4000 candles, 2023-03-15 19:00:00+00:00 2024-06-27 03:00:00+00:00\n",
      "AUD_CHF H1 4000 candles, 2023-11-03 11:00:00+00:00 2024-06-27 04:00:00+00:00\n",
      "AUD_CHF H2 4000 candles, 2023-03-15 19:00:00+00:00 2024-06-27 03:00:00+00:00\n",
      "AUD_NZD H1 4000 candles, 2023-11-03 13:00:00+00:00 2024-06-27 04:00:00+00:00\n",
      "AUD_NZD H2 4000 candles, 2023-03-15 23:00:00+00:00 2024-06-27 03:00:00+00:00\n",
      "AUD_CAD H1 4000 candles, 2023-11-03 11:00:00+00:00 2024-06-27 04:00:00+00:00\n",
      "AUD_CAD H2 4000 candles, 2023-03-15 19:00:00+00:00 2024-06-27 03:00:00+00:00\n"
     ]
    }
   ],
   "source": [
    "for p1 in our_curr:\n",
    "    for p2 in our_curr:\n",
    "        pr = f\"{p1}_{p2}\"\n",
    "        if pr in instruments_dict:\n",
    "            for g in [\"H1\",\"H2\"]:\n",
    "                create_data_file(pr, count=4001, granularity=g)\n",
    "                "
   ]
  },
  {
   "cell_type": "code",
   "execution_count": null,
   "id": "288bcf7b-52d9-45f8-a36e-5804e281d95c",
   "metadata": {},
   "outputs": [],
   "source": []
  },
  {
   "cell_type": "code",
   "execution_count": null,
   "id": "372e734f-6e21-495b-9d65-6bb9fbe57904",
   "metadata": {},
   "outputs": [],
   "source": []
  }
 ],
 "metadata": {
  "kernelspec": {
   "display_name": "Python 3 (ipykernel)",
   "language": "python",
   "name": "python3"
  },
  "language_info": {
   "codemirror_mode": {
    "name": "ipython",
    "version": 3
   },
   "file_extension": ".py",
   "mimetype": "text/x-python",
   "name": "python",
   "nbconvert_exporter": "python",
   "pygments_lexer": "ipython3",
   "version": "3.10.5"
  }
 },
 "nbformat": 4,
 "nbformat_minor": 5
}
