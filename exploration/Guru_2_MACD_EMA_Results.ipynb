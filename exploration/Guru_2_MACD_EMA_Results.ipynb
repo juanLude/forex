{
 "cells": [
  {
   "cell_type": "code",
   "execution_count": 1,
   "id": "fececdd1",
   "metadata": {},
   "outputs": [],
   "source": [
    "import sys\n",
    "sys.path.append(\"../\")\n",
    "\n",
    "import pandas as pd\n",
    "import plotly.graph_objects as go"
   ]
  },
  {
   "cell_type": "code",
   "execution_count": 2,
   "id": "cb8b0e40",
   "metadata": {},
   "outputs": [],
   "source": [
    "from infrastructure.instrument_collection import instrumentCollection"
   ]
  },
  {
   "cell_type": "code",
   "execution_count": 3,
   "id": "f751740e",
   "metadata": {},
   "outputs": [],
   "source": [
    "def load_results(ic):\n",
    "    res = []\n",
    "    trades = []\n",
    "    our_curr = ['USD', 'GBP', 'JPY', 'NZD']\n",
    "    for p1 in our_curr:\n",
    "        for p2 in our_curr:\n",
    "            pair = f\"{p1}_{p2}\"\n",
    "            if pair in ic.instruments_dict.keys():\n",
    "                res.append(pd.read_pickle(f\"./macd_ema/macd_ema_res_{pair}.pkl\"))\n",
    "                trades.append(pd.read_pickle(f\"./macd_ema/trades/macd_ema_trades_{pair}.pkl\"))\n",
    "    return pd.concat(res), pd.concat(trades)"
   ]
  },
  {
   "cell_type": "code",
   "execution_count": 4,
   "id": "9c335bf4",
   "metadata": {},
   "outputs": [],
   "source": [
    "instrumentCollection.LoadInstruments('../data/')"
   ]
  },
  {
   "cell_type": "code",
   "execution_count": 5,
   "id": "7188f868",
   "metadata": {},
   "outputs": [
    {
     "ename": "FileNotFoundError",
     "evalue": "[Errno 2] No such file or directory: './macd_ema/macd_ema_res_USD_JPY.pkl'",
     "output_type": "error",
     "traceback": [
      "\u001b[1;31m---------------------------------------------------------------------------\u001b[0m",
      "\u001b[1;31mFileNotFoundError\u001b[0m                         Traceback (most recent call last)",
      "Cell \u001b[1;32mIn[5], line 1\u001b[0m\n\u001b[1;32m----> 1\u001b[0m df_results, df_trades \u001b[38;5;241m=\u001b[39m \u001b[43mload_results\u001b[49m\u001b[43m(\u001b[49m\u001b[43minstrumentCollection\u001b[49m\u001b[43m)\u001b[49m\n\u001b[0;32m      2\u001b[0m df_results\u001b[38;5;241m.\u001b[39mreset_index(drop\u001b[38;5;241m=\u001b[39m\u001b[38;5;28;01mTrue\u001b[39;00m, inplace\u001b[38;5;241m=\u001b[39m\u001b[38;5;28;01mTrue\u001b[39;00m)\n\u001b[0;32m      3\u001b[0m df_trades\u001b[38;5;241m.\u001b[39mreset_index(drop\u001b[38;5;241m=\u001b[39m\u001b[38;5;28;01mTrue\u001b[39;00m, inplace\u001b[38;5;241m=\u001b[39m\u001b[38;5;28;01mTrue\u001b[39;00m)\n",
      "Cell \u001b[1;32mIn[3], line 9\u001b[0m, in \u001b[0;36mload_results\u001b[1;34m(ic)\u001b[0m\n\u001b[0;32m      7\u001b[0m         pair \u001b[38;5;241m=\u001b[39m \u001b[38;5;124mf\u001b[39m\u001b[38;5;124m\"\u001b[39m\u001b[38;5;132;01m{\u001b[39;00mp1\u001b[38;5;132;01m}\u001b[39;00m\u001b[38;5;124m_\u001b[39m\u001b[38;5;132;01m{\u001b[39;00mp2\u001b[38;5;132;01m}\u001b[39;00m\u001b[38;5;124m\"\u001b[39m\n\u001b[0;32m      8\u001b[0m         \u001b[38;5;28;01mif\u001b[39;00m pair \u001b[38;5;129;01min\u001b[39;00m ic\u001b[38;5;241m.\u001b[39minstruments_dict\u001b[38;5;241m.\u001b[39mkeys():\n\u001b[1;32m----> 9\u001b[0m             res\u001b[38;5;241m.\u001b[39mappend(\u001b[43mpd\u001b[49m\u001b[38;5;241;43m.\u001b[39;49m\u001b[43mread_pickle\u001b[49m\u001b[43m(\u001b[49m\u001b[38;5;124;43mf\u001b[39;49m\u001b[38;5;124;43m\"\u001b[39;49m\u001b[38;5;124;43m./macd_ema/macd_ema_res_\u001b[39;49m\u001b[38;5;132;43;01m{\u001b[39;49;00m\u001b[43mpair\u001b[49m\u001b[38;5;132;43;01m}\u001b[39;49;00m\u001b[38;5;124;43m.pkl\u001b[39;49m\u001b[38;5;124;43m\"\u001b[39;49m\u001b[43m)\u001b[49m)\n\u001b[0;32m     10\u001b[0m             trades\u001b[38;5;241m.\u001b[39mappend(pd\u001b[38;5;241m.\u001b[39mread_pickle(\u001b[38;5;124mf\u001b[39m\u001b[38;5;124m\"\u001b[39m\u001b[38;5;124m./macd_ema/trades/macd_ema_trades_\u001b[39m\u001b[38;5;132;01m{\u001b[39;00mpair\u001b[38;5;132;01m}\u001b[39;00m\u001b[38;5;124m.pkl\u001b[39m\u001b[38;5;124m\"\u001b[39m))\n\u001b[0;32m     11\u001b[0m \u001b[38;5;28;01mreturn\u001b[39;00m pd\u001b[38;5;241m.\u001b[39mconcat(res), pd\u001b[38;5;241m.\u001b[39mconcat(trades)\n",
      "File \u001b[1;32m~\\Desktop\\forex\\venv\\lib\\site-packages\\pandas\\io\\pickle.py:185\u001b[0m, in \u001b[0;36mread_pickle\u001b[1;34m(filepath_or_buffer, compression, storage_options)\u001b[0m\n\u001b[0;32m    123\u001b[0m \u001b[38;5;250m\u001b[39m\u001b[38;5;124;03m\"\"\"\u001b[39;00m\n\u001b[0;32m    124\u001b[0m \u001b[38;5;124;03mLoad pickled pandas object (or any object) from file.\u001b[39;00m\n\u001b[0;32m    125\u001b[0m \n\u001b[1;32m   (...)\u001b[0m\n\u001b[0;32m    182\u001b[0m \u001b[38;5;124;03m4    4    9\u001b[39;00m\n\u001b[0;32m    183\u001b[0m \u001b[38;5;124;03m\"\"\"\u001b[39;00m\n\u001b[0;32m    184\u001b[0m excs_to_catch \u001b[38;5;241m=\u001b[39m (\u001b[38;5;167;01mAttributeError\u001b[39;00m, \u001b[38;5;167;01mImportError\u001b[39;00m, \u001b[38;5;167;01mModuleNotFoundError\u001b[39;00m, \u001b[38;5;167;01mTypeError\u001b[39;00m)\n\u001b[1;32m--> 185\u001b[0m \u001b[38;5;28;01mwith\u001b[39;00m \u001b[43mget_handle\u001b[49m\u001b[43m(\u001b[49m\n\u001b[0;32m    186\u001b[0m \u001b[43m    \u001b[49m\u001b[43mfilepath_or_buffer\u001b[49m\u001b[43m,\u001b[49m\n\u001b[0;32m    187\u001b[0m \u001b[43m    \u001b[49m\u001b[38;5;124;43m\"\u001b[39;49m\u001b[38;5;124;43mrb\u001b[39;49m\u001b[38;5;124;43m\"\u001b[39;49m\u001b[43m,\u001b[49m\n\u001b[0;32m    188\u001b[0m \u001b[43m    \u001b[49m\u001b[43mcompression\u001b[49m\u001b[38;5;241;43m=\u001b[39;49m\u001b[43mcompression\u001b[49m\u001b[43m,\u001b[49m\n\u001b[0;32m    189\u001b[0m \u001b[43m    \u001b[49m\u001b[43mis_text\u001b[49m\u001b[38;5;241;43m=\u001b[39;49m\u001b[38;5;28;43;01mFalse\u001b[39;49;00m\u001b[43m,\u001b[49m\n\u001b[0;32m    190\u001b[0m \u001b[43m    \u001b[49m\u001b[43mstorage_options\u001b[49m\u001b[38;5;241;43m=\u001b[39;49m\u001b[43mstorage_options\u001b[49m\u001b[43m,\u001b[49m\n\u001b[0;32m    191\u001b[0m \u001b[43m\u001b[49m\u001b[43m)\u001b[49m \u001b[38;5;28;01mas\u001b[39;00m handles:\n\u001b[0;32m    192\u001b[0m     \u001b[38;5;66;03m# 1) try standard library Pickle\u001b[39;00m\n\u001b[0;32m    193\u001b[0m     \u001b[38;5;66;03m# 2) try pickle_compat (older pandas version) to handle subclass changes\u001b[39;00m\n\u001b[0;32m    194\u001b[0m     \u001b[38;5;66;03m# 3) try pickle_compat with latin-1 encoding upon a UnicodeDecodeError\u001b[39;00m\n\u001b[0;32m    196\u001b[0m     \u001b[38;5;28;01mtry\u001b[39;00m:\n\u001b[0;32m    197\u001b[0m         \u001b[38;5;66;03m# TypeError for Cython complaints about object.__new__ vs Tick.__new__\u001b[39;00m\n\u001b[0;32m    198\u001b[0m         \u001b[38;5;28;01mtry\u001b[39;00m:\n",
      "File \u001b[1;32m~\\Desktop\\forex\\venv\\lib\\site-packages\\pandas\\io\\common.py:882\u001b[0m, in \u001b[0;36mget_handle\u001b[1;34m(path_or_buf, mode, encoding, compression, memory_map, is_text, errors, storage_options)\u001b[0m\n\u001b[0;32m    873\u001b[0m         handle \u001b[38;5;241m=\u001b[39m \u001b[38;5;28mopen\u001b[39m(\n\u001b[0;32m    874\u001b[0m             handle,\n\u001b[0;32m    875\u001b[0m             ioargs\u001b[38;5;241m.\u001b[39mmode,\n\u001b[1;32m   (...)\u001b[0m\n\u001b[0;32m    878\u001b[0m             newline\u001b[38;5;241m=\u001b[39m\u001b[38;5;124m\"\u001b[39m\u001b[38;5;124m\"\u001b[39m,\n\u001b[0;32m    879\u001b[0m         )\n\u001b[0;32m    880\u001b[0m     \u001b[38;5;28;01melse\u001b[39;00m:\n\u001b[0;32m    881\u001b[0m         \u001b[38;5;66;03m# Binary mode\u001b[39;00m\n\u001b[1;32m--> 882\u001b[0m         handle \u001b[38;5;241m=\u001b[39m \u001b[38;5;28;43mopen\u001b[39;49m\u001b[43m(\u001b[49m\u001b[43mhandle\u001b[49m\u001b[43m,\u001b[49m\u001b[43m \u001b[49m\u001b[43mioargs\u001b[49m\u001b[38;5;241;43m.\u001b[39;49m\u001b[43mmode\u001b[49m\u001b[43m)\u001b[49m\n\u001b[0;32m    883\u001b[0m     handles\u001b[38;5;241m.\u001b[39mappend(handle)\n\u001b[0;32m    885\u001b[0m \u001b[38;5;66;03m# Convert BytesIO or file objects passed with an encoding\u001b[39;00m\n",
      "\u001b[1;31mFileNotFoundError\u001b[0m: [Errno 2] No such file or directory: './macd_ema/macd_ema_res_USD_JPY.pkl'"
     ]
    }
   ],
   "source": [
    "df_results, df_trades = load_results(instrumentCollection)\n",
    "df_results.reset_index(drop=True, inplace=True)\n",
    "df_trades.reset_index(drop=True, inplace=True)"
   ]
  },
  {
   "cell_type": "code",
   "execution_count": 6,
   "id": "71bf6c3f",
   "metadata": {},
   "outputs": [
    {
     "ename": "NameError",
     "evalue": "name 'df_results' is not defined",
     "output_type": "error",
     "traceback": [
      "\u001b[1;31m---------------------------------------------------------------------------\u001b[0m",
      "\u001b[1;31mNameError\u001b[0m                                 Traceback (most recent call last)",
      "Cell \u001b[1;32mIn[6], line 1\u001b[0m\n\u001b[1;32m----> 1\u001b[0m \u001b[43mdf_results\u001b[49m\u001b[38;5;241m.\u001b[39mhead()\n",
      "\u001b[1;31mNameError\u001b[0m: name 'df_results' is not defined"
     ]
    }
   ],
   "source": [
    "df_results.head()"
   ]
  },
  {
   "cell_type": "code",
   "execution_count": null,
   "id": "172d8463",
   "metadata": {},
   "outputs": [],
   "source": [
    "df_trades.head()"
   ]
  },
  {
   "cell_type": "code",
   "execution_count": null,
   "id": "b5050a85",
   "metadata": {},
   "outputs": [],
   "source": [
    "df_results.columns"
   ]
  },
  {
   "cell_type": "code",
   "execution_count": null,
   "id": "74bbca96",
   "metadata": {},
   "outputs": [],
   "source": [
    "# look at the results grouped by setting\n",
    "gr = df_results.groupby(by=['slow', 'fast', 'ema', 'signal'], as_index=False).sum()"
   ]
  },
  {
   "cell_type": "code",
   "execution_count": null,
   "id": "5497cd29",
   "metadata": {},
   "outputs": [],
   "source": [
    "# sort descending, best result at the top\n",
    "gr.sort_values(by='result', ascending=False, inplace=True)"
   ]
  },
  {
   "cell_type": "code",
   "execution_count": null,
   "id": "d489ff3c",
   "metadata": {},
   "outputs": [],
   "source": [
    "gr.head()"
   ]
  },
  {
   "cell_type": "code",
   "execution_count": null,
   "id": "fd1e65f7",
   "metadata": {},
   "outputs": [],
   "source": [
    "# for the top setting, let's see what we have in terms of individual currency pairs\n",
    "df_results_best = df_results[(df_results.ema==50)&(df_results.fast==18)&(df_results.slow==52)&(df_results.signal==9)]"
   ]
  },
  {
   "cell_type": "code",
   "execution_count": null,
   "id": "8cf1ca9b",
   "metadata": {},
   "outputs": [],
   "source": [
    "df_results_best"
   ]
  },
  {
   "cell_type": "code",
   "execution_count": null,
   "id": "16f0a70a",
   "metadata": {},
   "outputs": [],
   "source": [
    "# let's see the individual trades for the top setting\n",
    "df_trades_best = df_trades[(df_trades.ema==50)&(df_trades.fast==18)&(df_trades.slow==52)&(df_trades.signal==9)].copy()"
   ]
  },
  {
   "cell_type": "code",
   "execution_count": null,
   "id": "b41bad11",
   "metadata": {},
   "outputs": [],
   "source": [
    "df_trades_best.columns"
   ]
  },
  {
   "cell_type": "code",
   "execution_count": null,
   "id": "cef9f9c2",
   "metadata": {},
   "outputs": [],
   "source": [
    "# let's see how long trades last\n",
    "df_trades_best['duration_h'] = (df_trades_best.end_time - df_trades_best.start_time).dt.total_seconds() / 3600"
   ]
  },
  {
   "cell_type": "code",
   "execution_count": null,
   "id": "529cc184",
   "metadata": {},
   "outputs": [],
   "source": [
    "df_trades_best['duration_h'].describe()"
   ]
  },
  {
   "cell_type": "code",
   "execution_count": null,
   "id": "013dec84",
   "metadata": {},
   "outputs": [],
   "source": [
    "# win percentage\n",
    "wp = (df_trades_best[df_trades_best.result>0].shape[0] / df_trades_best.shape[0]) * 100\n",
    "print(\"Win percentage\", wp)"
   ]
  },
  {
   "cell_type": "code",
   "execution_count": null,
   "id": "b5c7bf2f",
   "metadata": {},
   "outputs": [],
   "source": [
    "# we will take a look at the cumulative gains, so sort by end_time\n",
    "df_trades_best.sort_values(by='end_time', inplace=True)"
   ]
  },
  {
   "cell_type": "code",
   "execution_count": null,
   "id": "867771af",
   "metadata": {},
   "outputs": [],
   "source": [
    "df_trades_best['CUM_RES'] = df_trades_best.result.cumsum()"
   ]
  },
  {
   "cell_type": "code",
   "execution_count": null,
   "id": "1bb7dbcc",
   "metadata": {},
   "outputs": [],
   "source": [
    "fig = go.Figure()\n",
    "\n",
    "fig.add_trace(go.Scatter(\n",
    "    x=df_trades_best.end_time,\n",
    "    y=df_trades_best['CUM_RES'],\n",
    "    line=dict(width=2)\n",
    "))\n",
    "\n",
    "fig.update_yaxes(\n",
    "    gridcolor=\"#1f292f\"\n",
    ")\n",
    "fig.update_xaxes(\n",
    "    gridcolor=\"#1f292f\"\n",
    ")\n",
    "\n",
    "fig.update_layout(\n",
    "    margin=dict(l=10,r=10,b=10,t=10),\n",
    "    paper_bgcolor=\"#2c303c\",\n",
    "    plot_bgcolor=\"#2c303c\",\n",
    "    font=dict(size=8, color=\"#e1e1e1\"),\n",
    "    height=400\n",
    ")\n",
    "\n",
    "fig.show()"
   ]
  },
  {
   "cell_type": "code",
   "execution_count": null,
   "id": "79a5f244",
   "metadata": {},
   "outputs": [],
   "source": []
  }
 ],
 "metadata": {
  "kernelspec": {
   "display_name": "Python 3 (ipykernel)",
   "language": "python",
   "name": "python3"
  },
  "language_info": {
   "codemirror_mode": {
    "name": "ipython",
    "version": 3
   },
   "file_extension": ".py",
   "mimetype": "text/x-python",
   "name": "python",
   "nbconvert_exporter": "python",
   "pygments_lexer": "ipython3",
   "version": "3.10.5"
  }
 },
 "nbformat": 4,
 "nbformat_minor": 5
}
