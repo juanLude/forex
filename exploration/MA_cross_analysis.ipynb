{
 "cells": [
  {
   "cell_type": "code",
   "execution_count": 1,
   "id": "31c90d7b-9d5b-4e0e-a044-4a87e762243a",
   "metadata": {},
   "outputs": [],
   "source": [
    "import pandas as pd\n",
    "from plotting import CandlePlot"
   ]
  },
  {
   "cell_type": "code",
   "execution_count": 4,
   "id": "9ec48d7a-7807-4b3d-b740-89abb0f562cf",
   "metadata": {},
   "outputs": [],
   "source": [
    "df_ma_res = pd.read_pickle(\"../data/ma_res.pkl\")\n",
    "df_ma_trades = pd.read_pickle(\"../data/ma_trades.pkl\")\n",
    "pd.set_option(\"display.max_columns\",None)"
   ]
  },
  {
   "cell_type": "code",
   "execution_count": 7,
   "id": "41b9be85-331f-4b6b-b9f2-ac4728c22f48",
   "metadata": {},
   "outputs": [
    {
     "name": "stdout",
     "output_type": "stream",
     "text": [
      "<class 'pandas.core.frame.DataFrame'>\n",
      "RangeIndex: 3532 entries, 0 to 3531\n",
      "Data columns (total 31 columns):\n",
      " #   Column       Non-Null Count  Dtype                  \n",
      "---  ------       --------------  -----                  \n",
      " 0   time         3532 non-null   datetime64[ns, tzutc()]\n",
      " 1   volume       3532 non-null   int64                  \n",
      " 2   mid_o        3532 non-null   float64                \n",
      " 3   mid_h        3532 non-null   float64                \n",
      " 4   mid_l        3532 non-null   float64                \n",
      " 5   mid_c        3532 non-null   float64                \n",
      " 6   bid_o        3532 non-null   float64                \n",
      " 7   bid_h        3532 non-null   float64                \n",
      " 8   bid_l        3532 non-null   float64                \n",
      " 9   bid_c        3532 non-null   float64                \n",
      " 10  ask_o        3532 non-null   float64                \n",
      " 11  ask_h        3532 non-null   float64                \n",
      " 12  ask_l        3532 non-null   float64                \n",
      " 13  ask_c        3532 non-null   float64                \n",
      " 14  MA_40        3532 non-null   float64                \n",
      " 15  MA_10        3532 non-null   float64                \n",
      " 16  MA_80        3532 non-null   float64                \n",
      " 17  MA_20        3532 non-null   float64                \n",
      " 18  MA_150       3532 non-null   float64                \n",
      " 19  MA_120       3532 non-null   float64                \n",
      " 20  MA_30        3532 non-null   float64                \n",
      " 21  DELTA        3532 non-null   float64                \n",
      " 22  DELTA_PREV   3532 non-null   float64                \n",
      " 23  TRADE        3532 non-null   int64                  \n",
      " 24  DIFF         3532 non-null   float64                \n",
      " 25  GAIN         3532 non-null   float64                \n",
      " 26  granularity  3532 non-null   object                 \n",
      " 27  pair         3532 non-null   object                 \n",
      " 28  GAIN_C       3532 non-null   float64                \n",
      " 29  ma_l         3532 non-null   object                 \n",
      " 30  ma_s         3532 non-null   object                 \n",
      "dtypes: datetime64[ns, tzutc()](1), float64(24), int64(2), object(4)\n",
      "memory usage: 855.5+ KB\n"
     ]
    }
   ],
   "source": [
    "df_ma_trades.info()"
   ]
  },
  {
   "cell_type": "code",
   "execution_count": null,
   "id": "c8c0bd6d-aae3-482d-aafc-4fc712522426",
   "metadata": {},
   "outputs": [],
   "source": []
  }
 ],
 "metadata": {
  "kernelspec": {
   "display_name": "Python 3 (ipykernel)",
   "language": "python",
   "name": "python3"
  },
  "language_info": {
   "codemirror_mode": {
    "name": "ipython",
    "version": 3
   },
   "file_extension": ".py",
   "mimetype": "text/x-python",
   "name": "python",
   "nbconvert_exporter": "python",
   "pygments_lexer": "ipython3",
   "version": "3.10.5"
  }
 },
 "nbformat": 4,
 "nbformat_minor": 5
}
