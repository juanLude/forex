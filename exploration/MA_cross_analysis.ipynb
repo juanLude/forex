{
 "cells": [
  {
   "cell_type": "code",
   "execution_count": null,
   "id": "31c90d7b-9d5b-4e0e-a044-4a87e762243a",
   "metadata": {},
   "outputs": [],
   "source": [
    "import pandas as pd\n",
    "from plotting import CandlePlot"
   ]
  },
  {
   "cell_type": "code",
   "execution_count": null,
   "id": "9ec48d7a-7807-4b3d-b740-89abb0f562cf",
   "metadata": {},
   "outputs": [],
   "source": [
    "df_ma_res = pd.read_pickle(\"../data/ma_res.pkl\")\n",
    "df_ma_trades = pd.read_pickle(\"../data/ma_trades.pkl\")\n",
    "pd.set_option(\"display.max_columns\",None)"
   ]
  },
  {
   "cell_type": "code",
   "execution_count": null,
   "id": "41b9be85-331f-4b6b-b9f2-ac4728c22f48",
   "metadata": {},
   "outputs": [],
   "source": [
    "df_ma_trades.head()"
   ]
  },
  {
   "cell_type": "code",
   "execution_count": null,
   "id": "4916692d-4a9a-4deb-8df1-454316feaf35",
   "metadata": {},
   "outputs": [],
   "source": [
    "df_ma_res.granularity.unique()"
   ]
  },
  {
   "cell_type": "code",
   "execution_count": null,
   "id": "e6a0b738-e7ce-4afd-992f-d3208949df6c",
   "metadata": {},
   "outputs": [],
   "source": [
    "df_ma_res.shape"
   ]
  },
  {
   "cell_type": "code",
   "execution_count": null,
   "id": "8a0e072f-7341-49d4-9460-eca1a2e6d1dd",
   "metadata": {},
   "outputs": [],
   "source": [
    "df_ma_res_h1 = df_ma_res[df_ma_res.granularity == \"H1\"].copy()\n",
    "df_ma_trades_h1 = df_ma_trades[df_ma_trades.granularity == \"H1\"].copy()"
   ]
  },
  {
   "cell_type": "code",
   "execution_count": null,
   "id": "82d5d571-3e95-4458-b305-f9ac8f546018",
   "metadata": {},
   "outputs": [],
   "source": [
    "df_ma_trades.head()"
   ]
  },
  {
   "cell_type": "code",
   "execution_count": null,
   "id": "fd0f0441-e2ca-4ce1-89b4-f1770a37ec1e",
   "metadata": {},
   "outputs": [],
   "source": [
    "df_ma_res_h1.columns"
   ]
  },
  {
   "cell_type": "code",
   "execution_count": null,
   "id": "b453e2f3-b650-4316-9310-ed783f4b08f4",
   "metadata": {},
   "outputs": [],
   "source": [
    "df_cross_summary = df_ma_res_h1[['pair','num_trades','total_gain','cross']].copy()"
   ]
  },
  {
   "cell_type": "code",
   "execution_count": null,
   "id": "a160395f-3e51-46c5-bd5e-cabd037db622",
   "metadata": {},
   "outputs": [],
   "source": [
    "df_cross_summary"
   ]
  },
  {
   "cell_type": "code",
   "execution_count": null,
   "id": "24b1a117-9ecb-4ab6-815e-4bf4403d1960",
   "metadata": {},
   "outputs": [],
   "source": [
    "df_cross_gr = df_cross_summary.groupby(by=\"cross\",as_index=False).sum()"
   ]
  },
  {
   "cell_type": "code",
   "execution_count": null,
   "id": "5331da8a-fd89-4af3-9e2c-93cc497a2dc0",
   "metadata": {},
   "outputs": [],
   "source": [
    "df_cross_gr.sort_values(by=\"total_gain\", ascending=False, inplace=True)"
   ]
  },
  {
   "cell_type": "code",
   "execution_count": null,
   "id": "9925d65b-942d-4da9-ad1e-5a9917e63caa",
   "metadata": {},
   "outputs": [],
   "source": [
    "df_cross_gr.head()"
   ]
  },
  {
   "cell_type": "code",
   "execution_count": null,
   "id": "fc32eda0-157e-4c4f-b061-0ccac0848303",
   "metadata": {},
   "outputs": [],
   "source": [
    "total_pairs =len(df_ma_res_h1.pair.unique())"
   ]
  },
  {
   "cell_type": "code",
   "execution_count": null,
   "id": "145b6383-828a-4f89-919e-8ea017039102",
   "metadata": {},
   "outputs": [],
   "source": [
    "total_pairs"
   ]
  },
  {
   "cell_type": "code",
   "execution_count": null,
   "id": "5c055980-dd1a-4ee6-8c10-7c0ae9e0e5c9",
   "metadata": {},
   "outputs": [],
   "source": [
    "temp = df_ma_res_h1[df_ma_res_h1.cross == \"MA_10_MA_40\"]\n",
    "temp[temp.total_gain > 0]"
   ]
  },
  {
   "cell_type": "code",
   "execution_count": null,
   "id": "ea2024ca-2406-459e-bcd4-f06fc5c96085",
   "metadata": {},
   "outputs": [],
   "source": [
    "for c in df_ma_res_h1.cross.unique():\n",
    "    temp = df_ma_res_h1[df_ma_res_h1.cross == c]\n",
    "    pg = temp[temp.total_gain > 0].shape[0]\n",
    "    print(f\"{c} pg: {pg}  percentage gain: {(pg/ total_pairs) * 100:.0f}%\")"
   ]
  },
  {
   "cell_type": "code",
   "execution_count": null,
   "id": "02d0702d-1ec8-4332-8a70-f8e40f4dabf0",
   "metadata": {},
   "outputs": [],
   "source": [
    "cross = \"MA_10_MA_20\"\n",
    "df_MA_10_MA_20 = df_ma_res_h1[df_ma_res_h1.cross == cross].copy()\n",
    "df_MA_10_MA_20.sort_values(by=\"total_gain\", ascending=False, inplace=True)\n",
    "df_MA_10_MA_20"
   ]
  },
  {
   "cell_type": "code",
   "execution_count": null,
   "id": "7057bc1d-d020-43e1-9034-fedd310b6291",
   "metadata": {},
   "outputs": [],
   "source": [
    "df_gains = df_ma_trades_h1[(df_ma_trades_h1.cross==cross)&(df_ma_trades_h1.pair==\"CAD_JPY\")].copy()"
   ]
  },
  {
   "cell_type": "code",
   "execution_count": null,
   "id": "c57cafd7-eee1-4728-9887-4a00439268dd",
   "metadata": {},
   "outputs": [],
   "source": [
    "df_gains.head()"
   ]
  },
  {
   "cell_type": "code",
   "execution_count": null,
   "id": "6f92f95c-b732-43e5-b447-81f8a44d5f63",
   "metadata": {},
   "outputs": [],
   "source": [
    "cp = CandlePlot(df_gains, candles=False)\n",
    "cp.show_plot(line_traces=['GAIN_C'])"
   ]
  },
  {
   "cell_type": "code",
   "execution_count": null,
   "id": "5d05a6a6-86bb-4d93-b481-02ee467f5c30",
   "metadata": {},
   "outputs": [],
   "source": [
    "df = pd.read_pickle(\"./data/EUR_USD.pkl\")\n",
    "print(df.columns)"
   ]
  },
  {
   "cell_type": "code",
   "execution_count": null,
   "id": "d642b4fd-f2c9-441d-b966-4a52564da099",
   "metadata": {},
   "outputs": [],
   "source": []
  },
  {
   "cell_type": "code",
   "execution_count": null,
   "id": "6bc3c06d-60f0-45fe-bbaf-f6320300ed0e",
   "metadata": {},
   "outputs": [],
   "source": []
  },
  {
   "cell_type": "code",
   "execution_count": null,
   "id": "9b3279ee-9533-43e5-acf0-cfb50e8a0021",
   "metadata": {},
   "outputs": [],
   "source": []
  }
 ],
 "metadata": {
  "kernelspec": {
   "display_name": "Python 3 (ipykernel)",
   "language": "python",
   "name": "python3"
  },
  "language_info": {
   "codemirror_mode": {
    "name": "ipython",
    "version": 3
   },
   "file_extension": ".py",
   "mimetype": "text/x-python",
   "name": "python",
   "nbconvert_exporter": "python",
   "pygments_lexer": "ipython3",
   "version": "3.10.5"
  }
 },
 "nbformat": 4,
 "nbformat_minor": 5
}
