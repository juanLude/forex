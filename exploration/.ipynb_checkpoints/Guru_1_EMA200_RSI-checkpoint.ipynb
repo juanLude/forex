{
 "cells": [
  {
   "cell_type": "code",
   "execution_count": 3,
   "id": "1c5705f4-10ca-4691-8487-7964d9c039a5",
   "metadata": {},
   "outputs": [],
   "source": [
    "import sys \n",
    "sys.path.append(\"../\")"
   ]
  },
  {
   "cell_type": "code",
   "execution_count": 4,
   "id": "de1b11d6-fd2b-452f-ae81-f7138e10280f",
   "metadata": {},
   "outputs": [],
   "source": [
    "import pandas as pd\n",
    "import plotly.graph_objects as go\n",
    "from technicals.indicators import RSI\n",
    "from technicals.patterns import apply_patterns\n",
    "from plotting import CandlePlot\n",
    "from dateutil import parser"
   ]
  },
  {
   "cell_type": "code",
   "execution_count": 5,
   "id": "4b3ec8b2-6f90-4f76-af22-5fd7e3f011da",
   "metadata": {},
   "outputs": [],
   "source": [
    "df_raw = pd.read_pickle(\"../data/EUR_USD_H1.pkl\")"
   ]
  },
  {
   "cell_type": "code",
   "execution_count": 6,
   "id": "91df327f-eaf8-45b3-afdb-bde0b47f9245",
   "metadata": {},
   "outputs": [
    {
     "data": {
      "text/plain": [
       "(37224, 14)"
      ]
     },
     "execution_count": 6,
     "metadata": {},
     "output_type": "execute_result"
    }
   ],
   "source": [
    "df_raw.shape"
   ]
  },
  {
   "cell_type": "code",
   "execution_count": 7,
   "id": "b1b2cf0d-beab-48a4-9185-890c16d7c50a",
   "metadata": {},
   "outputs": [],
   "source": [
    "# df_an = df_raw.iloc[-6000:].copy() \n",
    "df_an = df_raw.copy() \n",
    "df_an.reset_index(drop=True,inplace=True)"
   ]
  },
  {
   "cell_type": "code",
   "execution_count": 8,
   "id": "ce3a931a-3b40-4f93-a06b-3433fa823f40",
   "metadata": {},
   "outputs": [
    {
     "data": {
      "text/plain": [
       "(37224, 14)"
      ]
     },
     "execution_count": 8,
     "metadata": {},
     "output_type": "execute_result"
    }
   ],
   "source": [
    "df_an.shape"
   ]
  },
  {
   "cell_type": "code",
   "execution_count": 9,
   "id": "abbfb4cc-b4db-4636-a0fc-51f23034b953",
   "metadata": {},
   "outputs": [],
   "source": [
    "df_an = RSI(df_an)"
   ]
  },
  {
   "cell_type": "code",
   "execution_count": 10,
   "id": "a3ef0704-d11e-4da9-882a-7ac0c24af565",
   "metadata": {},
   "outputs": [
    {
     "data": {
      "text/html": [
       "<div>\n",
       "<style scoped>\n",
       "    .dataframe tbody tr th:only-of-type {\n",
       "        vertical-align: middle;\n",
       "    }\n",
       "\n",
       "    .dataframe tbody tr th {\n",
       "        vertical-align: top;\n",
       "    }\n",
       "\n",
       "    .dataframe thead th {\n",
       "        text-align: right;\n",
       "    }\n",
       "</style>\n",
       "<table border=\"1\" class=\"dataframe\">\n",
       "  <thead>\n",
       "    <tr style=\"text-align: right;\">\n",
       "      <th></th>\n",
       "      <th>time</th>\n",
       "      <th>volume</th>\n",
       "      <th>mid_o</th>\n",
       "      <th>mid_h</th>\n",
       "      <th>mid_l</th>\n",
       "      <th>mid_c</th>\n",
       "      <th>bid_o</th>\n",
       "      <th>bid_h</th>\n",
       "      <th>bid_l</th>\n",
       "      <th>bid_c</th>\n",
       "      <th>ask_o</th>\n",
       "      <th>ask_h</th>\n",
       "      <th>ask_l</th>\n",
       "      <th>ask_c</th>\n",
       "      <th>RSI_14</th>\n",
       "    </tr>\n",
       "  </thead>\n",
       "  <tbody>\n",
       "    <tr>\n",
       "      <th>37219</th>\n",
       "      <td>2021-12-30 19:00:00+00:00</td>\n",
       "      <td>721</td>\n",
       "      <td>155.312</td>\n",
       "      <td>155.444</td>\n",
       "      <td>155.274</td>\n",
       "      <td>155.444</td>\n",
       "      <td>155.296</td>\n",
       "      <td>155.432</td>\n",
       "      <td>155.260</td>\n",
       "      <td>155.432</td>\n",
       "      <td>155.328</td>\n",
       "      <td>155.458</td>\n",
       "      <td>155.289</td>\n",
       "      <td>155.457</td>\n",
       "      <td>61.286263</td>\n",
       "    </tr>\n",
       "    <tr>\n",
       "      <th>37220</th>\n",
       "      <td>2021-12-30 20:00:00+00:00</td>\n",
       "      <td>1001</td>\n",
       "      <td>155.442</td>\n",
       "      <td>155.470</td>\n",
       "      <td>155.289</td>\n",
       "      <td>155.312</td>\n",
       "      <td>155.429</td>\n",
       "      <td>155.458</td>\n",
       "      <td>155.275</td>\n",
       "      <td>155.298</td>\n",
       "      <td>155.456</td>\n",
       "      <td>155.484</td>\n",
       "      <td>155.303</td>\n",
       "      <td>155.326</td>\n",
       "      <td>55.345932</td>\n",
       "    </tr>\n",
       "    <tr>\n",
       "      <th>37221</th>\n",
       "      <td>2021-12-30 21:00:00+00:00</td>\n",
       "      <td>638</td>\n",
       "      <td>155.317</td>\n",
       "      <td>155.382</td>\n",
       "      <td>155.286</td>\n",
       "      <td>155.382</td>\n",
       "      <td>155.301</td>\n",
       "      <td>155.362</td>\n",
       "      <td>155.270</td>\n",
       "      <td>155.362</td>\n",
       "      <td>155.333</td>\n",
       "      <td>155.404</td>\n",
       "      <td>155.300</td>\n",
       "      <td>155.402</td>\n",
       "      <td>57.688104</td>\n",
       "    </tr>\n",
       "    <tr>\n",
       "      <th>37222</th>\n",
       "      <td>2021-12-30 22:00:00+00:00</td>\n",
       "      <td>623</td>\n",
       "      <td>155.353</td>\n",
       "      <td>155.381</td>\n",
       "      <td>155.282</td>\n",
       "      <td>155.329</td>\n",
       "      <td>155.278</td>\n",
       "      <td>155.315</td>\n",
       "      <td>155.207</td>\n",
       "      <td>155.254</td>\n",
       "      <td>155.428</td>\n",
       "      <td>155.456</td>\n",
       "      <td>155.357</td>\n",
       "      <td>155.404</td>\n",
       "      <td>55.322082</td>\n",
       "    </tr>\n",
       "    <tr>\n",
       "      <th>37223</th>\n",
       "      <td>2021-12-30 23:00:00+00:00</td>\n",
       "      <td>419</td>\n",
       "      <td>155.336</td>\n",
       "      <td>155.360</td>\n",
       "      <td>155.284</td>\n",
       "      <td>155.310</td>\n",
       "      <td>155.262</td>\n",
       "      <td>155.329</td>\n",
       "      <td>155.262</td>\n",
       "      <td>155.294</td>\n",
       "      <td>155.411</td>\n",
       "      <td>155.418</td>\n",
       "      <td>155.299</td>\n",
       "      <td>155.327</td>\n",
       "      <td>54.459758</td>\n",
       "    </tr>\n",
       "  </tbody>\n",
       "</table>\n",
       "</div>"
      ],
      "text/plain": [
       "                           time  volume    mid_o    mid_h    mid_l    mid_c  \\\n",
       "37219 2021-12-30 19:00:00+00:00     721  155.312  155.444  155.274  155.444   \n",
       "37220 2021-12-30 20:00:00+00:00    1001  155.442  155.470  155.289  155.312   \n",
       "37221 2021-12-30 21:00:00+00:00     638  155.317  155.382  155.286  155.382   \n",
       "37222 2021-12-30 22:00:00+00:00     623  155.353  155.381  155.282  155.329   \n",
       "37223 2021-12-30 23:00:00+00:00     419  155.336  155.360  155.284  155.310   \n",
       "\n",
       "         bid_o    bid_h    bid_l    bid_c    ask_o    ask_h    ask_l    ask_c  \\\n",
       "37219  155.296  155.432  155.260  155.432  155.328  155.458  155.289  155.457   \n",
       "37220  155.429  155.458  155.275  155.298  155.456  155.484  155.303  155.326   \n",
       "37221  155.301  155.362  155.270  155.362  155.333  155.404  155.300  155.402   \n",
       "37222  155.278  155.315  155.207  155.254  155.428  155.456  155.357  155.404   \n",
       "37223  155.262  155.329  155.262  155.294  155.411  155.418  155.299  155.327   \n",
       "\n",
       "          RSI_14  \n",
       "37219  61.286263  \n",
       "37220  55.345932  \n",
       "37221  57.688104  \n",
       "37222  55.322082  \n",
       "37223  54.459758  "
      ]
     },
     "execution_count": 10,
     "metadata": {},
     "output_type": "execute_result"
    }
   ],
   "source": [
    "df_an.tail()"
   ]
  },
  {
   "cell_type": "code",
   "execution_count": 11,
   "id": "1accf740-7f93-4cba-9c8a-19ad1f662d30",
   "metadata": {},
   "outputs": [
    {
     "data": {
      "text/html": [
       "<div>\n",
       "<style scoped>\n",
       "    .dataframe tbody tr th:only-of-type {\n",
       "        vertical-align: middle;\n",
       "    }\n",
       "\n",
       "    .dataframe tbody tr th {\n",
       "        vertical-align: top;\n",
       "    }\n",
       "\n",
       "    .dataframe thead th {\n",
       "        text-align: right;\n",
       "    }\n",
       "</style>\n",
       "<table border=\"1\" class=\"dataframe\">\n",
       "  <thead>\n",
       "    <tr style=\"text-align: right;\">\n",
       "      <th></th>\n",
       "      <th>time</th>\n",
       "      <th>volume</th>\n",
       "      <th>mid_o</th>\n",
       "      <th>mid_h</th>\n",
       "      <th>mid_l</th>\n",
       "      <th>mid_c</th>\n",
       "      <th>bid_o</th>\n",
       "      <th>bid_h</th>\n",
       "      <th>bid_l</th>\n",
       "      <th>bid_c</th>\n",
       "      <th>ask_o</th>\n",
       "      <th>ask_h</th>\n",
       "      <th>ask_l</th>\n",
       "      <th>ask_c</th>\n",
       "      <th>RSI_14</th>\n",
       "    </tr>\n",
       "  </thead>\n",
       "  <tbody>\n",
       "    <tr>\n",
       "      <th>0</th>\n",
       "      <td>2016-01-07 00:00:00+00:00</td>\n",
       "      <td>6469</td>\n",
       "      <td>173.525</td>\n",
       "      <td>173.660</td>\n",
       "      <td>173.472</td>\n",
       "      <td>173.578</td>\n",
       "      <td>173.504</td>\n",
       "      <td>173.642</td>\n",
       "      <td>173.452</td>\n",
       "      <td>173.559</td>\n",
       "      <td>173.546</td>\n",
       "      <td>173.683</td>\n",
       "      <td>173.492</td>\n",
       "      <td>173.596</td>\n",
       "      <td>NaN</td>\n",
       "    </tr>\n",
       "    <tr>\n",
       "      <th>1</th>\n",
       "      <td>2016-01-07 01:00:00+00:00</td>\n",
       "      <td>20423</td>\n",
       "      <td>173.578</td>\n",
       "      <td>173.762</td>\n",
       "      <td>172.196</td>\n",
       "      <td>172.481</td>\n",
       "      <td>173.560</td>\n",
       "      <td>173.740</td>\n",
       "      <td>172.164</td>\n",
       "      <td>172.457</td>\n",
       "      <td>173.596</td>\n",
       "      <td>173.786</td>\n",
       "      <td>172.226</td>\n",
       "      <td>172.505</td>\n",
       "      <td>NaN</td>\n",
       "    </tr>\n",
       "    <tr>\n",
       "      <th>2</th>\n",
       "      <td>2016-01-07 02:00:00+00:00</td>\n",
       "      <td>13481</td>\n",
       "      <td>172.488</td>\n",
       "      <td>172.863</td>\n",
       "      <td>172.406</td>\n",
       "      <td>172.696</td>\n",
       "      <td>172.464</td>\n",
       "      <td>172.842</td>\n",
       "      <td>172.383</td>\n",
       "      <td>172.677</td>\n",
       "      <td>172.513</td>\n",
       "      <td>172.885</td>\n",
       "      <td>172.428</td>\n",
       "      <td>172.716</td>\n",
       "      <td>NaN</td>\n",
       "    </tr>\n",
       "    <tr>\n",
       "      <th>3</th>\n",
       "      <td>2016-01-07 03:00:00+00:00</td>\n",
       "      <td>8753</td>\n",
       "      <td>172.703</td>\n",
       "      <td>172.972</td>\n",
       "      <td>172.588</td>\n",
       "      <td>172.928</td>\n",
       "      <td>172.683</td>\n",
       "      <td>172.954</td>\n",
       "      <td>172.568</td>\n",
       "      <td>172.908</td>\n",
       "      <td>172.723</td>\n",
       "      <td>172.992</td>\n",
       "      <td>172.608</td>\n",
       "      <td>172.947</td>\n",
       "      <td>NaN</td>\n",
       "    </tr>\n",
       "    <tr>\n",
       "      <th>4</th>\n",
       "      <td>2016-01-07 04:00:00+00:00</td>\n",
       "      <td>6709</td>\n",
       "      <td>172.930</td>\n",
       "      <td>172.974</td>\n",
       "      <td>172.574</td>\n",
       "      <td>172.593</td>\n",
       "      <td>172.910</td>\n",
       "      <td>172.953</td>\n",
       "      <td>172.554</td>\n",
       "      <td>172.575</td>\n",
       "      <td>172.949</td>\n",
       "      <td>173.000</td>\n",
       "      <td>172.593</td>\n",
       "      <td>172.611</td>\n",
       "      <td>NaN</td>\n",
       "    </tr>\n",
       "  </tbody>\n",
       "</table>\n",
       "</div>"
      ],
      "text/plain": [
       "                       time  volume    mid_o    mid_h    mid_l    mid_c  \\\n",
       "0 2016-01-07 00:00:00+00:00    6469  173.525  173.660  173.472  173.578   \n",
       "1 2016-01-07 01:00:00+00:00   20423  173.578  173.762  172.196  172.481   \n",
       "2 2016-01-07 02:00:00+00:00   13481  172.488  172.863  172.406  172.696   \n",
       "3 2016-01-07 03:00:00+00:00    8753  172.703  172.972  172.588  172.928   \n",
       "4 2016-01-07 04:00:00+00:00    6709  172.930  172.974  172.574  172.593   \n",
       "\n",
       "     bid_o    bid_h    bid_l    bid_c    ask_o    ask_h    ask_l    ask_c  \\\n",
       "0  173.504  173.642  173.452  173.559  173.546  173.683  173.492  173.596   \n",
       "1  173.560  173.740  172.164  172.457  173.596  173.786  172.226  172.505   \n",
       "2  172.464  172.842  172.383  172.677  172.513  172.885  172.428  172.716   \n",
       "3  172.683  172.954  172.568  172.908  172.723  172.992  172.608  172.947   \n",
       "4  172.910  172.953  172.554  172.575  172.949  173.000  172.593  172.611   \n",
       "\n",
       "   RSI_14  \n",
       "0     NaN  \n",
       "1     NaN  \n",
       "2     NaN  \n",
       "3     NaN  \n",
       "4     NaN  "
      ]
     },
     "execution_count": 11,
     "metadata": {},
     "output_type": "execute_result"
    }
   ],
   "source": [
    "df_an.head()"
   ]
  },
  {
   "cell_type": "code",
   "execution_count": 12,
   "id": "70da9f2b-697b-4003-bae9-b667935c8903",
   "metadata": {},
   "outputs": [],
   "source": [
    "df_an = apply_patterns(df_an)"
   ]
  },
  {
   "cell_type": "code",
   "execution_count": 13,
   "id": "1129071c-1c0e-4291-b260-3a7612616d94",
   "metadata": {},
   "outputs": [],
   "source": [
    "df_an['EMA_200'] = df_an.mid_c.ewm(span=200, min_periods=200).mean()"
   ]
  },
  {
   "cell_type": "code",
   "execution_count": 14,
   "id": "6be9446f-91c0-49d6-9f6e-baca057d2457",
   "metadata": {},
   "outputs": [
    {
     "data": {
      "text/plain": [
       "Index(['time', 'volume', 'mid_o', 'mid_h', 'mid_l', 'mid_c', 'bid_o', 'bid_h',\n",
       "       'bid_l', 'bid_c', 'ask_o', 'ask_h', 'ask_l', 'ask_c', 'RSI_14',\n",
       "       'body_lower', 'body_upper', 'body_bottom_perc', 'body_top_perc',\n",
       "       'body_perc', 'direction', 'body_size', 'low_change', 'high_change',\n",
       "       'body_size_change', 'mid_point', 'mid_point_prev_2', 'body_size_prev',\n",
       "       'direction_prev', 'direction_prev_2', 'body_perc_prev',\n",
       "       'body_perc_prev_2', 'HANGING_MAN', 'SHOOTING_STAR', 'SPINNING_TOP',\n",
       "       'MARUBOZU', 'ENGULFING', 'TWEEZER_TOP', 'TWEEZER_BOTTOM',\n",
       "       'MORNING_STAR', 'EVENING_STAR', 'EMA_200'],\n",
       "      dtype='object')"
      ]
     },
     "execution_count": 14,
     "metadata": {},
     "output_type": "execute_result"
    }
   ],
   "source": [
    "df_an.columns"
   ]
  },
  {
   "cell_type": "code",
   "execution_count": 15,
   "id": "c81138ca-c33d-4589-a822-af3abf4487fa",
   "metadata": {},
   "outputs": [],
   "source": [
    "our_cols = ['time', 'mid_o', 'mid_h', 'mid_l', 'mid_c', 'ask_c', 'bid_c', 'ENGULFING', 'direction', 'EMA_200', 'RSI_14']"
   ]
  },
  {
   "cell_type": "code",
   "execution_count": 16,
   "id": "81129020-08f5-4353-924e-f7050ce34d31",
   "metadata": {},
   "outputs": [],
   "source": [
    "df_slim = df_an[our_cols].copy()\n",
    "df_slim.dropna(inplace=True)\n",
    "df_slim.reset_index(drop=True, inplace=True)"
   ]
  },
  {
   "cell_type": "code",
   "execution_count": 17,
   "id": "80f03e54-48e1-4515-b20f-1228de9124ec",
   "metadata": {},
   "outputs": [
    {
     "data": {
      "text/html": [
       "<div>\n",
       "<style scoped>\n",
       "    .dataframe tbody tr th:only-of-type {\n",
       "        vertical-align: middle;\n",
       "    }\n",
       "\n",
       "    .dataframe tbody tr th {\n",
       "        vertical-align: top;\n",
       "    }\n",
       "\n",
       "    .dataframe thead th {\n",
       "        text-align: right;\n",
       "    }\n",
       "</style>\n",
       "<table border=\"1\" class=\"dataframe\">\n",
       "  <thead>\n",
       "    <tr style=\"text-align: right;\">\n",
       "      <th></th>\n",
       "      <th>time</th>\n",
       "      <th>mid_o</th>\n",
       "      <th>mid_h</th>\n",
       "      <th>mid_l</th>\n",
       "      <th>mid_c</th>\n",
       "      <th>ask_c</th>\n",
       "      <th>bid_c</th>\n",
       "      <th>ENGULFING</th>\n",
       "      <th>direction</th>\n",
       "      <th>EMA_200</th>\n",
       "      <th>RSI_14</th>\n",
       "    </tr>\n",
       "  </thead>\n",
       "  <tbody>\n",
       "    <tr>\n",
       "      <th>0</th>\n",
       "      <td>2016-01-19 07:00:00+00:00</td>\n",
       "      <td>168.333</td>\n",
       "      <td>168.652</td>\n",
       "      <td>168.319</td>\n",
       "      <td>168.430</td>\n",
       "      <td>168.445</td>\n",
       "      <td>168.415</td>\n",
       "      <td>False</td>\n",
       "      <td>1</td>\n",
       "      <td>169.169546</td>\n",
       "      <td>65.074481</td>\n",
       "    </tr>\n",
       "    <tr>\n",
       "      <th>1</th>\n",
       "      <td>2016-01-19 08:00:00+00:00</td>\n",
       "      <td>168.425</td>\n",
       "      <td>168.858</td>\n",
       "      <td>168.334</td>\n",
       "      <td>168.527</td>\n",
       "      <td>168.542</td>\n",
       "      <td>168.512</td>\n",
       "      <td>False</td>\n",
       "      <td>1</td>\n",
       "      <td>169.162163</td>\n",
       "      <td>66.328463</td>\n",
       "    </tr>\n",
       "    <tr>\n",
       "      <th>2</th>\n",
       "      <td>2016-01-19 09:00:00+00:00</td>\n",
       "      <td>168.528</td>\n",
       "      <td>169.110</td>\n",
       "      <td>168.346</td>\n",
       "      <td>168.699</td>\n",
       "      <td>168.721</td>\n",
       "      <td>168.677</td>\n",
       "      <td>False</td>\n",
       "      <td>1</td>\n",
       "      <td>169.156849</td>\n",
       "      <td>68.488954</td>\n",
       "    </tr>\n",
       "    <tr>\n",
       "      <th>3</th>\n",
       "      <td>2016-01-19 10:00:00+00:00</td>\n",
       "      <td>168.700</td>\n",
       "      <td>168.976</td>\n",
       "      <td>168.670</td>\n",
       "      <td>168.872</td>\n",
       "      <td>168.894</td>\n",
       "      <td>168.851</td>\n",
       "      <td>False</td>\n",
       "      <td>1</td>\n",
       "      <td>169.153587</td>\n",
       "      <td>70.536688</td>\n",
       "    </tr>\n",
       "    <tr>\n",
       "      <th>4</th>\n",
       "      <td>2016-01-19 11:00:00+00:00</td>\n",
       "      <td>168.870</td>\n",
       "      <td>169.072</td>\n",
       "      <td>168.838</td>\n",
       "      <td>168.874</td>\n",
       "      <td>168.889</td>\n",
       "      <td>168.858</td>\n",
       "      <td>False</td>\n",
       "      <td>1</td>\n",
       "      <td>169.150389</td>\n",
       "      <td>70.560507</td>\n",
       "    </tr>\n",
       "  </tbody>\n",
       "</table>\n",
       "</div>"
      ],
      "text/plain": [
       "                       time    mid_o    mid_h    mid_l    mid_c    ask_c  \\\n",
       "0 2016-01-19 07:00:00+00:00  168.333  168.652  168.319  168.430  168.445   \n",
       "1 2016-01-19 08:00:00+00:00  168.425  168.858  168.334  168.527  168.542   \n",
       "2 2016-01-19 09:00:00+00:00  168.528  169.110  168.346  168.699  168.721   \n",
       "3 2016-01-19 10:00:00+00:00  168.700  168.976  168.670  168.872  168.894   \n",
       "4 2016-01-19 11:00:00+00:00  168.870  169.072  168.838  168.874  168.889   \n",
       "\n",
       "     bid_c  ENGULFING  direction     EMA_200     RSI_14  \n",
       "0  168.415      False          1  169.169546  65.074481  \n",
       "1  168.512      False          1  169.162163  66.328463  \n",
       "2  168.677      False          1  169.156849  68.488954  \n",
       "3  168.851      False          1  169.153587  70.536688  \n",
       "4  168.858      False          1  169.150389  70.560507  "
      ]
     },
     "execution_count": 17,
     "metadata": {},
     "output_type": "execute_result"
    }
   ],
   "source": [
    "df_slim.head()"
   ]
  },
  {
   "cell_type": "code",
   "execution_count": 18,
   "id": "ef5da247-f218-4305-9d7a-c64e6be2f7f1",
   "metadata": {},
   "outputs": [],
   "source": [
    "BUY = 1 \n",
    "SELL = -1\n",
    "NONE = 0\n",
    "RSI_LIMIT = 50.0\n",
    "\n",
    "def apply_signal(row):\n",
    "    if row.ENGULFING == True:\n",
    "        if row.direction  == BUY and row.mid_l > row.EMA_200:\n",
    "            if row.RSI_14 > RSI_LIMIT: \n",
    "                return BUY\n",
    "        if row.direction  == SELL and row.mid_h > row.EMA_200:\n",
    "            if row.RSI_14 < RSI_LIMIT: \n",
    "                return SELL\n",
    "    return NONE"
   ]
  },
  {
   "cell_type": "code",
   "execution_count": 19,
   "id": "0c894eff-4348-4ad2-8d6b-ef42d4819145",
   "metadata": {},
   "outputs": [],
   "source": [
    "df_slim[\"SIGNAL\"] = df_slim.apply(apply_signal, axis=1)"
   ]
  },
  {
   "cell_type": "code",
   "execution_count": 20,
   "id": "7ffbfe04-ecb8-4f1a-ab1a-da5902a12bd6",
   "metadata": {},
   "outputs": [
    {
     "data": {
      "text/plain": [
       "SIGNAL\n",
       " 0    34247\n",
       " 1     1768\n",
       "-1     1010\n",
       "Name: count, dtype: int64"
      ]
     },
     "execution_count": 20,
     "metadata": {},
     "output_type": "execute_result"
    }
   ],
   "source": [
    "df_slim[\"SIGNAL\"].value_counts()"
   ]
  },
  {
   "cell_type": "code",
   "execution_count": 21,
   "id": "39604127-33f2-4839-9e93-fcbdbe438b46",
   "metadata": {},
   "outputs": [],
   "source": [
    "LOSS_FACTOR = -1.0\n",
    "PROFIT_FACTOR = 1.5\n",
    "\n",
    "def apply_take_profit(row):\n",
    "    if row.SIGNAL != NONE:\n",
    "        return (row.mid_c - row.mid_o) * PROFIT_FACTOR + row.mid_c\n",
    "    else:\n",
    "        return 0.0\n",
    "\n",
    "def apply_stop_loss(row):\n",
    "    if row.SIGNAL != NONE:\n",
    "        return row.mid_o\n",
    "    else:\n",
    "        return 0.0"
   ]
  },
  {
   "cell_type": "code",
   "execution_count": 22,
   "id": "662abdce-14be-4a6c-aa64-cbf3386a2757",
   "metadata": {},
   "outputs": [],
   "source": [
    "df_slim[\"TP\"] = df_slim.apply(apply_take_profit, axis=1)\n",
    "df_slim[\"SL\"] = df_slim.apply(apply_stop_loss, axis=1)"
   ]
  },
  {
   "cell_type": "code",
   "execution_count": 23,
   "id": "14950eac-af0b-4aa3-8958-7176aa35d2c7",
   "metadata": {},
   "outputs": [
    {
     "data": {
      "text/html": [
       "<div>\n",
       "<style scoped>\n",
       "    .dataframe tbody tr th:only-of-type {\n",
       "        vertical-align: middle;\n",
       "    }\n",
       "\n",
       "    .dataframe tbody tr th {\n",
       "        vertical-align: top;\n",
       "    }\n",
       "\n",
       "    .dataframe thead th {\n",
       "        text-align: right;\n",
       "    }\n",
       "</style>\n",
       "<table border=\"1\" class=\"dataframe\">\n",
       "  <thead>\n",
       "    <tr style=\"text-align: right;\">\n",
       "      <th></th>\n",
       "      <th>time</th>\n",
       "      <th>mid_o</th>\n",
       "      <th>mid_h</th>\n",
       "      <th>mid_l</th>\n",
       "      <th>mid_c</th>\n",
       "      <th>ask_c</th>\n",
       "      <th>bid_c</th>\n",
       "      <th>ENGULFING</th>\n",
       "      <th>direction</th>\n",
       "      <th>EMA_200</th>\n",
       "      <th>RSI_14</th>\n",
       "      <th>SIGNAL</th>\n",
       "      <th>TP</th>\n",
       "      <th>SL</th>\n",
       "    </tr>\n",
       "  </thead>\n",
       "  <tbody>\n",
       "    <tr>\n",
       "      <th>73</th>\n",
       "      <td>2016-01-22 08:00:00+00:00</td>\n",
       "      <td>168.056</td>\n",
       "      <td>168.676</td>\n",
       "      <td>167.892</td>\n",
       "      <td>168.670</td>\n",
       "      <td>168.685</td>\n",
       "      <td>168.655</td>\n",
       "      <td>True</td>\n",
       "      <td>1</td>\n",
       "      <td>167.648623</td>\n",
       "      <td>72.153802</td>\n",
       "      <td>1</td>\n",
       "      <td>169.5910</td>\n",
       "      <td>168.056</td>\n",
       "    </tr>\n",
       "    <tr>\n",
       "      <th>76</th>\n",
       "      <td>2016-01-22 11:00:00+00:00</td>\n",
       "      <td>168.491</td>\n",
       "      <td>168.998</td>\n",
       "      <td>168.482</td>\n",
       "      <td>168.914</td>\n",
       "      <td>168.930</td>\n",
       "      <td>168.897</td>\n",
       "      <td>True</td>\n",
       "      <td>1</td>\n",
       "      <td>167.682724</td>\n",
       "      <td>70.750921</td>\n",
       "      <td>1</td>\n",
       "      <td>169.5485</td>\n",
       "      <td>168.491</td>\n",
       "    </tr>\n",
       "    <tr>\n",
       "      <th>79</th>\n",
       "      <td>2016-01-22 14:00:00+00:00</td>\n",
       "      <td>169.140</td>\n",
       "      <td>169.961</td>\n",
       "      <td>169.036</td>\n",
       "      <td>169.932</td>\n",
       "      <td>169.995</td>\n",
       "      <td>169.869</td>\n",
       "      <td>True</td>\n",
       "      <td>1</td>\n",
       "      <td>167.739128</td>\n",
       "      <td>75.417177</td>\n",
       "      <td>1</td>\n",
       "      <td>171.1200</td>\n",
       "      <td>169.140</td>\n",
       "    </tr>\n",
       "    <tr>\n",
       "      <th>95</th>\n",
       "      <td>2016-01-25 06:00:00+00:00</td>\n",
       "      <td>169.718</td>\n",
       "      <td>169.998</td>\n",
       "      <td>169.664</td>\n",
       "      <td>169.875</td>\n",
       "      <td>169.893</td>\n",
       "      <td>169.857</td>\n",
       "      <td>True</td>\n",
       "      <td>1</td>\n",
       "      <td>168.028139</td>\n",
       "      <td>63.779533</td>\n",
       "      <td>1</td>\n",
       "      <td>170.1105</td>\n",
       "      <td>169.718</td>\n",
       "    </tr>\n",
       "    <tr>\n",
       "      <th>101</th>\n",
       "      <td>2016-01-25 12:00:00+00:00</td>\n",
       "      <td>168.570</td>\n",
       "      <td>169.268</td>\n",
       "      <td>168.570</td>\n",
       "      <td>169.218</td>\n",
       "      <td>169.234</td>\n",
       "      <td>169.201</td>\n",
       "      <td>True</td>\n",
       "      <td>1</td>\n",
       "      <td>168.080973</td>\n",
       "      <td>53.160235</td>\n",
       "      <td>1</td>\n",
       "      <td>170.1900</td>\n",
       "      <td>168.570</td>\n",
       "    </tr>\n",
       "  </tbody>\n",
       "</table>\n",
       "</div>"
      ],
      "text/plain": [
       "                         time    mid_o    mid_h    mid_l    mid_c    ask_c  \\\n",
       "73  2016-01-22 08:00:00+00:00  168.056  168.676  167.892  168.670  168.685   \n",
       "76  2016-01-22 11:00:00+00:00  168.491  168.998  168.482  168.914  168.930   \n",
       "79  2016-01-22 14:00:00+00:00  169.140  169.961  169.036  169.932  169.995   \n",
       "95  2016-01-25 06:00:00+00:00  169.718  169.998  169.664  169.875  169.893   \n",
       "101 2016-01-25 12:00:00+00:00  168.570  169.268  168.570  169.218  169.234   \n",
       "\n",
       "       bid_c  ENGULFING  direction     EMA_200     RSI_14  SIGNAL        TP  \\\n",
       "73   168.655       True          1  167.648623  72.153802       1  169.5910   \n",
       "76   168.897       True          1  167.682724  70.750921       1  169.5485   \n",
       "79   169.869       True          1  167.739128  75.417177       1  171.1200   \n",
       "95   169.857       True          1  168.028139  63.779533       1  170.1105   \n",
       "101  169.201       True          1  168.080973  53.160235       1  170.1900   \n",
       "\n",
       "          SL  \n",
       "73   168.056  \n",
       "76   168.491  \n",
       "79   169.140  \n",
       "95   169.718  \n",
       "101  168.570  "
      ]
     },
     "execution_count": 23,
     "metadata": {},
     "output_type": "execute_result"
    }
   ],
   "source": [
    "df_slim[df_slim.SIGNAL == BUY].head()"
   ]
  },
  {
   "cell_type": "code",
   "execution_count": 30,
   "id": "a4eee76a-fd05-47de-a69a-5d492916189d",
   "metadata": {},
   "outputs": [
    {
     "data": {
      "application/vnd.plotly.v1+json": {
       "config": {
        "plotlyServerURL": "https://plot.ly"
       },
       "data": [
        {
         "close": [
          161.77,
          162.029,
          162.004,
          162.344,
          162.126,
          162.075,
          161.82,
          161.936,
          161.758,
          161.616,
          161.667,
          161.534,
          161.554,
          161.632,
          161.557,
          161.412,
          161.308,
          160.74,
          160.596,
          160.494,
          160.734,
          160.814,
          160.7,
          160.875,
          161.257,
          161.923,
          162.112,
          161.846,
          161.534,
          161.764,
          161.826,
          161.696,
          161.844,
          161.168,
          160.878,
          160.904,
          161.005,
          161.361,
          161.22,
          161.038,
          160.976,
          160.709,
          160.798,
          160.532,
          160.622,
          160.5,
          160.598,
          159.924,
          159.805,
          160.148,
          160.12,
          159.973,
          160.086,
          160.023,
          160.113,
          160.142,
          160.094,
          159.676,
          159.662,
          159.87,
          159.738,
          159.676,
          159.652,
          159.645,
          159.668,
          159.943,
          159.994,
          159.825,
          159.949,
          159.91,
          160.095,
          160.36,
          160.562,
          160.943,
          160.864,
          161.062,
          161.35,
          161.259,
          161.132,
          161.05,
          160.86,
          160.936,
          161.308,
          161.28,
          161.496,
          161.504,
          161.529,
          161.344,
          161.31,
          161.232,
          161.081,
          161.5,
          161.356,
          161.588,
          161.6,
          162.185,
          162.214,
          161.788,
          161.208,
          161.285
         ],
         "decreasing": {
          "fillcolor": "#CC2E3C",
          "line": {
           "color": "#FF3A4C"
          }
         },
         "high": [
          161.783,
          162.248,
          162.256,
          162.36,
          162.447,
          162.174,
          162.133,
          162.026,
          161.992,
          161.829,
          161.72,
          161.675,
          161.594,
          161.704,
          161.689,
          161.634,
          161.632,
          161.302,
          160.914,
          160.678,
          160.742,
          160.998,
          160.933,
          160.96,
          161.396,
          162.008,
          162.24,
          162.178,
          161.89,
          161.764,
          161.924,
          161.874,
          161.866,
          161.876,
          161.31,
          160.934,
          161.158,
          161.41,
          161.412,
          161.302,
          161.25,
          161.117,
          161.046,
          160.915,
          160.68,
          160.87,
          160.648,
          160.598,
          160.042,
          160.19,
          160.291,
          160.231,
          160.165,
          160.112,
          160.15,
          160.176,
          160.168,
          160.094,
          159.8,
          159.884,
          159.916,
          159.89,
          159.842,
          159.808,
          159.833,
          159.992,
          160.25,
          160.05,
          160.1,
          160.185,
          160.296,
          160.418,
          161.016,
          160.948,
          161.004,
          161.124,
          161.352,
          161.345,
          161.326,
          161.208,
          161.126,
          160.986,
          161.445,
          161.352,
          161.555,
          161.584,
          161.537,
          161.58,
          161.436,
          161.654,
          161.44,
          161.5,
          161.572,
          161.702,
          161.92,
          162.188,
          162.895,
          162.312,
          161.95,
          161.301
         ],
         "increasing": {
          "fillcolor": "#24A06B",
          "line": {
           "color": "#2EC886"
          }
         },
         "line": {
          "width": 1
         },
         "low": [
          161.017,
          161.748,
          161.951,
          161.943,
          162.019,
          161.876,
          161.818,
          161.806,
          161.74,
          161.413,
          161.336,
          161.366,
          161.419,
          161.526,
          161.492,
          161.302,
          161.196,
          160.474,
          160.518,
          160.38,
          160.498,
          160.736,
          160.56,
          160.609,
          160.76,
          161.156,
          161.886,
          161.8,
          161.494,
          161.496,
          161.733,
          161.638,
          161.556,
          161.12,
          160.698,
          160.668,
          160.778,
          160.98,
          161.124,
          160.822,
          160.736,
          160.632,
          160.712,
          160.484,
          160.31,
          160.498,
          160.437,
          159.768,
          159.601,
          159.77,
          159.99,
          159.884,
          159.912,
          159.958,
          159.988,
          160.054,
          160.004,
          159.63,
          159.526,
          159.56,
          159.665,
          159.634,
          159.636,
          159.634,
          159.552,
          159.484,
          159.935,
          159.67,
          159.746,
          159.853,
          159.914,
          160.07,
          160.118,
          160.515,
          160.776,
          160.818,
          161.011,
          161.05,
          161.116,
          160.96,
          160.813,
          160.736,
          160.895,
          161.138,
          161.25,
          161.426,
          161.37,
          161.334,
          160.956,
          161.004,
          160.884,
          161.053,
          161.256,
          161.004,
          161.328,
          161.408,
          161.95,
          161.524,
          160.982,
          161.07
         ],
         "opacity": 1,
         "open": [
          161.132,
          161.768,
          162.03,
          161.999,
          162.35,
          162.126,
          162.076,
          161.982,
          161.924,
          161.764,
          161.614,
          161.668,
          161.536,
          161.554,
          161.633,
          161.556,
          161.414,
          161.302,
          160.736,
          160.591,
          160.5,
          160.736,
          160.815,
          160.706,
          160.876,
          161.257,
          161.928,
          162.112,
          161.847,
          161.532,
          161.764,
          161.862,
          161.695,
          161.842,
          161.168,
          160.872,
          160.904,
          161,
          161.366,
          161.222,
          161.038,
          160.976,
          160.714,
          160.798,
          160.526,
          160.624,
          160.499,
          160.598,
          159.926,
          159.808,
          160.146,
          160.119,
          159.974,
          160.086,
          160.024,
          160.099,
          160.144,
          160.094,
          159.67,
          159.66,
          159.87,
          159.74,
          159.672,
          159.652,
          159.651,
          159.668,
          159.942,
          159.998,
          159.824,
          159.952,
          159.916,
          160.1,
          160.362,
          160.562,
          160.944,
          160.869,
          161.062,
          161.344,
          161.262,
          161.183,
          161.051,
          160.861,
          160.93,
          161.31,
          161.28,
          161.496,
          161.51,
          161.53,
          161.338,
          161.31,
          161.232,
          161.076,
          161.497,
          161.356,
          161.588,
          161.599,
          162.188,
          162.215,
          161.786,
          161.207
         ],
         "type": "candlestick",
         "x": [
          "s16-03-04 15:00",
          "s16-03-04 16:00",
          "s16-03-04 17:00",
          "s16-03-04 18:00",
          "s16-03-04 19:00",
          "s16-03-04 20:00",
          "s16-03-04 21:00",
          "s16-03-06 22:00",
          "s16-03-06 23:00",
          "s16-03-07 00:00",
          "s16-03-07 01:00",
          "s16-03-07 02:00",
          "s16-03-07 03:00",
          "s16-03-07 04:00",
          "s16-03-07 05:00",
          "s16-03-07 06:00",
          "s16-03-07 07:00",
          "s16-03-07 08:00",
          "s16-03-07 09:00",
          "s16-03-07 10:00",
          "s16-03-07 11:00",
          "s16-03-07 12:00",
          "s16-03-07 13:00",
          "s16-03-07 14:00",
          "s16-03-07 15:00",
          "s16-03-07 16:00",
          "s16-03-07 17:00",
          "s16-03-07 18:00",
          "s16-03-07 19:00",
          "s16-03-07 20:00",
          "s16-03-07 21:00",
          "s16-03-07 22:00",
          "s16-03-07 23:00",
          "s16-03-08 00:00",
          "s16-03-08 01:00",
          "s16-03-08 02:00",
          "s16-03-08 03:00",
          "s16-03-08 04:00",
          "s16-03-08 05:00",
          "s16-03-08 06:00",
          "s16-03-08 07:00",
          "s16-03-08 08:00",
          "s16-03-08 09:00",
          "s16-03-08 10:00",
          "s16-03-08 11:00",
          "s16-03-08 12:00",
          "s16-03-08 13:00",
          "s16-03-08 14:00",
          "s16-03-08 15:00",
          "s16-03-08 16:00",
          "s16-03-08 17:00",
          "s16-03-08 18:00",
          "s16-03-08 19:00",
          "s16-03-08 20:00",
          "s16-03-08 21:00",
          "s16-03-08 22:00",
          "s16-03-08 23:00",
          "s16-03-09 00:00",
          "s16-03-09 01:00",
          "s16-03-09 02:00",
          "s16-03-09 03:00",
          "s16-03-09 04:00",
          "s16-03-09 05:00",
          "s16-03-09 06:00",
          "s16-03-09 07:00",
          "s16-03-09 08:00",
          "s16-03-09 09:00",
          "s16-03-09 10:00",
          "s16-03-09 11:00",
          "s16-03-09 12:00",
          "s16-03-09 13:00",
          "s16-03-09 14:00",
          "s16-03-09 15:00",
          "s16-03-09 16:00",
          "s16-03-09 17:00",
          "s16-03-09 18:00",
          "s16-03-09 19:00",
          "s16-03-09 20:00",
          "s16-03-09 21:00",
          "s16-03-09 22:00",
          "s16-03-09 23:00",
          "s16-03-10 00:00",
          "s16-03-10 01:00",
          "s16-03-10 02:00",
          "s16-03-10 03:00",
          "s16-03-10 04:00",
          "s16-03-10 05:00",
          "s16-03-10 06:00",
          "s16-03-10 07:00",
          "s16-03-10 08:00",
          "s16-03-10 09:00",
          "s16-03-10 10:00",
          "s16-03-10 11:00",
          "s16-03-10 12:00",
          "s16-03-10 13:00",
          "s16-03-10 14:00",
          "s16-03-10 15:00",
          "s16-03-10 16:00",
          "s16-03-10 17:00",
          "s16-03-10 18:00"
         ]
        },
        {
         "marker": {
          "color": "#0000FF",
          "size": 12
         },
         "mode": "markers",
         "type": "scatter",
         "x": [
          "s16-03-04 18:00",
          "s16-03-07 13:00",
          "s16-03-08 00:00",
          "s16-03-08 10:00",
          "s16-03-08 12:00",
          "s16-03-08 14:00",
          "s16-03-09 18:00",
          "s16-03-10 03:00",
          "s16-03-10 10:00",
          "s16-03-10 12:00"
         ],
         "y": [
          162.344,
          160.7,
          161.168,
          160.532,
          160.5,
          159.924,
          161.062,
          161.496,
          161.5,
          161.588
         ]
        },
        {
         "marker": {
          "color": "#00FF00",
          "size": 12
         },
         "mode": "markers",
         "type": "scatter",
         "x": [
          "s16-03-04 18:00",
          "s16-03-07 13:00",
          "s16-03-08 00:00",
          "s16-03-08 10:00",
          "s16-03-08 12:00",
          "s16-03-08 14:00",
          "s16-03-09 18:00",
          "s16-03-10 03:00",
          "s16-03-10 10:00",
          "s16-03-10 12:00"
         ],
         "y": [
          162.86149999999998,
          160.52749999999997,
          160.15699999999998,
          160.13300000000004,
          160.31400000000002,
          158.913,
          161.35150000000004,
          161.82000000000002,
          162.13600000000002,
          161.93599999999998
         ]
        },
        {
         "marker": {
          "color": "#FF0000",
          "size": 12
         },
         "mode": "markers",
         "type": "scatter",
         "x": [
          "s16-03-04 18:00",
          "s16-03-07 13:00",
          "s16-03-08 00:00",
          "s16-03-08 10:00",
          "s16-03-08 12:00",
          "s16-03-08 14:00",
          "s16-03-09 18:00",
          "s16-03-10 03:00",
          "s16-03-10 10:00",
          "s16-03-10 12:00"
         ],
         "y": [
          161.999,
          160.815,
          161.842,
          160.798,
          160.624,
          160.598,
          160.869,
          161.28,
          161.076,
          161.356
         ]
        },
        {
         "line": {
          "shape": "spline",
          "width": 2
         },
         "name": "EMA_200",
         "type": "scatter",
         "x": [
          "s16-03-04 15:00",
          "s16-03-04 16:00",
          "s16-03-04 17:00",
          "s16-03-04 18:00",
          "s16-03-04 19:00",
          "s16-03-04 20:00",
          "s16-03-04 21:00",
          "s16-03-06 22:00",
          "s16-03-06 23:00",
          "s16-03-07 00:00",
          "s16-03-07 01:00",
          "s16-03-07 02:00",
          "s16-03-07 03:00",
          "s16-03-07 04:00",
          "s16-03-07 05:00",
          "s16-03-07 06:00",
          "s16-03-07 07:00",
          "s16-03-07 08:00",
          "s16-03-07 09:00",
          "s16-03-07 10:00",
          "s16-03-07 11:00",
          "s16-03-07 12:00",
          "s16-03-07 13:00",
          "s16-03-07 14:00",
          "s16-03-07 15:00",
          "s16-03-07 16:00",
          "s16-03-07 17:00",
          "s16-03-07 18:00",
          "s16-03-07 19:00",
          "s16-03-07 20:00",
          "s16-03-07 21:00",
          "s16-03-07 22:00",
          "s16-03-07 23:00",
          "s16-03-08 00:00",
          "s16-03-08 01:00",
          "s16-03-08 02:00",
          "s16-03-08 03:00",
          "s16-03-08 04:00",
          "s16-03-08 05:00",
          "s16-03-08 06:00",
          "s16-03-08 07:00",
          "s16-03-08 08:00",
          "s16-03-08 09:00",
          "s16-03-08 10:00",
          "s16-03-08 11:00",
          "s16-03-08 12:00",
          "s16-03-08 13:00",
          "s16-03-08 14:00",
          "s16-03-08 15:00",
          "s16-03-08 16:00",
          "s16-03-08 17:00",
          "s16-03-08 18:00",
          "s16-03-08 19:00",
          "s16-03-08 20:00",
          "s16-03-08 21:00",
          "s16-03-08 22:00",
          "s16-03-08 23:00",
          "s16-03-09 00:00",
          "s16-03-09 01:00",
          "s16-03-09 02:00",
          "s16-03-09 03:00",
          "s16-03-09 04:00",
          "s16-03-09 05:00",
          "s16-03-09 06:00",
          "s16-03-09 07:00",
          "s16-03-09 08:00",
          "s16-03-09 09:00",
          "s16-03-09 10:00",
          "s16-03-09 11:00",
          "s16-03-09 12:00",
          "s16-03-09 13:00",
          "s16-03-09 14:00",
          "s16-03-09 15:00",
          "s16-03-09 16:00",
          "s16-03-09 17:00",
          "s16-03-09 18:00",
          "s16-03-09 19:00",
          "s16-03-09 20:00",
          "s16-03-09 21:00",
          "s16-03-09 22:00",
          "s16-03-09 23:00",
          "s16-03-10 00:00",
          "s16-03-10 01:00",
          "s16-03-10 02:00",
          "s16-03-10 03:00",
          "s16-03-10 04:00",
          "s16-03-10 05:00",
          "s16-03-10 06:00",
          "s16-03-10 07:00",
          "s16-03-10 08:00",
          "s16-03-10 09:00",
          "s16-03-10 10:00",
          "s16-03-10 11:00",
          "s16-03-10 12:00",
          "s16-03-10 13:00",
          "s16-03-10 14:00",
          "s16-03-10 15:00",
          "s16-03-10 16:00",
          "s16-03-10 17:00",
          "s16-03-10 18:00"
         ],
         "xaxis": "x",
         "y": [
          159.55839649784684,
          159.58298072219554,
          159.607071538228,
          159.63430585704427,
          159.6590999150118,
          159.68313975991938,
          159.70440295991955,
          159.7266088455019,
          159.7468225398833,
          159.7654220922564,
          159.78434404270766,
          159.80175426274855,
          159.8191902457365,
          159.83722887279677,
          159.85434169868188,
          159.86984139187325,
          159.88415198136576,
          159.8926682082123,
          159.89966679987128,
          159.90558078507178,
          159.91382406871418,
          159.92278137275977,
          159.93051517319037,
          159.93991337114434,
          159.95301917874073,
          159.9726216709932,
          159.99390976269103,
          160.0123391599311,
          160.02748058330837,
          160.04475997042414,
          160.06248434788745,
          160.07873877617376,
          160.09630414350022,
          160.10696813189628,
          160.1146403386837,
          160.12249491494006,
          160.13127633818783,
          160.1435127782172,
          160.1542244263954,
          160.16301848348868,
          160.1711080979779,
          160.17646041745667,
          160.18264507538638,
          160.1861213464465,
          160.19045857428293,
          160.19353867762507,
          160.19756328373106,
          160.19484118377437,
          160.1909620580547,
          160.190534563001,
          160.1898327072283,
          160.18767510903663,
          160.18666338910427,
          160.18503485415548,
          160.18431807047543,
          160.18389698411858,
          160.18300246356873,
          160.17795753341997,
          160.17282349712247,
          160.16981025217098,
          160.16551352569857,
          160.16064262420312,
          160.1555813799663,
          160.15050084539078,
          160.1456997270301,
          160.1436827665239,
          160.14219335081643,
          160.13903712475454,
          160.13714616460138,
          160.1348859522957,
          160.13448906820153,
          160.13673300815182,
          160.14096461401238,
          160.14894524020383,
          160.15606036704463,
          160.16507488505334,
          160.17686543501935,
          160.18763316945427,
          160.19703004988187,
          160.205517487931,
          160.21202988457037,
          160.21923371279016,
          160.23006742479194,
          160.2405147218949,
          160.2530073575507,
          160.26545528706063,
          160.27802811279034,
          160.28863499996385,
          160.29879802714888,
          160.30808379202423,
          160.31577464250793,
          160.3275581947182,
          160.33779163164607,
          160.35023173872403,
          160.36266746433233,
          160.38080044472886,
          160.3990415533855,
          160.41286227327896,
          160.4207742262555,
          160.42937363274066
         ],
         "yaxis": "y"
        },
        {
         "line": {
          "shape": "spline",
          "width": 2
         },
         "name": "RSI_14",
         "type": "scatter",
         "x": [
          "s16-03-04 15:00",
          "s16-03-04 16:00",
          "s16-03-04 17:00",
          "s16-03-04 18:00",
          "s16-03-04 19:00",
          "s16-03-04 20:00",
          "s16-03-04 21:00",
          "s16-03-06 22:00",
          "s16-03-06 23:00",
          "s16-03-07 00:00",
          "s16-03-07 01:00",
          "s16-03-07 02:00",
          "s16-03-07 03:00",
          "s16-03-07 04:00",
          "s16-03-07 05:00",
          "s16-03-07 06:00",
          "s16-03-07 07:00",
          "s16-03-07 08:00",
          "s16-03-07 09:00",
          "s16-03-07 10:00",
          "s16-03-07 11:00",
          "s16-03-07 12:00",
          "s16-03-07 13:00",
          "s16-03-07 14:00",
          "s16-03-07 15:00",
          "s16-03-07 16:00",
          "s16-03-07 17:00",
          "s16-03-07 18:00",
          "s16-03-07 19:00",
          "s16-03-07 20:00",
          "s16-03-07 21:00",
          "s16-03-07 22:00",
          "s16-03-07 23:00",
          "s16-03-08 00:00",
          "s16-03-08 01:00",
          "s16-03-08 02:00",
          "s16-03-08 03:00",
          "s16-03-08 04:00",
          "s16-03-08 05:00",
          "s16-03-08 06:00",
          "s16-03-08 07:00",
          "s16-03-08 08:00",
          "s16-03-08 09:00",
          "s16-03-08 10:00",
          "s16-03-08 11:00",
          "s16-03-08 12:00",
          "s16-03-08 13:00",
          "s16-03-08 14:00",
          "s16-03-08 15:00",
          "s16-03-08 16:00",
          "s16-03-08 17:00",
          "s16-03-08 18:00",
          "s16-03-08 19:00",
          "s16-03-08 20:00",
          "s16-03-08 21:00",
          "s16-03-08 22:00",
          "s16-03-08 23:00",
          "s16-03-09 00:00",
          "s16-03-09 01:00",
          "s16-03-09 02:00",
          "s16-03-09 03:00",
          "s16-03-09 04:00",
          "s16-03-09 05:00",
          "s16-03-09 06:00",
          "s16-03-09 07:00",
          "s16-03-09 08:00",
          "s16-03-09 09:00",
          "s16-03-09 10:00",
          "s16-03-09 11:00",
          "s16-03-09 12:00",
          "s16-03-09 13:00",
          "s16-03-09 14:00",
          "s16-03-09 15:00",
          "s16-03-09 16:00",
          "s16-03-09 17:00",
          "s16-03-09 18:00",
          "s16-03-09 19:00",
          "s16-03-09 20:00",
          "s16-03-09 21:00",
          "s16-03-09 22:00",
          "s16-03-09 23:00",
          "s16-03-10 00:00",
          "s16-03-10 01:00",
          "s16-03-10 02:00",
          "s16-03-10 03:00",
          "s16-03-10 04:00",
          "s16-03-10 05:00",
          "s16-03-10 06:00",
          "s16-03-10 07:00",
          "s16-03-10 08:00",
          "s16-03-10 09:00",
          "s16-03-10 10:00",
          "s16-03-10 11:00",
          "s16-03-10 12:00",
          "s16-03-10 13:00",
          "s16-03-10 14:00",
          "s16-03-10 15:00",
          "s16-03-10 16:00",
          "s16-03-10 17:00",
          "s16-03-10 18:00"
         ],
         "xaxis": "x",
         "y": [
          66.8607216952542,
          69.83207844163077,
          69.18722269214607,
          72.85811173821227,
          67.32017595834007,
          66.05521969167407,
          59.98597460395701,
          61.70951282340407,
          57.60893359555867,
          54.497756457694656,
          55.428770081532946,
          52.41673950190676,
          52.83182375434858,
          54.498891790716236,
          52.57476825827865,
          48.97471736384014,
          46.51452059859536,
          35.905815452670325,
          33.801053858608924,
          32.354306894170634,
          38.973108191146984,
          41.04387664302008,
          39.0123970147123,
          43.625220486975145,
          52.135582693223675,
          62.706105651066686,
          65.06402437839685,
          59.37426550709378,
          53.46810344036321,
          56.8738020141202,
          57.771053603559345,
          55.17877619952357,
          57.515996595773245,
          45.77480609663219,
          41.82982008914079,
          42.309863544889005,
          44.235055893271465,
          50.504788927424876,
          48.19362287054377,
          45.31130347225515,
          44.33847063040161,
          40.32340103012093,
          42.202228459264575,
          38.31915940010092,
          40.320007175064,
          38.49698285195667,
          40.812011509473145,
          31.914532993633628,
          30.644252222523676,
          38.27088948977036,
          37.9044607325029,
          35.95793681145716,
          38.56949265609101,
          37.64772901069862,
          39.85895565081494,
          40.590061496971444,
          39.729173321734,
          33.13786932582562,
          32.94074885902758,
          38.76851251057325,
          36.59500889128219,
          35.585846691668436,
          35.18140443432647,
          35.05625863738331,
          35.86353565757058,
          44.71266394927921,
          46.19531096548351,
          42.1605349712008,
          45.894599456518414,
          44.91250683576765,
          50.34101513459949,
          56.893802031325244,
          61.106807116954904,
          67.54906082630654,
          65.1397270968988,
          68.20107615025621,
          72.04639123156944,
          69.19896365417354,
          65.31900559324183,
          62.867958728989244,
          57.48534035469382,
          58.9975725292125,
          65.4715462041749,
          64.64419356445694,
          68.00329920869827,
          68.12409349124528,
          68.52399722456904,
          62.295725320933194,
          61.19486622056332,
          58.63492364641737,
          53.93139378497674,
          62.839259479659766,
          58.64249877038896,
          62.93718754430735,
          63.150339265530306,
          71.696180517412,
          72.04231852940936,
          60.364039931104855,
          48.77189379017629,
          50.14081404181494
         ],
         "yaxis": "y2"
        }
       ],
       "layout": {
        "font": {
         "color": "#e1e1e1",
         "size": 8
        },
        "height": 250,
        "margin": {
         "b": 10,
         "l": 10,
         "r": 10,
         "t": 10
        },
        "paper_bgcolor": "#2c303c",
        "plot_bgcolor": "#2c303c",
        "template": {
         "data": {
          "bar": [
           {
            "error_x": {
             "color": "#2a3f5f"
            },
            "error_y": {
             "color": "#2a3f5f"
            },
            "marker": {
             "line": {
              "color": "#E5ECF6",
              "width": 0.5
             },
             "pattern": {
              "fillmode": "overlay",
              "size": 10,
              "solidity": 0.2
             }
            },
            "type": "bar"
           }
          ],
          "barpolar": [
           {
            "marker": {
             "line": {
              "color": "#E5ECF6",
              "width": 0.5
             },
             "pattern": {
              "fillmode": "overlay",
              "size": 10,
              "solidity": 0.2
             }
            },
            "type": "barpolar"
           }
          ],
          "carpet": [
           {
            "aaxis": {
             "endlinecolor": "#2a3f5f",
             "gridcolor": "white",
             "linecolor": "white",
             "minorgridcolor": "white",
             "startlinecolor": "#2a3f5f"
            },
            "baxis": {
             "endlinecolor": "#2a3f5f",
             "gridcolor": "white",
             "linecolor": "white",
             "minorgridcolor": "white",
             "startlinecolor": "#2a3f5f"
            },
            "type": "carpet"
           }
          ],
          "choropleth": [
           {
            "colorbar": {
             "outlinewidth": 0,
             "ticks": ""
            },
            "type": "choropleth"
           }
          ],
          "contour": [
           {
            "colorbar": {
             "outlinewidth": 0,
             "ticks": ""
            },
            "colorscale": [
             [
              0,
              "#0d0887"
             ],
             [
              0.1111111111111111,
              "#46039f"
             ],
             [
              0.2222222222222222,
              "#7201a8"
             ],
             [
              0.3333333333333333,
              "#9c179e"
             ],
             [
              0.4444444444444444,
              "#bd3786"
             ],
             [
              0.5555555555555556,
              "#d8576b"
             ],
             [
              0.6666666666666666,
              "#ed7953"
             ],
             [
              0.7777777777777778,
              "#fb9f3a"
             ],
             [
              0.8888888888888888,
              "#fdca26"
             ],
             [
              1,
              "#f0f921"
             ]
            ],
            "type": "contour"
           }
          ],
          "contourcarpet": [
           {
            "colorbar": {
             "outlinewidth": 0,
             "ticks": ""
            },
            "type": "contourcarpet"
           }
          ],
          "heatmap": [
           {
            "colorbar": {
             "outlinewidth": 0,
             "ticks": ""
            },
            "colorscale": [
             [
              0,
              "#0d0887"
             ],
             [
              0.1111111111111111,
              "#46039f"
             ],
             [
              0.2222222222222222,
              "#7201a8"
             ],
             [
              0.3333333333333333,
              "#9c179e"
             ],
             [
              0.4444444444444444,
              "#bd3786"
             ],
             [
              0.5555555555555556,
              "#d8576b"
             ],
             [
              0.6666666666666666,
              "#ed7953"
             ],
             [
              0.7777777777777778,
              "#fb9f3a"
             ],
             [
              0.8888888888888888,
              "#fdca26"
             ],
             [
              1,
              "#f0f921"
             ]
            ],
            "type": "heatmap"
           }
          ],
          "heatmapgl": [
           {
            "colorbar": {
             "outlinewidth": 0,
             "ticks": ""
            },
            "colorscale": [
             [
              0,
              "#0d0887"
             ],
             [
              0.1111111111111111,
              "#46039f"
             ],
             [
              0.2222222222222222,
              "#7201a8"
             ],
             [
              0.3333333333333333,
              "#9c179e"
             ],
             [
              0.4444444444444444,
              "#bd3786"
             ],
             [
              0.5555555555555556,
              "#d8576b"
             ],
             [
              0.6666666666666666,
              "#ed7953"
             ],
             [
              0.7777777777777778,
              "#fb9f3a"
             ],
             [
              0.8888888888888888,
              "#fdca26"
             ],
             [
              1,
              "#f0f921"
             ]
            ],
            "type": "heatmapgl"
           }
          ],
          "histogram": [
           {
            "marker": {
             "pattern": {
              "fillmode": "overlay",
              "size": 10,
              "solidity": 0.2
             }
            },
            "type": "histogram"
           }
          ],
          "histogram2d": [
           {
            "colorbar": {
             "outlinewidth": 0,
             "ticks": ""
            },
            "colorscale": [
             [
              0,
              "#0d0887"
             ],
             [
              0.1111111111111111,
              "#46039f"
             ],
             [
              0.2222222222222222,
              "#7201a8"
             ],
             [
              0.3333333333333333,
              "#9c179e"
             ],
             [
              0.4444444444444444,
              "#bd3786"
             ],
             [
              0.5555555555555556,
              "#d8576b"
             ],
             [
              0.6666666666666666,
              "#ed7953"
             ],
             [
              0.7777777777777778,
              "#fb9f3a"
             ],
             [
              0.8888888888888888,
              "#fdca26"
             ],
             [
              1,
              "#f0f921"
             ]
            ],
            "type": "histogram2d"
           }
          ],
          "histogram2dcontour": [
           {
            "colorbar": {
             "outlinewidth": 0,
             "ticks": ""
            },
            "colorscale": [
             [
              0,
              "#0d0887"
             ],
             [
              0.1111111111111111,
              "#46039f"
             ],
             [
              0.2222222222222222,
              "#7201a8"
             ],
             [
              0.3333333333333333,
              "#9c179e"
             ],
             [
              0.4444444444444444,
              "#bd3786"
             ],
             [
              0.5555555555555556,
              "#d8576b"
             ],
             [
              0.6666666666666666,
              "#ed7953"
             ],
             [
              0.7777777777777778,
              "#fb9f3a"
             ],
             [
              0.8888888888888888,
              "#fdca26"
             ],
             [
              1,
              "#f0f921"
             ]
            ],
            "type": "histogram2dcontour"
           }
          ],
          "mesh3d": [
           {
            "colorbar": {
             "outlinewidth": 0,
             "ticks": ""
            },
            "type": "mesh3d"
           }
          ],
          "parcoords": [
           {
            "line": {
             "colorbar": {
              "outlinewidth": 0,
              "ticks": ""
             }
            },
            "type": "parcoords"
           }
          ],
          "pie": [
           {
            "automargin": true,
            "type": "pie"
           }
          ],
          "scatter": [
           {
            "fillpattern": {
             "fillmode": "overlay",
             "size": 10,
             "solidity": 0.2
            },
            "type": "scatter"
           }
          ],
          "scatter3d": [
           {
            "line": {
             "colorbar": {
              "outlinewidth": 0,
              "ticks": ""
             }
            },
            "marker": {
             "colorbar": {
              "outlinewidth": 0,
              "ticks": ""
             }
            },
            "type": "scatter3d"
           }
          ],
          "scattercarpet": [
           {
            "marker": {
             "colorbar": {
              "outlinewidth": 0,
              "ticks": ""
             }
            },
            "type": "scattercarpet"
           }
          ],
          "scattergeo": [
           {
            "marker": {
             "colorbar": {
              "outlinewidth": 0,
              "ticks": ""
             }
            },
            "type": "scattergeo"
           }
          ],
          "scattergl": [
           {
            "marker": {
             "colorbar": {
              "outlinewidth": 0,
              "ticks": ""
             }
            },
            "type": "scattergl"
           }
          ],
          "scattermapbox": [
           {
            "marker": {
             "colorbar": {
              "outlinewidth": 0,
              "ticks": ""
             }
            },
            "type": "scattermapbox"
           }
          ],
          "scatterpolar": [
           {
            "marker": {
             "colorbar": {
              "outlinewidth": 0,
              "ticks": ""
             }
            },
            "type": "scatterpolar"
           }
          ],
          "scatterpolargl": [
           {
            "marker": {
             "colorbar": {
              "outlinewidth": 0,
              "ticks": ""
             }
            },
            "type": "scatterpolargl"
           }
          ],
          "scatterternary": [
           {
            "marker": {
             "colorbar": {
              "outlinewidth": 0,
              "ticks": ""
             }
            },
            "type": "scatterternary"
           }
          ],
          "surface": [
           {
            "colorbar": {
             "outlinewidth": 0,
             "ticks": ""
            },
            "colorscale": [
             [
              0,
              "#0d0887"
             ],
             [
              0.1111111111111111,
              "#46039f"
             ],
             [
              0.2222222222222222,
              "#7201a8"
             ],
             [
              0.3333333333333333,
              "#9c179e"
             ],
             [
              0.4444444444444444,
              "#bd3786"
             ],
             [
              0.5555555555555556,
              "#d8576b"
             ],
             [
              0.6666666666666666,
              "#ed7953"
             ],
             [
              0.7777777777777778,
              "#fb9f3a"
             ],
             [
              0.8888888888888888,
              "#fdca26"
             ],
             [
              1,
              "#f0f921"
             ]
            ],
            "type": "surface"
           }
          ],
          "table": [
           {
            "cells": {
             "fill": {
              "color": "#EBF0F8"
             },
             "line": {
              "color": "white"
             }
            },
            "header": {
             "fill": {
              "color": "#C8D4E3"
             },
             "line": {
              "color": "white"
             }
            },
            "type": "table"
           }
          ]
         },
         "layout": {
          "annotationdefaults": {
           "arrowcolor": "#2a3f5f",
           "arrowhead": 0,
           "arrowwidth": 1
          },
          "autotypenumbers": "strict",
          "coloraxis": {
           "colorbar": {
            "outlinewidth": 0,
            "ticks": ""
           }
          },
          "colorscale": {
           "diverging": [
            [
             0,
             "#8e0152"
            ],
            [
             0.1,
             "#c51b7d"
            ],
            [
             0.2,
             "#de77ae"
            ],
            [
             0.3,
             "#f1b6da"
            ],
            [
             0.4,
             "#fde0ef"
            ],
            [
             0.5,
             "#f7f7f7"
            ],
            [
             0.6,
             "#e6f5d0"
            ],
            [
             0.7,
             "#b8e186"
            ],
            [
             0.8,
             "#7fbc41"
            ],
            [
             0.9,
             "#4d9221"
            ],
            [
             1,
             "#276419"
            ]
           ],
           "sequential": [
            [
             0,
             "#0d0887"
            ],
            [
             0.1111111111111111,
             "#46039f"
            ],
            [
             0.2222222222222222,
             "#7201a8"
            ],
            [
             0.3333333333333333,
             "#9c179e"
            ],
            [
             0.4444444444444444,
             "#bd3786"
            ],
            [
             0.5555555555555556,
             "#d8576b"
            ],
            [
             0.6666666666666666,
             "#ed7953"
            ],
            [
             0.7777777777777778,
             "#fb9f3a"
            ],
            [
             0.8888888888888888,
             "#fdca26"
            ],
            [
             1,
             "#f0f921"
            ]
           ],
           "sequentialminus": [
            [
             0,
             "#0d0887"
            ],
            [
             0.1111111111111111,
             "#46039f"
            ],
            [
             0.2222222222222222,
             "#7201a8"
            ],
            [
             0.3333333333333333,
             "#9c179e"
            ],
            [
             0.4444444444444444,
             "#bd3786"
            ],
            [
             0.5555555555555556,
             "#d8576b"
            ],
            [
             0.6666666666666666,
             "#ed7953"
            ],
            [
             0.7777777777777778,
             "#fb9f3a"
            ],
            [
             0.8888888888888888,
             "#fdca26"
            ],
            [
             1,
             "#f0f921"
            ]
           ]
          },
          "colorway": [
           "#636efa",
           "#EF553B",
           "#00cc96",
           "#ab63fa",
           "#FFA15A",
           "#19d3f3",
           "#FF6692",
           "#B6E880",
           "#FF97FF",
           "#FECB52"
          ],
          "font": {
           "color": "#2a3f5f"
          },
          "geo": {
           "bgcolor": "white",
           "lakecolor": "white",
           "landcolor": "#E5ECF6",
           "showlakes": true,
           "showland": true,
           "subunitcolor": "white"
          },
          "hoverlabel": {
           "align": "left"
          },
          "hovermode": "closest",
          "mapbox": {
           "style": "light"
          },
          "paper_bgcolor": "white",
          "plot_bgcolor": "#E5ECF6",
          "polar": {
           "angularaxis": {
            "gridcolor": "white",
            "linecolor": "white",
            "ticks": ""
           },
           "bgcolor": "#E5ECF6",
           "radialaxis": {
            "gridcolor": "white",
            "linecolor": "white",
            "ticks": ""
           }
          },
          "scene": {
           "xaxis": {
            "backgroundcolor": "#E5ECF6",
            "gridcolor": "white",
            "gridwidth": 2,
            "linecolor": "white",
            "showbackground": true,
            "ticks": "",
            "zerolinecolor": "white"
           },
           "yaxis": {
            "backgroundcolor": "#E5ECF6",
            "gridcolor": "white",
            "gridwidth": 2,
            "linecolor": "white",
            "showbackground": true,
            "ticks": "",
            "zerolinecolor": "white"
           },
           "zaxis": {
            "backgroundcolor": "#E5ECF6",
            "gridcolor": "white",
            "gridwidth": 2,
            "linecolor": "white",
            "showbackground": true,
            "ticks": "",
            "zerolinecolor": "white"
           }
          },
          "shapedefaults": {
           "line": {
            "color": "#2a3f5f"
           }
          },
          "ternary": {
           "aaxis": {
            "gridcolor": "white",
            "linecolor": "white",
            "ticks": ""
           },
           "baxis": {
            "gridcolor": "white",
            "linecolor": "white",
            "ticks": ""
           },
           "bgcolor": "#E5ECF6",
           "caxis": {
            "gridcolor": "white",
            "linecolor": "white",
            "ticks": ""
           }
          },
          "title": {
           "x": 0.05
          },
          "xaxis": {
           "automargin": true,
           "gridcolor": "white",
           "linecolor": "white",
           "ticks": "",
           "title": {
            "standoff": 15
           },
           "zerolinecolor": "white",
           "zerolinewidth": 2
          },
          "yaxis": {
           "automargin": true,
           "gridcolor": "white",
           "linecolor": "white",
           "ticks": "",
           "title": {
            "standoff": 15
           },
           "zerolinecolor": "white",
           "zerolinewidth": 2
          }
         }
        },
        "width": 900,
        "xaxis": {
         "anchor": "y",
         "autorange": true,
         "domain": [
          0,
          0.94
         ],
         "gridcolor": "#1f292f",
         "nticks": 5,
         "range": [
          -3.2050365241863723,
          99.5
         ],
         "rangeslider": {
          "visible": false,
          "yaxis": {},
          "yaxis2": {}
         },
         "type": "category"
        },
        "yaxis": {
         "anchor": "x",
         "autorange": true,
         "domain": [
          0,
          1
         ],
         "gridcolor": "#1f292f",
         "range": [
          158.51294604612852,
          163.26155395387147
         ],
         "type": "linear"
        },
        "yaxis2": {
         "anchor": "x",
         "autorange": true,
         "gridcolor": "#1f292f",
         "overlaying": "y",
         "range": [
          28.29903780498542,
          75.20332615575053
         ],
         "side": "right",
         "type": "linear"
        }
       }
      },
      "image/png": "[encoded data removed]",
      "text/html": [
       "<div>                            <div id=\"cc805c12-2fe7-4a1f-b3e4-81ffe4781567\" class=\"plotly-graph-div\" style=\"height:250px; width:900px;\"></div>            <script type=\"text/javascript\">                require([\"plotly\"], function(Plotly) {                    window.PLOTLYENV=window.PLOTLYENV || {};                                    if (document.getElementById(\"cc805c12-2fe7-4a1f-b3e4-81ffe4781567\")) {                    Plotly.newPlot(                        \"cc805c12-2fe7-4a1f-b3e4-81ffe4781567\",                        [{\"close\":[161.77,162.029,162.004,162.344,162.126,162.075,161.82,161.936,161.758,161.616,161.667,161.534,161.554,161.632,161.557,161.412,161.308,160.74,160.596,160.494,160.734,160.814,160.7,160.875,161.257,161.923,162.112,161.846,161.534,161.764,161.826,161.696,161.844,161.168,160.878,160.904,161.005,161.361,161.22,161.038,160.976,160.709,160.798,160.532,160.622,160.5,160.598,159.924,159.805,160.148,160.12,159.973,160.086,160.023,160.113,160.142,160.094,159.676,159.662,159.87,159.738,159.676,159.652,159.645,159.668,159.943,159.994,159.825,159.949,159.91,160.095,160.36,160.562,160.943,160.864,161.062,161.35,161.259,161.132,161.05,160.86,160.936,161.308,161.28,161.496,161.504,161.529,161.344,161.31,161.232,161.081,161.5,161.356,161.588,161.6,162.185,162.214,161.788,161.208,161.285],\"decreasing\":{\"fillcolor\":\"#CC2E3C\",\"line\":{\"color\":\"#FF3A4C\"}},\"high\":[161.783,162.248,162.256,162.36,162.447,162.174,162.133,162.026,161.992,161.829,161.72,161.675,161.594,161.704,161.689,161.634,161.632,161.302,160.914,160.678,160.742,160.998,160.933,160.96,161.396,162.008,162.24,162.178,161.89,161.764,161.924,161.874,161.866,161.876,161.31,160.934,161.158,161.41,161.412,161.302,161.25,161.117,161.046,160.915,160.68,160.87,160.648,160.598,160.042,160.19,160.291,160.231,160.165,160.112,160.15,160.176,160.168,160.094,159.8,159.884,159.916,159.89,159.842,159.808,159.833,159.992,160.25,160.05,160.1,160.185,160.296,160.418,161.016,160.948,161.004,161.124,161.352,161.345,161.326,161.208,161.126,160.986,161.445,161.352,161.555,161.584,161.537,161.58,161.436,161.654,161.44,161.5,161.572,161.702,161.92,162.188,162.895,162.312,161.95,161.301],\"increasing\":{\"fillcolor\":\"#24A06B\",\"line\":{\"color\":\"#2EC886\"}},\"line\":{\"width\":1},\"low\":[161.017,161.748,161.951,161.943,162.019,161.876,161.818,161.806,161.74,161.413,161.336,161.366,161.419,161.526,161.492,161.302,161.196,160.474,160.518,160.38,160.498,160.736,160.56,160.609,160.76,161.156,161.886,161.8,161.494,161.496,161.733,161.638,161.556,161.12,160.698,160.668,160.778,160.98,161.124,160.822,160.736,160.632,160.712,160.484,160.31,160.498,160.437,159.768,159.601,159.77,159.99,159.884,159.912,159.958,159.988,160.054,160.004,159.63,159.526,159.56,159.665,159.634,159.636,159.634,159.552,159.484,159.935,159.67,159.746,159.853,159.914,160.07,160.118,160.515,160.776,160.818,161.011,161.05,161.116,160.96,160.813,160.736,160.895,161.138,161.25,161.426,161.37,161.334,160.956,161.004,160.884,161.053,161.256,161.004,161.328,161.408,161.95,161.524,160.982,161.07],\"opacity\":1,\"open\":[161.132,161.768,162.03,161.999,162.35,162.126,162.076,161.982,161.924,161.764,161.614,161.668,161.536,161.554,161.633,161.556,161.414,161.302,160.736,160.591,160.5,160.736,160.815,160.706,160.876,161.257,161.928,162.112,161.847,161.532,161.764,161.862,161.695,161.842,161.168,160.872,160.904,161.0,161.366,161.222,161.038,160.976,160.714,160.798,160.526,160.624,160.499,160.598,159.926,159.808,160.146,160.119,159.974,160.086,160.024,160.099,160.144,160.094,159.67,159.66,159.87,159.74,159.672,159.652,159.651,159.668,159.942,159.998,159.824,159.952,159.916,160.1,160.362,160.562,160.944,160.869,161.062,161.344,161.262,161.183,161.051,160.861,160.93,161.31,161.28,161.496,161.51,161.53,161.338,161.31,161.232,161.076,161.497,161.356,161.588,161.599,162.188,162.215,161.786,161.207],\"x\":[\"s16-03-04 15:00\",\"s16-03-04 16:00\",\"s16-03-04 17:00\",\"s16-03-04 18:00\",\"s16-03-04 19:00\",\"s16-03-04 20:00\",\"s16-03-04 21:00\",\"s16-03-06 22:00\",\"s16-03-06 23:00\",\"s16-03-07 00:00\",\"s16-03-07 01:00\",\"s16-03-07 02:00\",\"s16-03-07 03:00\",\"s16-03-07 04:00\",\"s16-03-07 05:00\",\"s16-03-07 06:00\",\"s16-03-07 07:00\",\"s16-03-07 08:00\",\"s16-03-07 09:00\",\"s16-03-07 10:00\",\"s16-03-07 11:00\",\"s16-03-07 12:00\",\"s16-03-07 13:00\",\"s16-03-07 14:00\",\"s16-03-07 15:00\",\"s16-03-07 16:00\",\"s16-03-07 17:00\",\"s16-03-07 18:00\",\"s16-03-07 19:00\",\"s16-03-07 20:00\",\"s16-03-07 21:00\",\"s16-03-07 22:00\",\"s16-03-07 23:00\",\"s16-03-08 00:00\",\"s16-03-08 01:00\",\"s16-03-08 02:00\",\"s16-03-08 03:00\",\"s16-03-08 04:00\",\"s16-03-08 05:00\",\"s16-03-08 06:00\",\"s16-03-08 07:00\",\"s16-03-08 08:00\",\"s16-03-08 09:00\",\"s16-03-08 10:00\",\"s16-03-08 11:00\",\"s16-03-08 12:00\",\"s16-03-08 13:00\",\"s16-03-08 14:00\",\"s16-03-08 15:00\",\"s16-03-08 16:00\",\"s16-03-08 17:00\",\"s16-03-08 18:00\",\"s16-03-08 19:00\",\"s16-03-08 20:00\",\"s16-03-08 21:00\",\"s16-03-08 22:00\",\"s16-03-08 23:00\",\"s16-03-09 00:00\",\"s16-03-09 01:00\",\"s16-03-09 02:00\",\"s16-03-09 03:00\",\"s16-03-09 04:00\",\"s16-03-09 05:00\",\"s16-03-09 06:00\",\"s16-03-09 07:00\",\"s16-03-09 08:00\",\"s16-03-09 09:00\",\"s16-03-09 10:00\",\"s16-03-09 11:00\",\"s16-03-09 12:00\",\"s16-03-09 13:00\",\"s16-03-09 14:00\",\"s16-03-09 15:00\",\"s16-03-09 16:00\",\"s16-03-09 17:00\",\"s16-03-09 18:00\",\"s16-03-09 19:00\",\"s16-03-09 20:00\",\"s16-03-09 21:00\",\"s16-03-09 22:00\",\"s16-03-09 23:00\",\"s16-03-10 00:00\",\"s16-03-10 01:00\",\"s16-03-10 02:00\",\"s16-03-10 03:00\",\"s16-03-10 04:00\",\"s16-03-10 05:00\",\"s16-03-10 06:00\",\"s16-03-10 07:00\",\"s16-03-10 08:00\",\"s16-03-10 09:00\",\"s16-03-10 10:00\",\"s16-03-10 11:00\",\"s16-03-10 12:00\",\"s16-03-10 13:00\",\"s16-03-10 14:00\",\"s16-03-10 15:00\",\"s16-03-10 16:00\",\"s16-03-10 17:00\",\"s16-03-10 18:00\"],\"type\":\"candlestick\"},{\"marker\":{\"color\":\"#0000FF\",\"size\":12},\"mode\":\"markers\",\"x\":[\"s16-03-04 18:00\",\"s16-03-07 13:00\",\"s16-03-08 00:00\",\"s16-03-08 10:00\",\"s16-03-08 12:00\",\"s16-03-08 14:00\",\"s16-03-09 18:00\",\"s16-03-10 03:00\",\"s16-03-10 10:00\",\"s16-03-10 12:00\"],\"y\":[162.344,160.7,161.168,160.532,160.5,159.924,161.062,161.496,161.5,161.588],\"type\":\"scatter\"},{\"marker\":{\"color\":\"#00FF00\",\"size\":12},\"mode\":\"markers\",\"x\":[\"s16-03-04 18:00\",\"s16-03-07 13:00\",\"s16-03-08 00:00\",\"s16-03-08 10:00\",\"s16-03-08 12:00\",\"s16-03-08 14:00\",\"s16-03-09 18:00\",\"s16-03-10 03:00\",\"s16-03-10 10:00\",\"s16-03-10 12:00\"],\"y\":[162.86149999999998,160.52749999999997,160.15699999999998,160.13300000000004,160.31400000000002,158.913,161.35150000000004,161.82000000000002,162.13600000000002,161.93599999999998],\"type\":\"scatter\"},{\"marker\":{\"color\":\"#FF0000\",\"size\":12},\"mode\":\"markers\",\"x\":[\"s16-03-04 18:00\",\"s16-03-07 13:00\",\"s16-03-08 00:00\",\"s16-03-08 10:00\",\"s16-03-08 12:00\",\"s16-03-08 14:00\",\"s16-03-09 18:00\",\"s16-03-10 03:00\",\"s16-03-10 10:00\",\"s16-03-10 12:00\"],\"y\":[161.999,160.815,161.842,160.798,160.624,160.598,160.869,161.28,161.076,161.356],\"type\":\"scatter\"},{\"line\":{\"shape\":\"spline\",\"width\":2},\"name\":\"EMA_200\",\"x\":[\"s16-03-04 15:00\",\"s16-03-04 16:00\",\"s16-03-04 17:00\",\"s16-03-04 18:00\",\"s16-03-04 19:00\",\"s16-03-04 20:00\",\"s16-03-04 21:00\",\"s16-03-06 22:00\",\"s16-03-06 23:00\",\"s16-03-07 00:00\",\"s16-03-07 01:00\",\"s16-03-07 02:00\",\"s16-03-07 03:00\",\"s16-03-07 04:00\",\"s16-03-07 05:00\",\"s16-03-07 06:00\",\"s16-03-07 07:00\",\"s16-03-07 08:00\",\"s16-03-07 09:00\",\"s16-03-07 10:00\",\"s16-03-07 11:00\",\"s16-03-07 12:00\",\"s16-03-07 13:00\",\"s16-03-07 14:00\",\"s16-03-07 15:00\",\"s16-03-07 16:00\",\"s16-03-07 17:00\",\"s16-03-07 18:00\",\"s16-03-07 19:00\",\"s16-03-07 20:00\",\"s16-03-07 21:00\",\"s16-03-07 22:00\",\"s16-03-07 23:00\",\"s16-03-08 00:00\",\"s16-03-08 01:00\",\"s16-03-08 02:00\",\"s16-03-08 03:00\",\"s16-03-08 04:00\",\"s16-03-08 05:00\",\"s16-03-08 06:00\",\"s16-03-08 07:00\",\"s16-03-08 08:00\",\"s16-03-08 09:00\",\"s16-03-08 10:00\",\"s16-03-08 11:00\",\"s16-03-08 12:00\",\"s16-03-08 13:00\",\"s16-03-08 14:00\",\"s16-03-08 15:00\",\"s16-03-08 16:00\",\"s16-03-08 17:00\",\"s16-03-08 18:00\",\"s16-03-08 19:00\",\"s16-03-08 20:00\",\"s16-03-08 21:00\",\"s16-03-08 22:00\",\"s16-03-08 23:00\",\"s16-03-09 00:00\",\"s16-03-09 01:00\",\"s16-03-09 02:00\",\"s16-03-09 03:00\",\"s16-03-09 04:00\",\"s16-03-09 05:00\",\"s16-03-09 06:00\",\"s16-03-09 07:00\",\"s16-03-09 08:00\",\"s16-03-09 09:00\",\"s16-03-09 10:00\",\"s16-03-09 11:00\",\"s16-03-09 12:00\",\"s16-03-09 13:00\",\"s16-03-09 14:00\",\"s16-03-09 15:00\",\"s16-03-09 16:00\",\"s16-03-09 17:00\",\"s16-03-09 18:00\",\"s16-03-09 19:00\",\"s16-03-09 20:00\",\"s16-03-09 21:00\",\"s16-03-09 22:00\",\"s16-03-09 23:00\",\"s16-03-10 00:00\",\"s16-03-10 01:00\",\"s16-03-10 02:00\",\"s16-03-10 03:00\",\"s16-03-10 04:00\",\"s16-03-10 05:00\",\"s16-03-10 06:00\",\"s16-03-10 07:00\",\"s16-03-10 08:00\",\"s16-03-10 09:00\",\"s16-03-10 10:00\",\"s16-03-10 11:00\",\"s16-03-10 12:00\",\"s16-03-10 13:00\",\"s16-03-10 14:00\",\"s16-03-10 15:00\",\"s16-03-10 16:00\",\"s16-03-10 17:00\",\"s16-03-10 18:00\"],\"y\":[159.55839649784684,159.58298072219554,159.607071538228,159.63430585704427,159.6590999150118,159.68313975991938,159.70440295991955,159.7266088455019,159.7468225398833,159.7654220922564,159.78434404270766,159.80175426274855,159.8191902457365,159.83722887279677,159.85434169868188,159.86984139187325,159.88415198136576,159.8926682082123,159.89966679987128,159.90558078507178,159.91382406871418,159.92278137275977,159.93051517319037,159.93991337114434,159.95301917874073,159.9726216709932,159.99390976269103,160.0123391599311,160.02748058330837,160.04475997042414,160.06248434788745,160.07873877617376,160.09630414350022,160.10696813189628,160.1146403386837,160.12249491494006,160.13127633818783,160.1435127782172,160.1542244263954,160.16301848348868,160.1711080979779,160.17646041745667,160.18264507538638,160.1861213464465,160.19045857428293,160.19353867762507,160.19756328373106,160.19484118377437,160.1909620580547,160.190534563001,160.1898327072283,160.18767510903663,160.18666338910427,160.18503485415548,160.18431807047543,160.18389698411858,160.18300246356873,160.17795753341997,160.17282349712247,160.16981025217098,160.16551352569857,160.16064262420312,160.1555813799663,160.15050084539078,160.1456997270301,160.1436827665239,160.14219335081643,160.13903712475454,160.13714616460138,160.1348859522957,160.13448906820153,160.13673300815182,160.14096461401238,160.14894524020383,160.15606036704463,160.16507488505334,160.17686543501935,160.18763316945427,160.19703004988187,160.205517487931,160.21202988457037,160.21923371279016,160.23006742479194,160.2405147218949,160.2530073575507,160.26545528706063,160.27802811279034,160.28863499996385,160.29879802714888,160.30808379202423,160.31577464250793,160.3275581947182,160.33779163164607,160.35023173872403,160.36266746433233,160.38080044472886,160.3990415533855,160.41286227327896,160.4207742262555,160.42937363274066],\"type\":\"scatter\",\"xaxis\":\"x\",\"yaxis\":\"y\"},{\"line\":{\"shape\":\"spline\",\"width\":2},\"name\":\"RSI_14\",\"x\":[\"s16-03-04 15:00\",\"s16-03-04 16:00\",\"s16-03-04 17:00\",\"s16-03-04 18:00\",\"s16-03-04 19:00\",\"s16-03-04 20:00\",\"s16-03-04 21:00\",\"s16-03-06 22:00\",\"s16-03-06 23:00\",\"s16-03-07 00:00\",\"s16-03-07 01:00\",\"s16-03-07 02:00\",\"s16-03-07 03:00\",\"s16-03-07 04:00\",\"s16-03-07 05:00\",\"s16-03-07 06:00\",\"s16-03-07 07:00\",\"s16-03-07 08:00\",\"s16-03-07 09:00\",\"s16-03-07 10:00\",\"s16-03-07 11:00\",\"s16-03-07 12:00\",\"s16-03-07 13:00\",\"s16-03-07 14:00\",\"s16-03-07 15:00\",\"s16-03-07 16:00\",\"s16-03-07 17:00\",\"s16-03-07 18:00\",\"s16-03-07 19:00\",\"s16-03-07 20:00\",\"s16-03-07 21:00\",\"s16-03-07 22:00\",\"s16-03-07 23:00\",\"s16-03-08 00:00\",\"s16-03-08 01:00\",\"s16-03-08 02:00\",\"s16-03-08 03:00\",\"s16-03-08 04:00\",\"s16-03-08 05:00\",\"s16-03-08 06:00\",\"s16-03-08 07:00\",\"s16-03-08 08:00\",\"s16-03-08 09:00\",\"s16-03-08 10:00\",\"s16-03-08 11:00\",\"s16-03-08 12:00\",\"s16-03-08 13:00\",\"s16-03-08 14:00\",\"s16-03-08 15:00\",\"s16-03-08 16:00\",\"s16-03-08 17:00\",\"s16-03-08 18:00\",\"s16-03-08 19:00\",\"s16-03-08 20:00\",\"s16-03-08 21:00\",\"s16-03-08 22:00\",\"s16-03-08 23:00\",\"s16-03-09 00:00\",\"s16-03-09 01:00\",\"s16-03-09 02:00\",\"s16-03-09 03:00\",\"s16-03-09 04:00\",\"s16-03-09 05:00\",\"s16-03-09 06:00\",\"s16-03-09 07:00\",\"s16-03-09 08:00\",\"s16-03-09 09:00\",\"s16-03-09 10:00\",\"s16-03-09 11:00\",\"s16-03-09 12:00\",\"s16-03-09 13:00\",\"s16-03-09 14:00\",\"s16-03-09 15:00\",\"s16-03-09 16:00\",\"s16-03-09 17:00\",\"s16-03-09 18:00\",\"s16-03-09 19:00\",\"s16-03-09 20:00\",\"s16-03-09 21:00\",\"s16-03-09 22:00\",\"s16-03-09 23:00\",\"s16-03-10 00:00\",\"s16-03-10 01:00\",\"s16-03-10 02:00\",\"s16-03-10 03:00\",\"s16-03-10 04:00\",\"s16-03-10 05:00\",\"s16-03-10 06:00\",\"s16-03-10 07:00\",\"s16-03-10 08:00\",\"s16-03-10 09:00\",\"s16-03-10 10:00\",\"s16-03-10 11:00\",\"s16-03-10 12:00\",\"s16-03-10 13:00\",\"s16-03-10 14:00\",\"s16-03-10 15:00\",\"s16-03-10 16:00\",\"s16-03-10 17:00\",\"s16-03-10 18:00\"],\"y\":[66.8607216952542,69.83207844163077,69.18722269214607,72.85811173821227,67.32017595834007,66.05521969167407,59.98597460395701,61.70951282340407,57.60893359555867,54.497756457694656,55.428770081532946,52.41673950190676,52.83182375434858,54.498891790716236,52.57476825827865,48.97471736384014,46.51452059859536,35.905815452670325,33.801053858608924,32.354306894170634,38.973108191146984,41.04387664302008,39.0123970147123,43.625220486975145,52.135582693223675,62.706105651066686,65.06402437839685,59.37426550709378,53.46810344036321,56.8738020141202,57.771053603559345,55.17877619952357,57.515996595773245,45.77480609663219,41.82982008914079,42.309863544889005,44.235055893271465,50.504788927424876,48.19362287054377,45.31130347225515,44.33847063040161,40.32340103012093,42.202228459264575,38.31915940010092,40.320007175064,38.49698285195667,40.812011509473145,31.914532993633628,30.644252222523676,38.27088948977036,37.9044607325029,35.95793681145716,38.56949265609101,37.64772901069862,39.85895565081494,40.590061496971444,39.729173321734,33.13786932582562,32.94074885902758,38.76851251057325,36.59500889128219,35.585846691668436,35.18140443432647,35.05625863738331,35.86353565757058,44.71266394927921,46.19531096548351,42.1605349712008,45.894599456518414,44.91250683576765,50.34101513459949,56.893802031325244,61.106807116954904,67.54906082630654,65.1397270968988,68.20107615025621,72.04639123156944,69.19896365417354,65.31900559324183,62.867958728989244,57.48534035469382,58.9975725292125,65.4715462041749,64.64419356445694,68.00329920869827,68.12409349124528,68.52399722456904,62.295725320933194,61.19486622056332,58.63492364641737,53.93139378497674,62.839259479659766,58.64249877038896,62.93718754430735,63.150339265530306,71.696180517412,72.04231852940936,60.364039931104855,48.77189379017629,50.14081404181494],\"type\":\"scatter\",\"xaxis\":\"x\",\"yaxis\":\"y2\"}],                        {\"template\":{\"data\":{\"histogram2dcontour\":[{\"type\":\"histogram2dcontour\",\"colorbar\":{\"outlinewidth\":0,\"ticks\":\"\"},\"colorscale\":[[0.0,\"#0d0887\"],[0.1111111111111111,\"#46039f\"],[0.2222222222222222,\"#7201a8\"],[0.3333333333333333,\"#9c179e\"],[0.4444444444444444,\"#bd3786\"],[0.5555555555555556,\"#d8576b\"],[0.6666666666666666,\"#ed7953\"],[0.7777777777777778,\"#fb9f3a\"],[0.8888888888888888,\"#fdca26\"],[1.0,\"#f0f921\"]]}],\"choropleth\":[{\"type\":\"choropleth\",\"colorbar\":{\"outlinewidth\":0,\"ticks\":\"\"}}],\"histogram2d\":[{\"type\":\"histogram2d\",\"colorbar\":{\"outlinewidth\":0,\"ticks\":\"\"},\"colorscale\":[[0.0,\"#0d0887\"],[0.1111111111111111,\"#46039f\"],[0.2222222222222222,\"#7201a8\"],[0.3333333333333333,\"#9c179e\"],[0.4444444444444444,\"#bd3786\"],[0.5555555555555556,\"#d8576b\"],[0.6666666666666666,\"#ed7953\"],[0.7777777777777778,\"#fb9f3a\"],[0.8888888888888888,\"#fdca26\"],[1.0,\"#f0f921\"]]}],\"heatmap\":[{\"type\":\"heatmap\",\"colorbar\":{\"outlinewidth\":0,\"ticks\":\"\"},\"colorscale\":[[0.0,\"#0d0887\"],[0.1111111111111111,\"#46039f\"],[0.2222222222222222,\"#7201a8\"],[0.3333333333333333,\"#9c179e\"],[0.4444444444444444,\"#bd3786\"],[0.5555555555555556,\"#d8576b\"],[0.6666666666666666,\"#ed7953\"],[0.7777777777777778,\"#fb9f3a\"],[0.8888888888888888,\"#fdca26\"],[1.0,\"#f0f921\"]]}],\"heatmapgl\":[{\"type\":\"heatmapgl\",\"colorbar\":{\"outlinewidth\":0,\"ticks\":\"\"},\"colorscale\":[[0.0,\"#0d0887\"],[0.1111111111111111,\"#46039f\"],[0.2222222222222222,\"#7201a8\"],[0.3333333333333333,\"#9c179e\"],[0.4444444444444444,\"#bd3786\"],[0.5555555555555556,\"#d8576b\"],[0.6666666666666666,\"#ed7953\"],[0.7777777777777778,\"#fb9f3a\"],[0.8888888888888888,\"#fdca26\"],[1.0,\"#f0f921\"]]}],\"contourcarpet\":[{\"type\":\"contourcarpet\",\"colorbar\":{\"outlinewidth\":0,\"ticks\":\"\"}}],\"contour\":[{\"type\":\"contour\",\"colorbar\":{\"outlinewidth\":0,\"ticks\":\"\"},\"colorscale\":[[0.0,\"#0d0887\"],[0.1111111111111111,\"#46039f\"],[0.2222222222222222,\"#7201a8\"],[0.3333333333333333,\"#9c179e\"],[0.4444444444444444,\"#bd3786\"],[0.5555555555555556,\"#d8576b\"],[0.6666666666666666,\"#ed7953\"],[0.7777777777777778,\"#fb9f3a\"],[0.8888888888888888,\"#fdca26\"],[1.0,\"#f0f921\"]]}],\"surface\":[{\"type\":\"surface\",\"colorbar\":{\"outlinewidth\":0,\"ticks\":\"\"},\"colorscale\":[[0.0,\"#0d0887\"],[0.1111111111111111,\"#46039f\"],[0.2222222222222222,\"#7201a8\"],[0.3333333333333333,\"#9c179e\"],[0.4444444444444444,\"#bd3786\"],[0.5555555555555556,\"#d8576b\"],[0.6666666666666666,\"#ed7953\"],[0.7777777777777778,\"#fb9f3a\"],[0.8888888888888888,\"#fdca26\"],[1.0,\"#f0f921\"]]}],\"mesh3d\":[{\"type\":\"mesh3d\",\"colorbar\":{\"outlinewidth\":0,\"ticks\":\"\"}}],\"scatter\":[{\"fillpattern\":{\"fillmode\":\"overlay\",\"size\":10,\"solidity\":0.2},\"type\":\"scatter\"}],\"parcoords\":[{\"type\":\"parcoords\",\"line\":{\"colorbar\":{\"outlinewidth\":0,\"ticks\":\"\"}}}],\"scatterpolargl\":[{\"type\":\"scatterpolargl\",\"marker\":{\"colorbar\":{\"outlinewidth\":0,\"ticks\":\"\"}}}],\"bar\":[{\"error_x\":{\"color\":\"#2a3f5f\"},\"error_y\":{\"color\":\"#2a3f5f\"},\"marker\":{\"line\":{\"color\":\"#E5ECF6\",\"width\":0.5},\"pattern\":{\"fillmode\":\"overlay\",\"size\":10,\"solidity\":0.2}},\"type\":\"bar\"}],\"scattergeo\":[{\"type\":\"scattergeo\",\"marker\":{\"colorbar\":{\"outlinewidth\":0,\"ticks\":\"\"}}}],\"scatterpolar\":[{\"type\":\"scatterpolar\",\"marker\":{\"colorbar\":{\"outlinewidth\":0,\"ticks\":\"\"}}}],\"histogram\":[{\"marker\":{\"pattern\":{\"fillmode\":\"overlay\",\"size\":10,\"solidity\":0.2}},\"type\":\"histogram\"}],\"scattergl\":[{\"type\":\"scattergl\",\"marker\":{\"colorbar\":{\"outlinewidth\":0,\"ticks\":\"\"}}}],\"scatter3d\":[{\"type\":\"scatter3d\",\"line\":{\"colorbar\":{\"outlinewidth\":0,\"ticks\":\"\"}},\"marker\":{\"colorbar\":{\"outlinewidth\":0,\"ticks\":\"\"}}}],\"scattermapbox\":[{\"type\":\"scattermapbox\",\"marker\":{\"colorbar\":{\"outlinewidth\":0,\"ticks\":\"\"}}}],\"scatterternary\":[{\"type\":\"scatterternary\",\"marker\":{\"colorbar\":{\"outlinewidth\":0,\"ticks\":\"\"}}}],\"scattercarpet\":[{\"type\":\"scattercarpet\",\"marker\":{\"colorbar\":{\"outlinewidth\":0,\"ticks\":\"\"}}}],\"carpet\":[{\"aaxis\":{\"endlinecolor\":\"#2a3f5f\",\"gridcolor\":\"white\",\"linecolor\":\"white\",\"minorgridcolor\":\"white\",\"startlinecolor\":\"#2a3f5f\"},\"baxis\":{\"endlinecolor\":\"#2a3f5f\",\"gridcolor\":\"white\",\"linecolor\":\"white\",\"minorgridcolor\":\"white\",\"startlinecolor\":\"#2a3f5f\"},\"type\":\"carpet\"}],\"table\":[{\"cells\":{\"fill\":{\"color\":\"#EBF0F8\"},\"line\":{\"color\":\"white\"}},\"header\":{\"fill\":{\"color\":\"#C8D4E3\"},\"line\":{\"color\":\"white\"}},\"type\":\"table\"}],\"barpolar\":[{\"marker\":{\"line\":{\"color\":\"#E5ECF6\",\"width\":0.5},\"pattern\":{\"fillmode\":\"overlay\",\"size\":10,\"solidity\":0.2}},\"type\":\"barpolar\"}],\"pie\":[{\"automargin\":true,\"type\":\"pie\"}]},\"layout\":{\"autotypenumbers\":\"strict\",\"colorway\":[\"#636efa\",\"#EF553B\",\"#00cc96\",\"#ab63fa\",\"#FFA15A\",\"#19d3f3\",\"#FF6692\",\"#B6E880\",\"#FF97FF\",\"#FECB52\"],\"font\":{\"color\":\"#2a3f5f\"},\"hovermode\":\"closest\",\"hoverlabel\":{\"align\":\"left\"},\"paper_bgcolor\":\"white\",\"plot_bgcolor\":\"#E5ECF6\",\"polar\":{\"bgcolor\":\"#E5ECF6\",\"angularaxis\":{\"gridcolor\":\"white\",\"linecolor\":\"white\",\"ticks\":\"\"},\"radialaxis\":{\"gridcolor\":\"white\",\"linecolor\":\"white\",\"ticks\":\"\"}},\"ternary\":{\"bgcolor\":\"#E5ECF6\",\"aaxis\":{\"gridcolor\":\"white\",\"linecolor\":\"white\",\"ticks\":\"\"},\"baxis\":{\"gridcolor\":\"white\",\"linecolor\":\"white\",\"ticks\":\"\"},\"caxis\":{\"gridcolor\":\"white\",\"linecolor\":\"white\",\"ticks\":\"\"}},\"coloraxis\":{\"colorbar\":{\"outlinewidth\":0,\"ticks\":\"\"}},\"colorscale\":{\"sequential\":[[0.0,\"#0d0887\"],[0.1111111111111111,\"#46039f\"],[0.2222222222222222,\"#7201a8\"],[0.3333333333333333,\"#9c179e\"],[0.4444444444444444,\"#bd3786\"],[0.5555555555555556,\"#d8576b\"],[0.6666666666666666,\"#ed7953\"],[0.7777777777777778,\"#fb9f3a\"],[0.8888888888888888,\"#fdca26\"],[1.0,\"#f0f921\"]],\"sequentialminus\":[[0.0,\"#0d0887\"],[0.1111111111111111,\"#46039f\"],[0.2222222222222222,\"#7201a8\"],[0.3333333333333333,\"#9c179e\"],[0.4444444444444444,\"#bd3786\"],[0.5555555555555556,\"#d8576b\"],[0.6666666666666666,\"#ed7953\"],[0.7777777777777778,\"#fb9f3a\"],[0.8888888888888888,\"#fdca26\"],[1.0,\"#f0f921\"]],\"diverging\":[[0,\"#8e0152\"],[0.1,\"#c51b7d\"],[0.2,\"#de77ae\"],[0.3,\"#f1b6da\"],[0.4,\"#fde0ef\"],[0.5,\"#f7f7f7\"],[0.6,\"#e6f5d0\"],[0.7,\"#b8e186\"],[0.8,\"#7fbc41\"],[0.9,\"#4d9221\"],[1,\"#276419\"]]},\"xaxis\":{\"gridcolor\":\"white\",\"linecolor\":\"white\",\"ticks\":\"\",\"title\":{\"standoff\":15},\"zerolinecolor\":\"white\",\"automargin\":true,\"zerolinewidth\":2},\"yaxis\":{\"gridcolor\":\"white\",\"linecolor\":\"white\",\"ticks\":\"\",\"title\":{\"standoff\":15},\"zerolinecolor\":\"white\",\"automargin\":true,\"zerolinewidth\":2},\"scene\":{\"xaxis\":{\"backgroundcolor\":\"#E5ECF6\",\"gridcolor\":\"white\",\"linecolor\":\"white\",\"showbackground\":true,\"ticks\":\"\",\"zerolinecolor\":\"white\",\"gridwidth\":2},\"yaxis\":{\"backgroundcolor\":\"#E5ECF6\",\"gridcolor\":\"white\",\"linecolor\":\"white\",\"showbackground\":true,\"ticks\":\"\",\"zerolinecolor\":\"white\",\"gridwidth\":2},\"zaxis\":{\"backgroundcolor\":\"#E5ECF6\",\"gridcolor\":\"white\",\"linecolor\":\"white\",\"showbackground\":true,\"ticks\":\"\",\"zerolinecolor\":\"white\",\"gridwidth\":2}},\"shapedefaults\":{\"line\":{\"color\":\"#2a3f5f\"}},\"annotationdefaults\":{\"arrowcolor\":\"#2a3f5f\",\"arrowhead\":0,\"arrowwidth\":1},\"geo\":{\"bgcolor\":\"white\",\"landcolor\":\"#E5ECF6\",\"subunitcolor\":\"white\",\"showland\":true,\"showlakes\":true,\"lakecolor\":\"white\"},\"title\":{\"x\":0.05},\"mapbox\":{\"style\":\"light\"}}},\"xaxis\":{\"anchor\":\"y\",\"domain\":[0.0,0.94],\"rangeslider\":{\"visible\":false},\"gridcolor\":\"#1f292f\",\"nticks\":5},\"yaxis\":{\"anchor\":\"x\",\"domain\":[0.0,1.0],\"gridcolor\":\"#1f292f\"},\"yaxis2\":{\"anchor\":\"x\",\"overlaying\":\"y\",\"side\":\"right\",\"gridcolor\":\"#1f292f\"},\"margin\":{\"l\":10,\"r\":10,\"b\":10,\"t\":10},\"font\":{\"size\":8,\"color\":\"#e1e1e1\"},\"width\":900,\"height\":250,\"paper_bgcolor\":\"#2c303c\",\"plot_bgcolor\":\"#2c303c\"},                        {\"responsive\": true}                    ).then(function(){\n",
       "                            \n",
       "var gd = document.getElementById('cc805c12-2fe7-4a1f-b3e4-81ffe4781567');\n",
       "var x = new MutationObserver(function (mutations, observer) {{\n",
       "        var display = window.getComputedStyle(gd).display;\n",
       "        if (!display || display === 'none') {{\n",
       "            console.log([gd, 'removed!']);\n",
       "            Plotly.purge(gd);\n",
       "            observer.disconnect();\n",
       "        }}\n",
       "}});\n",
       "\n",
       "// Listen for the removal of the full notebook cells\n",
       "var notebookContainer = gd.closest('#notebook-container');\n",
       "if (notebookContainer) {{\n",
       "    x.observe(notebookContainer, {childList: true});\n",
       "}}\n",
       "\n",
       "// Listen for the clearing of the current output cell\n",
       "var outputEl = gd.closest('.output');\n",
       "if (outputEl) {{\n",
       "    x.observe(outputEl, {childList: true});\n",
       "}}\n",
       "\n",
       "                        })                };                });            </script>        </div>"
      ]
     },
     "metadata": {},
     "output_type": "display_data"
    }
   ],
   "source": [
    "df_plot = df_slim.iloc[800:900]\n",
    "cp = CandlePlot(df_plot, candles=True)\n",
    "\n",
    "trades = cp.df_plot[cp.df_plot.SIGNAL != NONE]\n",
    "\n",
    "markers = ['mid_c', 'TP', 'SL']\n",
    "\n",
    "marker_colors = ['#0000FF', '#00FF00', '#FF0000']\n",
    "\n",
    "for i in range(3):\n",
    "    cp.fig.add_trace(go.Scatter(\n",
    "        x = trades.sTime,\n",
    "        y = trades[markers[i]], \n",
    "        mode = 'markers',\n",
    "        marker = dict(color = marker_colors[i], size = 12)\n",
    "    ))\n",
    "\n",
    "cp.show_plot(line_traces=[\"EMA_200\"], sec_traces=['RSI_14'],height=250)"
   ]
  },
  {
   "cell_type": "code",
   "execution_count": 31,
   "id": "1e14d126-5f18-4fb5-bcd8-f47556d164cd",
   "metadata": {},
   "outputs": [],
   "source": [
    "class Trade:\n",
    "    def __init__(self, row):\n",
    "        self.running = True\n",
    "        self.start_index = row.name\n",
    "        self.start_price = row.mid_c\n",
    "        self.trigger_price = row.mid_c\n",
    "        self.SIGNAL = row.SIGNAL\n",
    "        self.TP = row.TP\n",
    "        self.SL = row.SL\n",
    "        self.result = 0.0\n",
    "        self.end_time = row.time\n",
    "        self.start_time = row.time\n",
    "        self.duration = 0\n",
    "\n",
    "    \n",
    "    def close_trade(self, row, result, trigger_price):\n",
    "        self.running = False\n",
    "        self.result = result\n",
    "        self.end_time = row.time\n",
    "        self.trigger_price = trigger_price\n",
    "        \n",
    "    def update(self,row):\n",
    "        self.duration += 1\n",
    "        if self.SIGNAL == BUY:\n",
    "            if row.mid_h >= self.TP:\n",
    "                self.close_trade(row, PROFIT_FACTOR, row.mid_h)\n",
    "            elif row.mid_l <= self.SL:\n",
    "                self.close_trade(row, LOSS_FACTOR, row.mid_l)\n",
    "        if self.SIGNAL == SELL:\n",
    "            if row.mid_l <= self.TP:\n",
    "                self.close_trade(row, PROFIT_FACTOR, row.mid_l)\n",
    "            elif row.mid_h <= self.SL:\n",
    "                self.close_trade(row, LOSS_FACTOR, row.mid_h)\n",
    "        \n",
    "    "
   ]
  },
  {
   "cell_type": "code",
   "execution_count": 32,
   "id": "048b5b9d-e67d-4023-9c10-26137d3c910a",
   "metadata": {},
   "outputs": [],
   "source": [
    "open_trades = []\n",
    "closed_trades = []\n",
    "\n",
    "for index, row in df_slim.iterrows():\n",
    "    for ot in open_trades:\n",
    "        ot.update(row)\n",
    "        if ot.running == False:\n",
    "            closed_trades.append(ot)\n",
    "    open_trades = [x for x in open_trades if x.running == True]\n",
    "\n",
    "    if row.SIGNAL != NONE:\n",
    "        open_trades.append(Trade(row)) \n",
    "\n"
   ]
  },
  {
   "cell_type": "code",
   "execution_count": 33,
   "id": "e4366501-13e0-4eec-8530-01f3f5a1d158",
   "metadata": {},
   "outputs": [
    {
     "data": {
      "text/html": [
       "<div>\n",
       "<style scoped>\n",
       "    .dataframe tbody tr th:only-of-type {\n",
       "        vertical-align: middle;\n",
       "    }\n",
       "\n",
       "    .dataframe tbody tr th {\n",
       "        vertical-align: top;\n",
       "    }\n",
       "\n",
       "    .dataframe thead th {\n",
       "        text-align: right;\n",
       "    }\n",
       "</style>\n",
       "<table border=\"1\" class=\"dataframe\">\n",
       "  <thead>\n",
       "    <tr style=\"text-align: right;\">\n",
       "      <th></th>\n",
       "      <th>running</th>\n",
       "      <th>start_index</th>\n",
       "      <th>start_price</th>\n",
       "      <th>trigger_price</th>\n",
       "      <th>SIGNAL</th>\n",
       "      <th>TP</th>\n",
       "      <th>SL</th>\n",
       "      <th>result</th>\n",
       "      <th>end_time</th>\n",
       "      <th>start_time</th>\n",
       "      <th>duration</th>\n",
       "    </tr>\n",
       "  </thead>\n",
       "  <tbody>\n",
       "    <tr>\n",
       "      <th>0</th>\n",
       "      <td>False</td>\n",
       "      <td>73</td>\n",
       "      <td>168.670</td>\n",
       "      <td>169.961</td>\n",
       "      <td>1</td>\n",
       "      <td>169.5910</td>\n",
       "      <td>168.056</td>\n",
       "      <td>1.5</td>\n",
       "      <td>2016-01-22 14:00:00+00:00</td>\n",
       "      <td>2016-01-22 08:00:00+00:00</td>\n",
       "      <td>6</td>\n",
       "    </tr>\n",
       "    <tr>\n",
       "      <th>1</th>\n",
       "      <td>False</td>\n",
       "      <td>76</td>\n",
       "      <td>168.914</td>\n",
       "      <td>169.961</td>\n",
       "      <td>1</td>\n",
       "      <td>169.5485</td>\n",
       "      <td>168.491</td>\n",
       "      <td>1.5</td>\n",
       "      <td>2016-01-22 14:00:00+00:00</td>\n",
       "      <td>2016-01-22 11:00:00+00:00</td>\n",
       "      <td>3</td>\n",
       "    </tr>\n",
       "    <tr>\n",
       "      <th>2</th>\n",
       "      <td>False</td>\n",
       "      <td>79</td>\n",
       "      <td>169.932</td>\n",
       "      <td>168.996</td>\n",
       "      <td>1</td>\n",
       "      <td>171.1200</td>\n",
       "      <td>169.140</td>\n",
       "      <td>-1.0</td>\n",
       "      <td>2016-01-24 23:00:00+00:00</td>\n",
       "      <td>2016-01-22 14:00:00+00:00</td>\n",
       "      <td>9</td>\n",
       "    </tr>\n",
       "    <tr>\n",
       "      <th>3</th>\n",
       "      <td>False</td>\n",
       "      <td>95</td>\n",
       "      <td>169.875</td>\n",
       "      <td>169.158</td>\n",
       "      <td>1</td>\n",
       "      <td>170.1105</td>\n",
       "      <td>169.718</td>\n",
       "      <td>-1.0</td>\n",
       "      <td>2016-01-25 07:00:00+00:00</td>\n",
       "      <td>2016-01-25 06:00:00+00:00</td>\n",
       "      <td>1</td>\n",
       "    </tr>\n",
       "    <tr>\n",
       "      <th>4</th>\n",
       "      <td>False</td>\n",
       "      <td>101</td>\n",
       "      <td>169.218</td>\n",
       "      <td>168.538</td>\n",
       "      <td>1</td>\n",
       "      <td>170.1900</td>\n",
       "      <td>168.570</td>\n",
       "      <td>-1.0</td>\n",
       "      <td>2016-01-25 13:00:00+00:00</td>\n",
       "      <td>2016-01-25 12:00:00+00:00</td>\n",
       "      <td>1</td>\n",
       "    </tr>\n",
       "    <tr>\n",
       "      <th>...</th>\n",
       "      <td>...</td>\n",
       "      <td>...</td>\n",
       "      <td>...</td>\n",
       "      <td>...</td>\n",
       "      <td>...</td>\n",
       "      <td>...</td>\n",
       "      <td>...</td>\n",
       "      <td>...</td>\n",
       "      <td>...</td>\n",
       "      <td>...</td>\n",
       "      <td>...</td>\n",
       "    </tr>\n",
       "    <tr>\n",
       "      <th>2769</th>\n",
       "      <td>False</td>\n",
       "      <td>36987</td>\n",
       "      <td>154.406</td>\n",
       "      <td>154.809</td>\n",
       "      <td>1</td>\n",
       "      <td>154.6190</td>\n",
       "      <td>154.264</td>\n",
       "      <td>1.5</td>\n",
       "      <td>2021-12-29 13:00:00+00:00</td>\n",
       "      <td>2021-12-29 10:00:00+00:00</td>\n",
       "      <td>3</td>\n",
       "    </tr>\n",
       "    <tr>\n",
       "      <th>2770</th>\n",
       "      <td>False</td>\n",
       "      <td>36998</td>\n",
       "      <td>155.095</td>\n",
       "      <td>155.041</td>\n",
       "      <td>1</td>\n",
       "      <td>155.1685</td>\n",
       "      <td>155.046</td>\n",
       "      <td>-1.0</td>\n",
       "      <td>2021-12-29 22:00:00+00:00</td>\n",
       "      <td>2021-12-29 21:00:00+00:00</td>\n",
       "      <td>1</td>\n",
       "    </tr>\n",
       "    <tr>\n",
       "      <th>2771</th>\n",
       "      <td>False</td>\n",
       "      <td>36990</td>\n",
       "      <td>154.680</td>\n",
       "      <td>155.224</td>\n",
       "      <td>1</td>\n",
       "      <td>155.1585</td>\n",
       "      <td>154.361</td>\n",
       "      <td>1.5</td>\n",
       "      <td>2021-12-30 00:00:00+00:00</td>\n",
       "      <td>2021-12-29 13:00:00+00:00</td>\n",
       "      <td>11</td>\n",
       "    </tr>\n",
       "    <tr>\n",
       "      <th>2772</th>\n",
       "      <td>False</td>\n",
       "      <td>37006</td>\n",
       "      <td>155.192</td>\n",
       "      <td>155.132</td>\n",
       "      <td>1</td>\n",
       "      <td>155.2580</td>\n",
       "      <td>155.148</td>\n",
       "      <td>-1.0</td>\n",
       "      <td>2021-12-30 06:00:00+00:00</td>\n",
       "      <td>2021-12-30 05:00:00+00:00</td>\n",
       "      <td>1</td>\n",
       "    </tr>\n",
       "    <tr>\n",
       "      <th>2773</th>\n",
       "      <td>False</td>\n",
       "      <td>37020</td>\n",
       "      <td>155.444</td>\n",
       "      <td>155.289</td>\n",
       "      <td>1</td>\n",
       "      <td>155.6420</td>\n",
       "      <td>155.312</td>\n",
       "      <td>-1.0</td>\n",
       "      <td>2021-12-30 20:00:00+00:00</td>\n",
       "      <td>2021-12-30 19:00:00+00:00</td>\n",
       "      <td>1</td>\n",
       "    </tr>\n",
       "  </tbody>\n",
       "</table>\n",
       "<p>2774 rows × 11 columns</p>\n",
       "</div>"
      ],
      "text/plain": [
       "      running  start_index  start_price  trigger_price  SIGNAL        TP  \\\n",
       "0       False           73      168.670        169.961       1  169.5910   \n",
       "1       False           76      168.914        169.961       1  169.5485   \n",
       "2       False           79      169.932        168.996       1  171.1200   \n",
       "3       False           95      169.875        169.158       1  170.1105   \n",
       "4       False          101      169.218        168.538       1  170.1900   \n",
       "...       ...          ...          ...            ...     ...       ...   \n",
       "2769    False        36987      154.406        154.809       1  154.6190   \n",
       "2770    False        36998      155.095        155.041       1  155.1685   \n",
       "2771    False        36990      154.680        155.224       1  155.1585   \n",
       "2772    False        37006      155.192        155.132       1  155.2580   \n",
       "2773    False        37020      155.444        155.289       1  155.6420   \n",
       "\n",
       "           SL  result                  end_time                start_time  \\\n",
       "0     168.056     1.5 2016-01-22 14:00:00+00:00 2016-01-22 08:00:00+00:00   \n",
       "1     168.491     1.5 2016-01-22 14:00:00+00:00 2016-01-22 11:00:00+00:00   \n",
       "2     169.140    -1.0 2016-01-24 23:00:00+00:00 2016-01-22 14:00:00+00:00   \n",
       "3     169.718    -1.0 2016-01-25 07:00:00+00:00 2016-01-25 06:00:00+00:00   \n",
       "4     168.570    -1.0 2016-01-25 13:00:00+00:00 2016-01-25 12:00:00+00:00   \n",
       "...       ...     ...                       ...                       ...   \n",
       "2769  154.264     1.5 2021-12-29 13:00:00+00:00 2021-12-29 10:00:00+00:00   \n",
       "2770  155.046    -1.0 2021-12-29 22:00:00+00:00 2021-12-29 21:00:00+00:00   \n",
       "2771  154.361     1.5 2021-12-30 00:00:00+00:00 2021-12-29 13:00:00+00:00   \n",
       "2772  155.148    -1.0 2021-12-30 06:00:00+00:00 2021-12-30 05:00:00+00:00   \n",
       "2773  155.312    -1.0 2021-12-30 20:00:00+00:00 2021-12-30 19:00:00+00:00   \n",
       "\n",
       "      duration  \n",
       "0            6  \n",
       "1            3  \n",
       "2            9  \n",
       "3            1  \n",
       "4            1  \n",
       "...        ...  \n",
       "2769         3  \n",
       "2770         1  \n",
       "2771        11  \n",
       "2772         1  \n",
       "2773         1  \n",
       "\n",
       "[2774 rows x 11 columns]"
      ]
     },
     "execution_count": 33,
     "metadata": {},
     "output_type": "execute_result"
    }
   ],
   "source": [
    "df_results = pd.DataFrame.from_dict([vars(x) for x in closed_trades])\n",
    "df_results"
   ]
  },
  {
   "cell_type": "code",
   "execution_count": 34,
   "id": "abe9a961-0278-473a-97e5-291ad0d81259",
   "metadata": {},
   "outputs": [
    {
     "data": {
      "text/plain": [
       "26.0"
      ]
     },
     "execution_count": 34,
     "metadata": {},
     "output_type": "execute_result"
    }
   ],
   "source": [
    "df_results.result.sum()"
   ]
  },
  {
   "cell_type": "code",
   "execution_count": 35,
   "id": "b77939cb-35f4-40d6-8f74-f4e3607f5e4b",
   "metadata": {},
   "outputs": [],
   "source": [
    "df_results.sort_values(by=\"start_index\", inplace = True)"
   ]
  },
  {
   "cell_type": "code",
   "execution_count": 37,
   "id": "cc2df564-0934-4806-8841-95b9c17705b7",
   "metadata": {},
   "outputs": [],
   "source": [
    "df_m5 = pd.read_pickle(\"../data/EUR_USD_M5.pkl\")"
   ]
  },
  {
   "cell_type": "code",
   "execution_count": 38,
   "id": "6d3913e8-5843-419d-84c6-47ddcee8acf4",
   "metadata": {},
   "outputs": [
    {
     "data": {
      "text/plain": [
       "(445038, 14)"
      ]
     },
     "execution_count": 38,
     "metadata": {},
     "output_type": "execute_result"
    }
   ],
   "source": [
    "df_m5.shape"
   ]
  },
  {
   "cell_type": "code",
   "execution_count": 39,
   "id": "3a9756fb-c7f0-45c3-a0a3-6b615aa31809",
   "metadata": {},
   "outputs": [],
   "source": [
    "\n"
   ]
  },
  {
   "cell_type": "code",
   "execution_count": null,
   "id": "e2d6501c-3b87-4103-8115-01f573a765de",
   "metadata": {},
   "outputs": [],
   "source": [
    "time_min = parser.parse(\"2021-12-15T10:00:00Z\")\n",
    "time_max = parser.parse(\"2021-12-15T11:00:00Z\")"
   ]
  },
  {
   "cell_type": "code",
   "execution_count": null,
   "id": "9e0af71a-5053-4db2-a225-ac32eaaf4349",
   "metadata": {},
   "outputs": [],
   "source": []
  },
  {
   "cell_type": "code",
   "execution_count": null,
   "id": "6f27fe5b-f5ef-4abd-b591-77113dbc9fe9",
   "metadata": {},
   "outputs": [],
   "source": []
  },
  {
   "cell_type": "code",
   "execution_count": null,
   "id": "cd2e29f8-f61d-4d50-95dd-ce2aee9caa4a",
   "metadata": {},
   "outputs": [],
   "source": []
  },
  {
   "cell_type": "code",
   "execution_count": null,
   "id": "3ad1832a-04de-4149-a1fe-399ac6bddd02",
   "metadata": {},
   "outputs": [],
   "source": []
  },
  {
   "cell_type": "code",
   "execution_count": null,
   "id": "5438c408-455f-4c7b-9410-a5e220ee607a",
   "metadata": {},
   "outputs": [],
   "source": []
  },
  {
   "cell_type": "code",
   "execution_count": null,
   "id": "bb9a3d00-5acc-4821-8807-ca6b5db1715a",
   "metadata": {},
   "outputs": [],
   "source": []
  },
  {
   "cell_type": "code",
   "execution_count": null,
   "id": "6097bc96-a858-42f0-a03c-717700df5ee8",
   "metadata": {},
   "outputs": [],
   "source": []
  },
  {
   "cell_type": "code",
   "execution_count": null,
   "id": "53978104-421e-4f16-a1de-48e22fc94981",
   "metadata": {},
   "outputs": [],
   "source": []
  },
  {
   "cell_type": "code",
   "execution_count": null,
   "id": "2dcaf3d8-5dcd-4e99-81eb-fd69f883db56",
   "metadata": {},
   "outputs": [],
   "source": []
  },
  {
   "cell_type": "code",
   "execution_count": null,
   "id": "c213d2cf-37cd-469e-8397-a4c944d10779",
   "metadata": {},
   "outputs": [],
   "source": []
  },
  {
   "cell_type": "code",
   "execution_count": null,
   "id": "e650db97-5826-4e77-a274-904b39050d6c",
   "metadata": {},
   "outputs": [],
   "source": []
  },
  {
   "cell_type": "code",
   "execution_count": null,
   "id": "2d948489-1d84-4efc-a535-a1671464ae93",
   "metadata": {},
   "outputs": [],
   "source": []
  },
  {
   "cell_type": "code",
   "execution_count": null,
   "id": "61a658e4-229a-4407-8835-99b94ce5c16a",
   "metadata": {},
   "outputs": [],
   "source": []
  },
  {
   "cell_type": "code",
   "execution_count": null,
   "id": "dbaccc0a-32bc-4e50-b00e-57225fb63e4f",
   "metadata": {},
   "outputs": [],
   "source": []
  },
  {
   "cell_type": "code",
   "execution_count": null,
   "id": "07341f8a-fb97-4f52-853e-8ed571c736df",
   "metadata": {},
   "outputs": [],
   "source": []
  },
  {
   "cell_type": "code",
   "execution_count": null,
   "id": "d98c50ec-32bc-4d6b-b5ff-9b7640cd8adf",
   "metadata": {},
   "outputs": [],
   "source": []
  },
  {
   "cell_type": "code",
   "execution_count": null,
   "id": "ef060b18-3264-49ef-a7d2-49bbf80bb166",
   "metadata": {},
   "outputs": [],
   "source": []
  }
 ],
 "metadata": {
  "kernelspec": {
   "display_name": "Python 3 (ipykernel)",
   "language": "python",
   "name": "python3"
  },
  "language_info": {
   "codemirror_mode": {
    "name": "ipython",
    "version": 3
   },
   "file_extension": ".py",
   "mimetype": "text/x-python",
   "name": "python",
   "nbconvert_exporter": "python",
   "pygments_lexer": "ipython3",
   "version": "3.10.5"
  }
 },
 "nbformat": 4,
 "nbformat_minor": 5
}
