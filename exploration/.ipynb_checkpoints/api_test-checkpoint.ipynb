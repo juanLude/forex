{
 "cells": [
  {
   "cell_type": "code",
   "execution_count": 84,
   "id": "8cdfcc77-9439-4374-8556-e94a15e2131b",
   "metadata": {},
   "outputs": [],
   "source": [
    "import requests\n",
    "import pandas as pd\n",
    "import json "
   ]
  },
  {
   "cell_type": "code",
   "execution_count": 85,
   "id": "d8dfb45e-f5b5-4518-a32b-80ea23d0f384",
   "metadata": {},
   "outputs": [],
   "source": [
    "API_KEY= \"7203735f4489a07b1fdaa82e0825b643-037a13c8ecd863561ee2fb38166bda77\"\n",
    "ACCOUNT_ID = \"101-011-28651499-001\"\n",
    "OANDA_URL = \"https://api-fxpractice.oanda.com/v3\""
   ]
  },
  {
   "cell_type": "code",
   "execution_count": 86,
   "id": "58fb0b48-0975-4b1a-bead-7f267a5318e5",
   "metadata": {},
   "outputs": [],
   "source": [
    "session = requests.Session()"
   ]
  },
  {
   "cell_type": "code",
   "execution_count": 87,
   "id": "8619b8d4-5df8-4cf5-9506-915212b5491e",
   "metadata": {},
   "outputs": [],
   "source": [
    "session.headers.update({\n",
    "    \"Authorization\": f\"Bearer {API_KEY}\",\n",
    "    \"Content-Type\": \"application/json\"\n",
    "})"
   ]
  },
  {
   "cell_type": "code",
   "execution_count": 88,
   "id": "97d601e2-d589-46cb-87dd-5acd784395f3",
   "metadata": {},
   "outputs": [],
   "source": [
    "params = dict(\n",
    "    count = 10,\n",
    "    granularity=\"H1\",\n",
    "    price=\"MBA\"\n",
    ")"
   ]
  },
  {
   "cell_type": "code",
   "execution_count": 89,
   "id": "fc5c2f99-33ea-46db-9b28-cfb57ce678f2",
   "metadata": {},
   "outputs": [],
   "source": [
    "url = f\"{OANDA_URL}/accounts/{ACCOUNT_ID}/instruments\""
   ]
  },
  {
   "cell_type": "code",
   "execution_count": 90,
   "id": "65e45fa0-a6dd-4534-9843-bdd62e5c1d6e",
   "metadata": {},
   "outputs": [],
   "source": [
    "response =session.get(url,params=None, data=None,headers=None)"
   ]
  },
  {
   "cell_type": "code",
   "execution_count": 91,
   "id": "2069e7d5-cc27-47b2-aa11-e23f63c77bb1",
   "metadata": {
    "scrolled": true
   },
   "outputs": [
    {
     "data": {
      "text/plain": [
       "200"
      ]
     },
     "execution_count": 91,
     "metadata": {},
     "output_type": "execute_result"
    }
   ],
   "source": [
    "response.status_code\n"
   ]
  },
  {
   "cell_type": "code",
   "execution_count": 92,
   "id": "cb8e66e3-a193-42d6-9492-9b2e8f8f0d66",
   "metadata": {},
   "outputs": [],
   "source": [
    "data = response.json()"
   ]
  },
  {
   "cell_type": "code",
   "execution_count": 93,
   "id": "5d2d129f-be59-4462-869c-78cd14f7469d",
   "metadata": {},
   "outputs": [],
   "source": [
    "instruments_list = data['instruments']"
   ]
  },
  {
   "cell_type": "code",
   "execution_count": 94,
   "id": "3eec8b29-c06d-4dd7-bc71-bd542fed2762",
   "metadata": {},
   "outputs": [
    {
     "data": {
      "text/plain": [
       "127"
      ]
     },
     "execution_count": 94,
     "metadata": {},
     "output_type": "execute_result"
    }
   ],
   "source": [
    "len(instruments_list)"
   ]
  },
  {
   "cell_type": "code",
   "execution_count": 95,
   "id": "c22917a7-3600-4d9d-8458-c0205159bfc2",
   "metadata": {},
   "outputs": [
    {
     "data": {
      "text/plain": [
       "dict_keys(['name', 'type', 'displayName', 'pipLocation', 'displayPrecision', 'tradeUnitsPrecision', 'minimumTradeSize', 'maximumTrailingStopDistance', 'minimumTrailingStopDistance', 'maximumPositionSize', 'maximumOrderUnits', 'marginRate', 'guaranteedStopLossOrderMode', 'tags', 'financing'])"
      ]
     },
     "execution_count": 95,
     "metadata": {},
     "output_type": "execute_result"
    }
   ],
   "source": [
    "instruments_list[0].keys()"
   ]
  },
  {
   "cell_type": "code",
   "execution_count": 96,
   "id": "5fd5414f-5a22-45f4-95f5-7e298fc65114",
   "metadata": {},
   "outputs": [],
   "source": [
    "key_i = ['name', 'type', 'displayName', 'pipLocation', 'displayPrecision', 'tradeUnitsPrecision','marginRate']"
   ]
  },
  {
   "cell_type": "code",
   "execution_count": 99,
   "id": "ce4f222e-b93a-45a5-a5c9-7e3c7945c23a",
   "metadata": {},
   "outputs": [],
   "source": [
    "instruments_dict = {}"
   ]
  },
  {
   "cell_type": "code",
   "execution_count": 102,
   "id": "b747942b-557e-498e-ab3d-eb0e39113f86",
   "metadata": {},
   "outputs": [],
   "source": [
    "for i in instruments_list: \n",
    "    key = i['name']\n",
    "    instruments_dict[key] = { k: i[k] for k in key_i}"
   ]
  },
  {
   "cell_type": "code",
   "execution_count": 104,
   "id": "ea7a4087-3c23-4b38-b49e-935ef8be1943",
   "metadata": {},
   "outputs": [
    {
     "data": {
      "text/plain": [
       "{'name': 'USD_CAD',\n",
       " 'type': 'CURRENCY',\n",
       " 'displayName': 'USD/CAD',\n",
       " 'pipLocation': -4,\n",
       " 'displayPrecision': 5,\n",
       " 'tradeUnitsPrecision': 0,\n",
       " 'marginRate': '0.0333'}"
      ]
     },
     "execution_count": 104,
     "metadata": {},
     "output_type": "execute_result"
    }
   ],
   "source": [
    "instruments_dict['USD_CAD']"
   ]
  },
  {
   "cell_type": "code",
   "execution_count": 105,
   "id": "d6d63dd4-b8b4-4cfc-87b6-94199c952201",
   "metadata": {},
   "outputs": [],
   "source": [
    "with open (\"../data/instruments.json\",\"w\") as f:\n",
    "    f.write(json.dumps(instruments_dict, indent=2))"
   ]
  },
  {
   "cell_type": "code",
   "execution_count": 4,
   "id": "69b31939-f6cf-48ab-afa6-bbed9b943354",
   "metadata": {
    "scrolled": true
   },
   "outputs": [],
   "source": [
    "def fetch_candles(pair_name, count=10, granularity=\"H1\"):\n",
    "    url = f\"{OANDA_URL}/instruments/{pair_name}/candles\"\n",
    "    params = dict(\n",
    "        count = count,\n",
    "        granularity=granularity,\n",
    "        price=\"MBA\"\n",
    "        )\n",
    "    response =session.get(url,params=params, data=None,headers=None)\n",
    "    data = response.json()\n",
    "\n",
    "    if response.status_code == 200:\n",
    "        if 'candles' not in data:\n",
    "            data = []\n",
    "        else:\n",
    "            data = data['candles']\n",
    "    return response.status_code, data\n",
    "        "
   ]
  },
  {
   "cell_type": "code",
   "execution_count": 9,
   "id": "ce05e086-dfff-4333-a9b2-19e0b61404c6",
   "metadata": {},
   "outputs": [
    {
     "ename": "NameError",
     "evalue": "name 'OANDA_URL' is not defined",
     "output_type": "error",
     "traceback": [
      "\u001b[1;31m---------------------------------------------------------------------------\u001b[0m",
      "\u001b[1;31mNameError\u001b[0m                                 Traceback (most recent call last)",
      "Cell \u001b[1;32mIn[9], line 1\u001b[0m\n\u001b[1;32m----> 1\u001b[0m code, data \u001b[38;5;241m=\u001b[39m \u001b[43mfetch_candles\u001b[49m\u001b[43m(\u001b[49m\u001b[38;5;124;43m\"\u001b[39;49m\u001b[38;5;124;43mEUR_USD\u001b[39;49m\u001b[38;5;124;43m\"\u001b[39;49m\u001b[43m,\u001b[49m\u001b[43m \u001b[49m\u001b[43mcount\u001b[49m\u001b[38;5;241;43m=\u001b[39;49m\u001b[38;5;241;43m20\u001b[39;49m\u001b[43m)\u001b[49m\n",
      "Cell \u001b[1;32mIn[4], line 2\u001b[0m, in \u001b[0;36mfetch_candles\u001b[1;34m(pair_name, count, granularity)\u001b[0m\n\u001b[0;32m      1\u001b[0m \u001b[38;5;28;01mdef\u001b[39;00m \u001b[38;5;21mfetch_candles\u001b[39m(pair_name, count\u001b[38;5;241m=\u001b[39m\u001b[38;5;241m10\u001b[39m, granularity\u001b[38;5;241m=\u001b[39m\u001b[38;5;124m\"\u001b[39m\u001b[38;5;124mH1\u001b[39m\u001b[38;5;124m\"\u001b[39m):\n\u001b[1;32m----> 2\u001b[0m     url \u001b[38;5;241m=\u001b[39m \u001b[38;5;124mf\u001b[39m\u001b[38;5;124m\"\u001b[39m\u001b[38;5;132;01m{\u001b[39;00mOANDA_URL\u001b[38;5;132;01m}\u001b[39;00m\u001b[38;5;124m/instruments/\u001b[39m\u001b[38;5;132;01m{\u001b[39;00mpair_name\u001b[38;5;132;01m}\u001b[39;00m\u001b[38;5;124m/candles\u001b[39m\u001b[38;5;124m\"\u001b[39m\n\u001b[0;32m      3\u001b[0m     params \u001b[38;5;241m=\u001b[39m \u001b[38;5;28mdict\u001b[39m(\n\u001b[0;32m      4\u001b[0m         count \u001b[38;5;241m=\u001b[39m count,\n\u001b[0;32m      5\u001b[0m         granularity\u001b[38;5;241m=\u001b[39mgranularity,\n\u001b[0;32m      6\u001b[0m         price\u001b[38;5;241m=\u001b[39m\u001b[38;5;124m\"\u001b[39m\u001b[38;5;124mMBA\u001b[39m\u001b[38;5;124m\"\u001b[39m\n\u001b[0;32m      7\u001b[0m         )\n\u001b[0;32m      8\u001b[0m     response \u001b[38;5;241m=\u001b[39msession\u001b[38;5;241m.\u001b[39mget(url,params\u001b[38;5;241m=\u001b[39mparams, data\u001b[38;5;241m=\u001b[39m\u001b[38;5;28;01mNone\u001b[39;00m,headers\u001b[38;5;241m=\u001b[39m\u001b[38;5;28;01mNone\u001b[39;00m)\n",
      "\u001b[1;31mNameError\u001b[0m: name 'OANDA_URL' is not defined"
     ]
    }
   ],
   "source": [
    "code, data = fetch_candles(\"EUR_USD\", count=20)"
   ]
  },
  {
   "cell_type": "code",
   "execution_count": null,
   "id": "1c4f1e60-97b7-41fd-a059-28670c84fdef",
   "metadata": {},
   "outputs": [],
   "source": []
  }
 ],
 "metadata": {
  "kernelspec": {
   "display_name": "Python 3 (ipykernel)",
   "language": "python",
   "name": "python3"
  },
  "language_info": {
   "codemirror_mode": {
    "name": "ipython",
    "version": 3
   },
   "file_extension": ".py",
   "mimetype": "text/x-python",
   "name": "python",
   "nbconvert_exporter": "python",
   "pygments_lexer": "ipython3",
   "version": "3.10.5"
  }
 },
 "nbformat": 4,
 "nbformat_minor": 5
}
