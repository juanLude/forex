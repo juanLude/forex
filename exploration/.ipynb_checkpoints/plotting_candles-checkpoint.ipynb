{
 "cells": [
  {
   "cell_type": "code",
   "execution_count": 1,
   "id": "de406d41-72ac-4424-a7b6-8716ac108031",
   "metadata": {},
   "outputs": [],
   "source": [
    "import pandas as pd\n",
    "import plotly.graph_objects as go\n",
    "import datetime as dt"
   ]
  },
  {
   "cell_type": "code",
   "execution_count": 3,
   "id": "fb59dd5c-053a-489f-a760-f69888718249",
   "metadata": {},
   "outputs": [],
   "source": [
    "pair = \"EUR_USD\"\n",
    "granularity = \"H4\"\n",
    "df = pd.read_pickle(f\"../data/{pair}_{granularity}.pkl\")"
   ]
  },
  {
   "cell_type": "code",
   "execution_count": 6,
   "id": "b2960ff2-0c73-42d9-b0e7-84a0dcaeda75",
   "metadata": {},
   "outputs": [
    {
     "data": {
      "text/html": [
       "<div>\n",
       "<style scoped>\n",
       "    .dataframe tbody tr th:only-of-type {\n",
       "        vertical-align: middle;\n",
       "    }\n",
       "\n",
       "    .dataframe tbody tr th {\n",
       "        vertical-align: top;\n",
       "    }\n",
       "\n",
       "    .dataframe thead th {\n",
       "        text-align: right;\n",
       "    }\n",
       "</style>\n",
       "<table border=\"1\" class=\"dataframe\">\n",
       "  <thead>\n",
       "    <tr style=\"text-align: right;\">\n",
       "      <th></th>\n",
       "      <th>time</th>\n",
       "      <th>volume</th>\n",
       "      <th>mid_o</th>\n",
       "      <th>mid_h</th>\n",
       "      <th>mid_l</th>\n",
       "      <th>mid_c</th>\n",
       "      <th>bid_o</th>\n",
       "      <th>bid_h</th>\n",
       "      <th>bid_l</th>\n",
       "      <th>bid_c</th>\n",
       "      <th>ask_o</th>\n",
       "      <th>ask_h</th>\n",
       "      <th>ask_l</th>\n",
       "      <th>ask_c</th>\n",
       "    </tr>\n",
       "  </thead>\n",
       "  <tbody>\n",
       "    <tr>\n",
       "      <th>4</th>\n",
       "      <td>2024-06-26 05:00:00+00:00</td>\n",
       "      <td>11868</td>\n",
       "      <td>1.07104</td>\n",
       "      <td>1.07114</td>\n",
       "      <td>1.06854</td>\n",
       "      <td>1.06949</td>\n",
       "      <td>1.07096</td>\n",
       "      <td>1.07106</td>\n",
       "      <td>1.06847</td>\n",
       "      <td>1.06942</td>\n",
       "      <td>1.07112</td>\n",
       "      <td>1.07121</td>\n",
       "      <td>1.06861</td>\n",
       "      <td>1.06956</td>\n",
       "    </tr>\n",
       "    <tr>\n",
       "      <th>5</th>\n",
       "      <td>2024-06-26 09:00:00+00:00</td>\n",
       "      <td>13725</td>\n",
       "      <td>1.06948</td>\n",
       "      <td>1.06996</td>\n",
       "      <td>1.06770</td>\n",
       "      <td>1.06772</td>\n",
       "      <td>1.06941</td>\n",
       "      <td>1.06989</td>\n",
       "      <td>1.06763</td>\n",
       "      <td>1.06765</td>\n",
       "      <td>1.06956</td>\n",
       "      <td>1.07004</td>\n",
       "      <td>1.06778</td>\n",
       "      <td>1.06779</td>\n",
       "    </tr>\n",
       "    <tr>\n",
       "      <th>6</th>\n",
       "      <td>2024-06-26 13:00:00+00:00</td>\n",
       "      <td>18402</td>\n",
       "      <td>1.06771</td>\n",
       "      <td>1.06959</td>\n",
       "      <td>1.06660</td>\n",
       "      <td>1.06821</td>\n",
       "      <td>1.06764</td>\n",
       "      <td>1.06952</td>\n",
       "      <td>1.06653</td>\n",
       "      <td>1.06814</td>\n",
       "      <td>1.06778</td>\n",
       "      <td>1.06966</td>\n",
       "      <td>1.06668</td>\n",
       "      <td>1.06828</td>\n",
       "    </tr>\n",
       "    <tr>\n",
       "      <th>7</th>\n",
       "      <td>2024-06-26 17:00:00+00:00</td>\n",
       "      <td>6821</td>\n",
       "      <td>1.06822</td>\n",
       "      <td>1.06909</td>\n",
       "      <td>1.06750</td>\n",
       "      <td>1.06801</td>\n",
       "      <td>1.06814</td>\n",
       "      <td>1.06902</td>\n",
       "      <td>1.06743</td>\n",
       "      <td>1.06794</td>\n",
       "      <td>1.06829</td>\n",
       "      <td>1.06916</td>\n",
       "      <td>1.06757</td>\n",
       "      <td>1.06808</td>\n",
       "    </tr>\n",
       "    <tr>\n",
       "      <th>8</th>\n",
       "      <td>2024-06-26 21:00:00+00:00</td>\n",
       "      <td>4352</td>\n",
       "      <td>1.06814</td>\n",
       "      <td>1.06822</td>\n",
       "      <td>1.06770</td>\n",
       "      <td>1.06783</td>\n",
       "      <td>1.06795</td>\n",
       "      <td>1.06814</td>\n",
       "      <td>1.06763</td>\n",
       "      <td>1.06775</td>\n",
       "      <td>1.06834</td>\n",
       "      <td>1.06834</td>\n",
       "      <td>1.06778</td>\n",
       "      <td>1.06791</td>\n",
       "    </tr>\n",
       "  </tbody>\n",
       "</table>\n",
       "</div>"
      ],
      "text/plain": [
       "                       time  volume    mid_o    mid_h    mid_l    mid_c  \\\n",
       "4 2024-06-26 05:00:00+00:00   11868  1.07104  1.07114  1.06854  1.06949   \n",
       "5 2024-06-26 09:00:00+00:00   13725  1.06948  1.06996  1.06770  1.06772   \n",
       "6 2024-06-26 13:00:00+00:00   18402  1.06771  1.06959  1.06660  1.06821   \n",
       "7 2024-06-26 17:00:00+00:00    6821  1.06822  1.06909  1.06750  1.06801   \n",
       "8 2024-06-26 21:00:00+00:00    4352  1.06814  1.06822  1.06770  1.06783   \n",
       "\n",
       "     bid_o    bid_h    bid_l    bid_c    ask_o    ask_h    ask_l    ask_c  \n",
       "4  1.07096  1.07106  1.06847  1.06942  1.07112  1.07121  1.06861  1.06956  \n",
       "5  1.06941  1.06989  1.06763  1.06765  1.06956  1.07004  1.06778  1.06779  \n",
       "6  1.06764  1.06952  1.06653  1.06814  1.06778  1.06966  1.06668  1.06828  \n",
       "7  1.06814  1.06902  1.06743  1.06794  1.06829  1.06916  1.06757  1.06808  \n",
       "8  1.06795  1.06814  1.06763  1.06775  1.06834  1.06834  1.06778  1.06791  "
      ]
     },
     "execution_count": 6,
     "metadata": {},
     "output_type": "execute_result"
    }
   ],
   "source": [
    "df.tail()"
   ]
  },
  {
   "cell_type": "code",
   "execution_count": 7,
   "id": "c0bbfb4c-9279-4c8f-b94f-ec1452a092c6",
   "metadata": {},
   "outputs": [],
   "source": [
    "df_plot = df.iloc[:100]"
   ]
  },
  {
   "cell_type": "code",
   "execution_count": 9,
   "id": "2a975851-77a8-4ed3-86ef-b5c7b07afaa4",
   "metadata": {},
   "outputs": [
    {
     "ename": "SyntaxError",
     "evalue": "incomplete input (292125246.py, line 7)",
     "output_type": "error",
     "traceback": [
      "\u001b[1;36m  Cell \u001b[1;32mIn[9], line 7\u001b[1;36m\u001b[0m\n\u001b[1;33m    close=df_plot.mid_c\u001b[0m\n\u001b[1;37m                       ^\u001b[0m\n\u001b[1;31mSyntaxError\u001b[0m\u001b[1;31m:\u001b[0m incomplete input\n"
     ]
    }
   ],
   "source": [
    "fig = go.Figure()\n",
    "fig.add_trace(go.Candlestick(\n",
    "    x=df_plot.time,\n",
    "    open=df_plot.mid_o,\n",
    "     high=df_plot.mid_h,\n",
    "     low=df_plot.mid_l,\n",
    "    close=df_plot.mid_c\n",
    "))"
   ]
  },
  {
   "cell_type": "code",
   "execution_count": null,
   "id": "685363c8-28a6-4745-ab39-0c5f08506701",
   "metadata": {},
   "outputs": [],
   "source": []
  }
 ],
 "metadata": {
  "kernelspec": {
   "display_name": "Python 3 (ipykernel)",
   "language": "python",
   "name": "python3"
  },
  "language_info": {
   "codemirror_mode": {
    "name": "ipython",
    "version": 3
   },
   "file_extension": ".py",
   "mimetype": "text/x-python",
   "name": "python",
   "nbconvert_exporter": "python",
   "pygments_lexer": "ipython3",
   "version": "3.10.5"
  }
 },
 "nbformat": 4,
 "nbformat_minor": 5
}
