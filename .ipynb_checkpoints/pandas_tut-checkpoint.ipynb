{
 "cells": [
  {
   "cell_type": "code",
   "execution_count": 3,
   "id": "322b781f-fd49-448e-a000-532959f3bd32",
   "metadata": {},
   "outputs": [
    {
     "name": "stdout",
     "output_type": "stream",
     "text": [
      "C:\\Users\\jmlud\\Desktop\\forex\\pandas_tut.ipynb\n"
     ]
    }
   ],
   "source": [
    "import pandas as pd\n",
    "# import os\n",
    "# notebook_path = os.path.abspath(\"pandas_tut.ipynb\")\n",
    "# print(notebook_path)\n",
    "\n",
    "df = pd.read_csv('pandas_data.csv')"
   ]
  },
  {
   "cell_type": "code",
   "execution_count": null,
   "id": "32f3307c-342b-4e75-912e-f696fec3d7f3",
   "metadata": {},
   "outputs": [],
   "source": []
  }
 ],
 "metadata": {
  "kernelspec": {
   "display_name": "Python 3 (ipykernel)",
   "language": "python",
   "name": "python3"
  },
  "language_info": {
   "codemirror_mode": {
    "name": "ipython",
    "version": 3
   },
   "file_extension": ".py",
   "mimetype": "text/x-python",
   "name": "python",
   "nbconvert_exporter": "python",
   "pygments_lexer": "ipython3",
   "version": "3.10.5"
  }
 },
 "nbformat": 4,
 "nbformat_minor": 5
}
